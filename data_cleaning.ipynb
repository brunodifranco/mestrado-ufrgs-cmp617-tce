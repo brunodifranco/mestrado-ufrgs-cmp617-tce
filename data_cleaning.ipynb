{
 "cells": [
  {
   "cell_type": "code",
   "execution_count": 1,
   "metadata": {},
   "outputs": [],
   "source": [
    "import pandas as pd\n",
    "from config.schemas import dtypes"
   ]
  },
  {
   "cell_type": "code",
   "execution_count": 2,
   "metadata": {},
   "outputs": [],
   "source": [
    "df = pd.read_csv(\"data/tce_licitations.csv\", dtype=dtypes)"
   ]
  },
  {
   "cell_type": "markdown",
   "metadata": {},
   "source": [
    "# 2. **Data Cleaning**"
   ]
  },
  {
   "cell_type": "markdown",
   "metadata": {},
   "source": [
    "### 2.3. **Selecting necessary data**"
   ]
  },
  {
   "cell_type": "code",
   "execution_count": 3,
   "metadata": {},
   "outputs": [
    {
     "data": {
      "text/plain": [
       "Index(['CD_ORGAO', 'NM_ORGAO', 'NR_LICITACAO', 'ANO_LICITACAO',\n",
       "       'CD_TIPO_MODALIDADE', 'NR_COMISSAO', 'TP_OBJETO', 'CD_TIPO_FASE_ATUAL',\n",
       "       'TP_LICITACAO', 'TP_NIVEL_JULGAMENTO', 'TP_CARACTERISTICA_OBJETO',\n",
       "       'TP_NATUREZA', 'DS_OBJETO', 'VL_LICITACAO', 'BL_PERMITE_CONSORCIO',\n",
       "       'DT_ABERTURA', 'DT_HOMOLOGACAO', 'DT_ADJUDICACAO',\n",
       "       'BL_LICIT_PROPRIA_ORGAO', 'VL_HOMOLOGADO', 'DS_OBSERVACAO'],\n",
       "      dtype='object')"
      ]
     },
     "execution_count": 3,
     "metadata": {},
     "output_type": "execute_result"
    }
   ],
   "source": [
    "df.columns"
   ]
  },
  {
   "cell_type": "markdown",
   "metadata": {},
   "source": [
    "First, we will select only those bids where `CD_TIPO_FASE_ATUAL=ADH`, which are the ones that have been approved, according to the TCE [documentation](https://tcers.tc.br/repo/cex/licitacon/eValidador_LicitaCon_Manual_Leiaute_1.4.pdf) in page 27."
   ]
  },
  {
   "cell_type": "code",
   "execution_count": 4,
   "metadata": {},
   "outputs": [],
   "source": [
    "df = df[(df[\"CD_TIPO_FASE_ATUAL\"]==\"ADH\")]"
   ]
  },
  {
   "cell_type": "code",
   "execution_count": 5,
   "metadata": {},
   "outputs": [
    {
     "data": {
      "text/html": [
       "<div>\n",
       "<style scoped>\n",
       "    .dataframe tbody tr th:only-of-type {\n",
       "        vertical-align: middle;\n",
       "    }\n",
       "\n",
       "    .dataframe tbody tr th {\n",
       "        vertical-align: top;\n",
       "    }\n",
       "\n",
       "    .dataframe thead th {\n",
       "        text-align: right;\n",
       "    }\n",
       "</style>\n",
       "<table border=\"1\" class=\"dataframe\">\n",
       "  <thead>\n",
       "    <tr style=\"text-align: right;\">\n",
       "      <th></th>\n",
       "      <th>CD_ORGAO</th>\n",
       "      <th>NM_ORGAO</th>\n",
       "      <th>NR_LICITACAO</th>\n",
       "      <th>ANO_LICITACAO</th>\n",
       "      <th>CD_TIPO_MODALIDADE</th>\n",
       "      <th>NR_COMISSAO</th>\n",
       "      <th>TP_OBJETO</th>\n",
       "      <th>CD_TIPO_FASE_ATUAL</th>\n",
       "      <th>TP_LICITACAO</th>\n",
       "      <th>TP_NIVEL_JULGAMENTO</th>\n",
       "      <th>...</th>\n",
       "      <th>TP_NATUREZA</th>\n",
       "      <th>DS_OBJETO</th>\n",
       "      <th>VL_LICITACAO</th>\n",
       "      <th>BL_PERMITE_CONSORCIO</th>\n",
       "      <th>DT_ABERTURA</th>\n",
       "      <th>DT_HOMOLOGACAO</th>\n",
       "      <th>DT_ADJUDICACAO</th>\n",
       "      <th>BL_LICIT_PROPRIA_ORGAO</th>\n",
       "      <th>VL_HOMOLOGADO</th>\n",
       "      <th>DS_OBSERVACAO</th>\n",
       "    </tr>\n",
       "  </thead>\n",
       "  <tbody>\n",
       "    <tr>\n",
       "      <th>151925</th>\n",
       "      <td>52300</td>\n",
       "      <td>PM DE MONTENEGRO</td>\n",
       "      <td>84.0</td>\n",
       "      <td>2016</td>\n",
       "      <td>PRE</td>\n",
       "      <td>4009.0</td>\n",
       "      <td>COM</td>\n",
       "      <td>ADH</td>\n",
       "      <td>MPR</td>\n",
       "      <td>L</td>\n",
       "      <td>...</td>\n",
       "      <td>N</td>\n",
       "      <td>Aquisição de peças para veículo (C.170) da SMVSU</td>\n",
       "      <td>2701.0</td>\n",
       "      <td>N</td>\n",
       "      <td>2016-07-07</td>\n",
       "      <td>2016-07-15</td>\n",
       "      <td>2016-07-15</td>\n",
       "      <td>S</td>\n",
       "      <td>2275.0</td>\n",
       "      <td>NaN</td>\n",
       "    </tr>\n",
       "    <tr>\n",
       "      <th>796392</th>\n",
       "      <td>84300</td>\n",
       "      <td>PM DE FAZENDA VILANOVA</td>\n",
       "      <td>4.0</td>\n",
       "      <td>2021</td>\n",
       "      <td>PRP</td>\n",
       "      <td>48.0</td>\n",
       "      <td>COM</td>\n",
       "      <td>ADH</td>\n",
       "      <td>MPR</td>\n",
       "      <td>I</td>\n",
       "      <td>...</td>\n",
       "      <td>R</td>\n",
       "      <td>REFERENTE AQUISIÇÃO DE GALERIAS, MEIO FIO E TU...</td>\n",
       "      <td>1169964.0</td>\n",
       "      <td>N</td>\n",
       "      <td>2021-03-25</td>\n",
       "      <td>2021-03-25</td>\n",
       "      <td>2021-03-25</td>\n",
       "      <td>S</td>\n",
       "      <td>NaN</td>\n",
       "      <td>NaN</td>\n",
       "    </tr>\n",
       "    <tr>\n",
       "      <th>713661</th>\n",
       "      <td>52300</td>\n",
       "      <td>PM DE MONTENEGRO</td>\n",
       "      <td>20.0</td>\n",
       "      <td>2018</td>\n",
       "      <td>PRE</td>\n",
       "      <td>4009.0</td>\n",
       "      <td>COM</td>\n",
       "      <td>ADH</td>\n",
       "      <td>MPR</td>\n",
       "      <td>L</td>\n",
       "      <td>...</td>\n",
       "      <td>N</td>\n",
       "      <td>Aquisição de material de construção para recon...</td>\n",
       "      <td>2237.16</td>\n",
       "      <td>N</td>\n",
       "      <td>2018-04-19</td>\n",
       "      <td>2018-04-25</td>\n",
       "      <td>2018-04-25</td>\n",
       "      <td>S</td>\n",
       "      <td>1604.0</td>\n",
       "      <td>NaN</td>\n",
       "    </tr>\n",
       "    <tr>\n",
       "      <th>193872</th>\n",
       "      <td>47800</td>\n",
       "      <td>PM DE FARROUPILHA</td>\n",
       "      <td>10.0</td>\n",
       "      <td>2022</td>\n",
       "      <td>PDE</td>\n",
       "      <td>729.0</td>\n",
       "      <td>COM</td>\n",
       "      <td>ADH</td>\n",
       "      <td>MPR</td>\n",
       "      <td>I</td>\n",
       "      <td>...</td>\n",
       "      <td>N</td>\n",
       "      <td>Aquisição de materiais de manutenção de bens i...</td>\n",
       "      <td>19491.66</td>\n",
       "      <td>N</td>\n",
       "      <td>2022-03-04</td>\n",
       "      <td>2022-03-07</td>\n",
       "      <td>2022-03-07</td>\n",
       "      <td>S</td>\n",
       "      <td>NaN</td>\n",
       "      <td>NaN</td>\n",
       "    </tr>\n",
       "    <tr>\n",
       "      <th>495266</th>\n",
       "      <td>55100</td>\n",
       "      <td>PM DE PORTO XAVIER</td>\n",
       "      <td>22.0</td>\n",
       "      <td>2023.0</td>\n",
       "      <td>PRP</td>\n",
       "      <td>1.0</td>\n",
       "      <td>COM</td>\n",
       "      <td>ADH</td>\n",
       "      <td>MPR</td>\n",
       "      <td>I</td>\n",
       "      <td>...</td>\n",
       "      <td>N</td>\n",
       "      <td>Aquisicao de Materiais para Extensao de Redes ...</td>\n",
       "      <td>162350.0</td>\n",
       "      <td>S</td>\n",
       "      <td>2023-05-18</td>\n",
       "      <td>2023-05-24</td>\n",
       "      <td>2023-05-24</td>\n",
       "      <td>S</td>\n",
       "      <td>116410.9</td>\n",
       "      <td>NaN</td>\n",
       "    </tr>\n",
       "  </tbody>\n",
       "</table>\n",
       "<p>5 rows × 21 columns</p>\n",
       "</div>"
      ],
      "text/plain": [
       "       CD_ORGAO                NM_ORGAO  NR_LICITACAO ANO_LICITACAO  \\\n",
       "151925    52300        PM DE MONTENEGRO          84.0          2016   \n",
       "796392    84300  PM DE FAZENDA VILANOVA           4.0          2021   \n",
       "713661    52300        PM DE MONTENEGRO          20.0          2018   \n",
       "193872    47800       PM DE FARROUPILHA          10.0          2022   \n",
       "495266    55100      PM DE PORTO XAVIER          22.0        2023.0   \n",
       "\n",
       "       CD_TIPO_MODALIDADE  NR_COMISSAO TP_OBJETO CD_TIPO_FASE_ATUAL  \\\n",
       "151925                PRE       4009.0       COM                ADH   \n",
       "796392                PRP         48.0       COM                ADH   \n",
       "713661                PRE       4009.0       COM                ADH   \n",
       "193872                PDE        729.0       COM                ADH   \n",
       "495266                PRP          1.0       COM                ADH   \n",
       "\n",
       "       TP_LICITACAO TP_NIVEL_JULGAMENTO  ... TP_NATUREZA  \\\n",
       "151925          MPR                   L  ...           N   \n",
       "796392          MPR                   I  ...           R   \n",
       "713661          MPR                   L  ...           N   \n",
       "193872          MPR                   I  ...           N   \n",
       "495266          MPR                   I  ...           N   \n",
       "\n",
       "                                                DS_OBJETO VL_LICITACAO  \\\n",
       "151925   Aquisição de peças para veículo (C.170) da SMVSU       2701.0   \n",
       "796392  REFERENTE AQUISIÇÃO DE GALERIAS, MEIO FIO E TU...    1169964.0   \n",
       "713661  Aquisição de material de construção para recon...      2237.16   \n",
       "193872  Aquisição de materiais de manutenção de bens i...     19491.66   \n",
       "495266  Aquisicao de Materiais para Extensao de Redes ...     162350.0   \n",
       "\n",
       "       BL_PERMITE_CONSORCIO DT_ABERTURA DT_HOMOLOGACAO DT_ADJUDICACAO  \\\n",
       "151925                    N  2016-07-07     2016-07-15     2016-07-15   \n",
       "796392                    N  2021-03-25     2021-03-25     2021-03-25   \n",
       "713661                    N  2018-04-19     2018-04-25     2018-04-25   \n",
       "193872                    N  2022-03-04     2022-03-07     2022-03-07   \n",
       "495266                    S  2023-05-18     2023-05-24     2023-05-24   \n",
       "\n",
       "       BL_LICIT_PROPRIA_ORGAO VL_HOMOLOGADO DS_OBSERVACAO  \n",
       "151925                      S        2275.0           NaN  \n",
       "796392                      S           NaN           NaN  \n",
       "713661                      S        1604.0           NaN  \n",
       "193872                      S           NaN           NaN  \n",
       "495266                      S      116410.9           NaN  \n",
       "\n",
       "[5 rows x 21 columns]"
      ]
     },
     "execution_count": 5,
     "metadata": {},
     "output_type": "execute_result"
    }
   ],
   "source": [
    "df.sample(5)"
   ]
  },
  {
   "cell_type": "code",
   "execution_count": 6,
   "metadata": {},
   "outputs": [
    {
     "data": {
      "text/plain": [
       "(283721, 21)"
      ]
     },
     "execution_count": 6,
     "metadata": {},
     "output_type": "execute_result"
    }
   ],
   "source": [
    "df.shape"
   ]
  },
  {
   "cell_type": "markdown",
   "metadata": {},
   "source": [
    "Let's drop some columns based on the descriptions we have for them in `colums_definitions/licitations.md`. It's worth noting that several columns have already been dropped, as we are extracting the data with the script `get_data_tce.py`"
   ]
  },
  {
   "cell_type": "code",
   "execution_count": 7,
   "metadata": {},
   "outputs": [
    {
     "data": {
      "text/plain": [
       "Index(['CD_ORGAO', 'NM_ORGAO', 'NR_LICITACAO', 'ANO_LICITACAO',\n",
       "       'CD_TIPO_MODALIDADE', 'NR_COMISSAO', 'TP_OBJETO', 'CD_TIPO_FASE_ATUAL',\n",
       "       'TP_LICITACAO', 'TP_NIVEL_JULGAMENTO', 'TP_CARACTERISTICA_OBJETO',\n",
       "       'TP_NATUREZA', 'DS_OBJETO', 'VL_LICITACAO', 'BL_PERMITE_CONSORCIO',\n",
       "       'DT_ABERTURA', 'DT_HOMOLOGACAO', 'DT_ADJUDICACAO',\n",
       "       'BL_LICIT_PROPRIA_ORGAO', 'VL_HOMOLOGADO', 'DS_OBSERVACAO'],\n",
       "      dtype='object')"
      ]
     },
     "execution_count": 7,
     "metadata": {},
     "output_type": "execute_result"
    }
   ],
   "source": [
    "df.columns"
   ]
  },
  {
   "cell_type": "code",
   "execution_count": 8,
   "metadata": {},
   "outputs": [],
   "source": [
    "cols_to_keep = [\n",
    "    \"CD_ORGAO\",\n",
    "    \"NM_ORGAO\",\n",
    "    \"ANO_LICITACAO\",\n",
    "    \"DS_OBJETO\",\n",
    "    \"VL_LICITACAO\",\n",
    "    \"DT_HOMOLOGACAO\",\n",
    "    \"VL_HOMOLOGADO\",\n",
    "]\n"
   ]
  },
  {
   "cell_type": "code",
   "execution_count": 9,
   "metadata": {},
   "outputs": [],
   "source": [
    "df = df[cols_to_keep]"
   ]
  },
  {
   "cell_type": "code",
   "execution_count": 10,
   "metadata": {},
   "outputs": [
    {
     "data": {
      "text/plain": [
       "CD_ORGAO               0\n",
       "NM_ORGAO               0\n",
       "ANO_LICITACAO          0\n",
       "DS_OBJETO              0\n",
       "VL_LICITACAO       13533\n",
       "DT_HOMOLOGACAO      6304\n",
       "VL_HOMOLOGADO     138643\n",
       "dtype: int64"
      ]
     },
     "execution_count": 10,
     "metadata": {},
     "output_type": "execute_result"
    }
   ],
   "source": [
    "df.isna().sum()"
   ]
  },
  {
   "cell_type": "markdown",
   "metadata": {},
   "source": [
    "### 2.2. **Dealing with null values**"
   ]
  },
  {
   "cell_type": "markdown",
   "metadata": {},
   "source": [
    "For the `VL_HOMOLOGADO` the best approximation is the `VL_LICITACAO`, hence I'll replace those values:"
   ]
  },
  {
   "cell_type": "code",
   "execution_count": 11,
   "metadata": {},
   "outputs": [],
   "source": [
    "df[\"VL_HOMOLOGADO\"] = df[\"VL_HOMOLOGADO\"].fillna(df[\"VL_LICITACAO\"])"
   ]
  },
  {
   "cell_type": "code",
   "execution_count": 12,
   "metadata": {},
   "outputs": [
    {
     "data": {
      "text/plain": [
       "CD_ORGAO              0\n",
       "NM_ORGAO              0\n",
       "ANO_LICITACAO         0\n",
       "DS_OBJETO             0\n",
       "VL_LICITACAO      13533\n",
       "DT_HOMOLOGACAO     6304\n",
       "VL_HOMOLOGADO      8954\n",
       "dtype: int64"
      ]
     },
     "execution_count": 12,
     "metadata": {},
     "output_type": "execute_result"
    }
   ],
   "source": [
    "df.isna().sum()"
   ]
  },
  {
   "cell_type": "markdown",
   "metadata": {},
   "source": [
    "We still have some null values, but we'll only remove them latter on, when we're creating the EDA (Exploratory Data Analysis)."
   ]
  },
  {
   "cell_type": "markdown",
   "metadata": {},
   "source": [
    "### 2.3. **Asserting the correct data types**"
   ]
  },
  {
   "cell_type": "code",
   "execution_count": 13,
   "metadata": {},
   "outputs": [
    {
     "data": {
      "text/plain": [
       "CD_ORGAO          object\n",
       "NM_ORGAO          object\n",
       "ANO_LICITACAO     object\n",
       "DS_OBJETO         object\n",
       "VL_LICITACAO      object\n",
       "DT_HOMOLOGACAO    object\n",
       "VL_HOMOLOGADO     object\n",
       "dtype: object"
      ]
     },
     "execution_count": 13,
     "metadata": {},
     "output_type": "execute_result"
    }
   ],
   "source": [
    "df.dtypes"
   ]
  },
  {
   "cell_type": "markdown",
   "metadata": {},
   "source": [
    "**CD_ORGAO**"
   ]
  },
  {
   "cell_type": "code",
   "execution_count": 14,
   "metadata": {},
   "outputs": [],
   "source": [
    "df[\"CD_ORGAO\"] = df[\"CD_ORGAO\"].astype(int)"
   ]
  },
  {
   "cell_type": "markdown",
   "metadata": {},
   "source": [
    "**ANO_LICITACAO**"
   ]
  },
  {
   "cell_type": "code",
   "execution_count": 15,
   "metadata": {},
   "outputs": [
    {
     "data": {
      "text/plain": [
       "ANO_LICITACAO\n",
       "2022      45179\n",
       "2023      38535\n",
       "2021      38369\n",
       "2019      37210\n",
       "2018      36773\n",
       "2017      32976\n",
       "2020      31037\n",
       "2016      17839\n",
       "2023.0     3212\n",
       "2024       2304\n",
       "2024.0      287\n",
       "Name: count, dtype: int64"
      ]
     },
     "execution_count": 15,
     "metadata": {},
     "output_type": "execute_result"
    }
   ],
   "source": [
    "df[\"ANO_LICITACAO\"].value_counts()"
   ]
  },
  {
   "cell_type": "code",
   "execution_count": 16,
   "metadata": {},
   "outputs": [],
   "source": [
    "df = df[~df[\"ANO_LICITACAO\"].isin([\"PRD\", \"PDE\"])]\n",
    "df['ANO_LICITACAO'] = df['ANO_LICITACAO'].replace({\"2023.0\": \"2023\", \"2024.0\": \"2024\"})"
   ]
  },
  {
   "cell_type": "code",
   "execution_count": 17,
   "metadata": {},
   "outputs": [],
   "source": [
    "df[\"ANO_LICITACAO\"] = df[\"ANO_LICITACAO\"].astype(int)"
   ]
  },
  {
   "cell_type": "markdown",
   "metadata": {},
   "source": [
    "**VL_LICITACAO**"
   ]
  },
  {
   "cell_type": "code",
   "execution_count": 18,
   "metadata": {},
   "outputs": [],
   "source": [
    "df[\"VL_LICITACAO\"] = df[\"VL_LICITACAO\"].astype(float)"
   ]
  },
  {
   "cell_type": "markdown",
   "metadata": {},
   "source": [
    "**DT_HOMOLOGACAO**"
   ]
  },
  {
   "cell_type": "code",
   "execution_count": 19,
   "metadata": {},
   "outputs": [],
   "source": [
    "df['DT_HOMOLOGACAO'] = pd.to_datetime(df['DT_HOMOLOGACAO'])"
   ]
  },
  {
   "cell_type": "markdown",
   "metadata": {},
   "source": [
    "**VL_HOMOLOGADO**"
   ]
  },
  {
   "cell_type": "code",
   "execution_count": 20,
   "metadata": {},
   "outputs": [],
   "source": [
    "df = df[~df['VL_HOMOLOGADO'].isin(['###############', '#################'])] "
   ]
  },
  {
   "cell_type": "code",
   "execution_count": 21,
   "metadata": {},
   "outputs": [],
   "source": [
    "df[\"VL_HOMOLOGADO\"] = df[\"VL_HOMOLOGADO\"].astype(float)"
   ]
  },
  {
   "cell_type": "markdown",
   "metadata": {},
   "source": [
    "Checking the new data types:"
   ]
  },
  {
   "cell_type": "code",
   "execution_count": 22,
   "metadata": {},
   "outputs": [
    {
     "data": {
      "text/plain": [
       "CD_ORGAO                   int64\n",
       "NM_ORGAO                  object\n",
       "ANO_LICITACAO              int64\n",
       "DS_OBJETO                 object\n",
       "VL_LICITACAO             float64\n",
       "DT_HOMOLOGACAO    datetime64[ns]\n",
       "VL_HOMOLOGADO            float64\n",
       "dtype: object"
      ]
     },
     "execution_count": 22,
     "metadata": {},
     "output_type": "execute_result"
    }
   ],
   "source": [
    "df.dtypes"
   ]
  }
 ],
 "metadata": {
  "kernelspec": {
   "display_name": ".venv",
   "language": "python",
   "name": "python3"
  },
  "language_info": {
   "codemirror_mode": {
    "name": "ipython",
    "version": 3
   },
   "file_extension": ".py",
   "mimetype": "text/x-python",
   "name": "python",
   "nbconvert_exporter": "python",
   "pygments_lexer": "ipython3",
   "version": "3.10.12"
  }
 },
 "nbformat": 4,
 "nbformat_minor": 2
}
