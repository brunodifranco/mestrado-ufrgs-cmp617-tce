{
 "cells": [
  {
   "cell_type": "code",
   "execution_count": 1,
   "metadata": {},
   "outputs": [],
   "source": [
    "import pandas as pd\n",
    "from config.schemas import dtypes"
   ]
  },
  {
   "cell_type": "code",
   "execution_count": 2,
   "metadata": {},
   "outputs": [],
   "source": [
    "df = pd.read_csv(\"data/tce_licitations.csv\", dtype=dtypes)"
   ]
  },
  {
   "cell_type": "code",
   "execution_count": 3,
   "metadata": {},
   "outputs": [
    {
     "data": {
      "text/plain": [
       "ANO_LICITACAO\n",
       "2022      118084\n",
       "2023      115113\n",
       "2021       98703\n",
       "2019       81358\n",
       "2020       78722\n",
       "2018       74622\n",
       "2017       64108\n",
       "2016       30709\n",
       "2024       19644\n",
       "2023.0      9505\n",
       "2024.0      3605\n",
       "PRD           15\n",
       "PDE            1\n",
       "Name: count, dtype: int64"
      ]
     },
     "execution_count": 3,
     "metadata": {},
     "output_type": "execute_result"
    }
   ],
   "source": [
    "df[\"ANO_LICITACAO\"].value_counts()"
   ]
  },
  {
   "cell_type": "markdown",
   "metadata": {},
   "source": [
    "# 2. **Data Cleaning**"
   ]
  },
  {
   "cell_type": "markdown",
   "metadata": {},
   "source": [
    "### 2.3. **Selecting necessary data**"
   ]
  },
  {
   "cell_type": "code",
   "execution_count": 4,
   "metadata": {},
   "outputs": [
    {
     "data": {
      "text/plain": [
       "Index(['CD_ORGAO', 'NM_ORGAO', 'NR_LICITACAO', 'ANO_LICITACAO',\n",
       "       'CD_TIPO_MODALIDADE', 'NR_COMISSAO', 'TP_OBJETO', 'CD_TIPO_FASE_ATUAL',\n",
       "       'TP_LICITACAO', 'TP_NIVEL_JULGAMENTO', 'TP_CARACTERISTICA_OBJETO',\n",
       "       'TP_NATUREZA', 'DS_OBJETO', 'VL_LICITACAO', 'BL_PERMITE_CONSORCIO',\n",
       "       'DT_ABERTURA', 'DT_HOMOLOGACAO', 'DT_ADJUDICACAO',\n",
       "       'BL_LICIT_PROPRIA_ORGAO', 'VL_HOMOLOGADO', 'DS_OBSERVACAO'],\n",
       "      dtype='object')"
      ]
     },
     "execution_count": 4,
     "metadata": {},
     "output_type": "execute_result"
    }
   ],
   "source": [
    "df.columns"
   ]
  },
  {
   "cell_type": "markdown",
   "metadata": {},
   "source": [
    "First, we will select only those bids where `CD_TIPO_FASE_ATUAL=ADH`, which are the ones that have been approved, according to the TCE [documentation](https://tcers.tc.br/repo/cex/licitacon/eValidador_LicitaCon_Manual_Leiaute_1.4.pdf) in page 27."
   ]
  },
  {
   "cell_type": "code",
   "execution_count": 5,
   "metadata": {},
   "outputs": [],
   "source": [
    "df = df[(df[\"CD_TIPO_FASE_ATUAL\"]==\"ADH\")]"
   ]
  },
  {
   "cell_type": "code",
   "execution_count": 6,
   "metadata": {},
   "outputs": [
    {
     "data": {
      "text/html": [
       "<div>\n",
       "<style scoped>\n",
       "    .dataframe tbody tr th:only-of-type {\n",
       "        vertical-align: middle;\n",
       "    }\n",
       "\n",
       "    .dataframe tbody tr th {\n",
       "        vertical-align: top;\n",
       "    }\n",
       "\n",
       "    .dataframe thead th {\n",
       "        text-align: right;\n",
       "    }\n",
       "</style>\n",
       "<table border=\"1\" class=\"dataframe\">\n",
       "  <thead>\n",
       "    <tr style=\"text-align: right;\">\n",
       "      <th></th>\n",
       "      <th>CD_ORGAO</th>\n",
       "      <th>NM_ORGAO</th>\n",
       "      <th>NR_LICITACAO</th>\n",
       "      <th>ANO_LICITACAO</th>\n",
       "      <th>CD_TIPO_MODALIDADE</th>\n",
       "      <th>NR_COMISSAO</th>\n",
       "      <th>TP_OBJETO</th>\n",
       "      <th>CD_TIPO_FASE_ATUAL</th>\n",
       "      <th>TP_LICITACAO</th>\n",
       "      <th>TP_NIVEL_JULGAMENTO</th>\n",
       "      <th>...</th>\n",
       "      <th>TP_NATUREZA</th>\n",
       "      <th>DS_OBJETO</th>\n",
       "      <th>VL_LICITACAO</th>\n",
       "      <th>BL_PERMITE_CONSORCIO</th>\n",
       "      <th>DT_ABERTURA</th>\n",
       "      <th>DT_HOMOLOGACAO</th>\n",
       "      <th>DT_ADJUDICACAO</th>\n",
       "      <th>BL_LICIT_PROPRIA_ORGAO</th>\n",
       "      <th>VL_HOMOLOGADO</th>\n",
       "      <th>DS_OBSERVACAO</th>\n",
       "    </tr>\n",
       "  </thead>\n",
       "  <tbody>\n",
       "    <tr>\n",
       "      <th>154399</th>\n",
       "      <td>88048</td>\n",
       "      <td>PM DE WESTFÁLIA</td>\n",
       "      <td>11.0</td>\n",
       "      <td>2016</td>\n",
       "      <td>PRP</td>\n",
       "      <td>1003.0</td>\n",
       "      <td>COM</td>\n",
       "      <td>ADH</td>\n",
       "      <td>MPR</td>\n",
       "      <td>I</td>\n",
       "      <td>...</td>\n",
       "      <td>N</td>\n",
       "      <td>Aquisição de veículo novo, tipo Sedan médio.</td>\n",
       "      <td>103000.0</td>\n",
       "      <td>N</td>\n",
       "      <td>2016-09-02</td>\n",
       "      <td>2016-09-08</td>\n",
       "      <td>2016-09-08</td>\n",
       "      <td>S</td>\n",
       "      <td>NaN</td>\n",
       "      <td>NaN</td>\n",
       "    </tr>\n",
       "    <tr>\n",
       "      <th>114650</th>\n",
       "      <td>45004</td>\n",
       "      <td>CODECA - CIA. DE DESENV. DE CAXIAS DO SUL</td>\n",
       "      <td>28.0</td>\n",
       "      <td>2019</td>\n",
       "      <td>PRP</td>\n",
       "      <td>1.0</td>\n",
       "      <td>COM</td>\n",
       "      <td>ADH</td>\n",
       "      <td>MPR</td>\n",
       "      <td>I</td>\n",
       "      <td>...</td>\n",
       "      <td>R</td>\n",
       "      <td>Contratação de empresa para fornecimento de ca...</td>\n",
       "      <td>81600.0</td>\n",
       "      <td>N</td>\n",
       "      <td>2019-05-08</td>\n",
       "      <td>2019-05-10</td>\n",
       "      <td>2019-05-08</td>\n",
       "      <td>S</td>\n",
       "      <td>NaN</td>\n",
       "      <td>NaN</td>\n",
       "    </tr>\n",
       "    <tr>\n",
       "      <th>173740</th>\n",
       "      <td>43000</td>\n",
       "      <td>PM DE CACHOEIRA DO SUL</td>\n",
       "      <td>14527.0</td>\n",
       "      <td>2016</td>\n",
       "      <td>PRE</td>\n",
       "      <td>577.0</td>\n",
       "      <td>COM</td>\n",
       "      <td>ADH</td>\n",
       "      <td>MPR</td>\n",
       "      <td>I</td>\n",
       "      <td>...</td>\n",
       "      <td>N</td>\n",
       "      <td>PARA UNIDADE DVA</td>\n",
       "      <td>17163.0</td>\n",
       "      <td>N</td>\n",
       "      <td>2016-11-28</td>\n",
       "      <td>2016-12-19</td>\n",
       "      <td>2016-12-19</td>\n",
       "      <td>S</td>\n",
       "      <td>5334.5</td>\n",
       "      <td>Sim</td>\n",
       "    </tr>\n",
       "    <tr>\n",
       "      <th>146559</th>\n",
       "      <td>57200</td>\n",
       "      <td>PM DE SANTA ROSA</td>\n",
       "      <td>13.0</td>\n",
       "      <td>2016</td>\n",
       "      <td>PRP</td>\n",
       "      <td>NaN</td>\n",
       "      <td>CSE</td>\n",
       "      <td>ADH</td>\n",
       "      <td>MPR</td>\n",
       "      <td>I</td>\n",
       "      <td>...</td>\n",
       "      <td>N</td>\n",
       "      <td>AQUISIÇÃO</td>\n",
       "      <td>578875.0</td>\n",
       "      <td>N</td>\n",
       "      <td>2016-04-15</td>\n",
       "      <td>2016-04-18</td>\n",
       "      <td>2016-04-18</td>\n",
       "      <td>S</td>\n",
       "      <td>NaN</td>\n",
       "      <td>NaN</td>\n",
       "    </tr>\n",
       "    <tr>\n",
       "      <th>275520</th>\n",
       "      <td>58900</td>\n",
       "      <td>PM DE SÃO LUIZ GONZAGA</td>\n",
       "      <td>25.0</td>\n",
       "      <td>2022</td>\n",
       "      <td>PRE</td>\n",
       "      <td>558.0</td>\n",
       "      <td>CSE</td>\n",
       "      <td>ADH</td>\n",
       "      <td>MPR</td>\n",
       "      <td>I</td>\n",
       "      <td>...</td>\n",
       "      <td>N</td>\n",
       "      <td>Aquisicao de moveis para diversas Secretarias ...</td>\n",
       "      <td>279863.74</td>\n",
       "      <td>S</td>\n",
       "      <td>2022-09-29</td>\n",
       "      <td>2022-10-07</td>\n",
       "      <td>2022-10-07</td>\n",
       "      <td>S</td>\n",
       "      <td>191460.01</td>\n",
       "      <td>NaN</td>\n",
       "    </tr>\n",
       "  </tbody>\n",
       "</table>\n",
       "<p>5 rows × 21 columns</p>\n",
       "</div>"
      ],
      "text/plain": [
       "       CD_ORGAO                                   NM_ORGAO  NR_LICITACAO  \\\n",
       "154399    88048                            PM DE WESTFÁLIA          11.0   \n",
       "114650    45004  CODECA - CIA. DE DESENV. DE CAXIAS DO SUL          28.0   \n",
       "173740    43000                     PM DE CACHOEIRA DO SUL       14527.0   \n",
       "146559    57200                           PM DE SANTA ROSA          13.0   \n",
       "275520    58900                     PM DE SÃO LUIZ GONZAGA          25.0   \n",
       "\n",
       "       ANO_LICITACAO CD_TIPO_MODALIDADE  NR_COMISSAO TP_OBJETO  \\\n",
       "154399          2016                PRP       1003.0       COM   \n",
       "114650          2019                PRP          1.0       COM   \n",
       "173740          2016                PRE        577.0       COM   \n",
       "146559          2016                PRP          NaN       CSE   \n",
       "275520          2022                PRE        558.0       CSE   \n",
       "\n",
       "       CD_TIPO_FASE_ATUAL TP_LICITACAO TP_NIVEL_JULGAMENTO  ... TP_NATUREZA  \\\n",
       "154399                ADH          MPR                   I  ...           N   \n",
       "114650                ADH          MPR                   I  ...           R   \n",
       "173740                ADH          MPR                   I  ...           N   \n",
       "146559                ADH          MPR                   I  ...           N   \n",
       "275520                ADH          MPR                   I  ...           N   \n",
       "\n",
       "                                                DS_OBJETO VL_LICITACAO  \\\n",
       "154399       Aquisição de veículo novo, tipo Sedan médio.     103000.0   \n",
       "114650  Contratação de empresa para fornecimento de ca...      81600.0   \n",
       "173740                                   PARA UNIDADE DVA      17163.0   \n",
       "146559                                          AQUISIÇÃO     578875.0   \n",
       "275520  Aquisicao de moveis para diversas Secretarias ...    279863.74   \n",
       "\n",
       "       BL_PERMITE_CONSORCIO DT_ABERTURA DT_HOMOLOGACAO DT_ADJUDICACAO  \\\n",
       "154399                    N  2016-09-02     2016-09-08     2016-09-08   \n",
       "114650                    N  2019-05-08     2019-05-10     2019-05-08   \n",
       "173740                    N  2016-11-28     2016-12-19     2016-12-19   \n",
       "146559                    N  2016-04-15     2016-04-18     2016-04-18   \n",
       "275520                    S  2022-09-29     2022-10-07     2022-10-07   \n",
       "\n",
       "       BL_LICIT_PROPRIA_ORGAO VL_HOMOLOGADO DS_OBSERVACAO  \n",
       "154399                      S           NaN           NaN  \n",
       "114650                      S           NaN           NaN  \n",
       "173740                      S        5334.5           Sim  \n",
       "146559                      S           NaN           NaN  \n",
       "275520                      S     191460.01           NaN  \n",
       "\n",
       "[5 rows x 21 columns]"
      ]
     },
     "execution_count": 6,
     "metadata": {},
     "output_type": "execute_result"
    }
   ],
   "source": [
    "df.sample(5)"
   ]
  },
  {
   "cell_type": "code",
   "execution_count": 7,
   "metadata": {},
   "outputs": [
    {
     "data": {
      "text/plain": [
       "(283721, 21)"
      ]
     },
     "execution_count": 7,
     "metadata": {},
     "output_type": "execute_result"
    }
   ],
   "source": [
    "df.shape"
   ]
  },
  {
   "cell_type": "markdown",
   "metadata": {},
   "source": [
    "Let's drop some columns based on the descriptions we have for them in `colums_definitions/licitations.md`. It's worth noting that several columns have already been dropped, as we are extracting the data with the script `get_data_tce.py`"
   ]
  },
  {
   "cell_type": "code",
   "execution_count": 8,
   "metadata": {},
   "outputs": [
    {
     "data": {
      "text/plain": [
       "Index(['CD_ORGAO', 'NM_ORGAO', 'NR_LICITACAO', 'ANO_LICITACAO',\n",
       "       'CD_TIPO_MODALIDADE', 'NR_COMISSAO', 'TP_OBJETO', 'CD_TIPO_FASE_ATUAL',\n",
       "       'TP_LICITACAO', 'TP_NIVEL_JULGAMENTO', 'TP_CARACTERISTICA_OBJETO',\n",
       "       'TP_NATUREZA', 'DS_OBJETO', 'VL_LICITACAO', 'BL_PERMITE_CONSORCIO',\n",
       "       'DT_ABERTURA', 'DT_HOMOLOGACAO', 'DT_ADJUDICACAO',\n",
       "       'BL_LICIT_PROPRIA_ORGAO', 'VL_HOMOLOGADO', 'DS_OBSERVACAO'],\n",
       "      dtype='object')"
      ]
     },
     "execution_count": 8,
     "metadata": {},
     "output_type": "execute_result"
    }
   ],
   "source": [
    "df.columns"
   ]
  },
  {
   "cell_type": "code",
   "execution_count": 9,
   "metadata": {},
   "outputs": [],
   "source": [
    "cols_to_keep = [\n",
    "    \"CD_ORGAO\",\n",
    "    \"NM_ORGAO\",\n",
    "    \"ANO_LICITACAO\",\n",
    "    \"DS_OBJETO\",\n",
    "    \"VL_LICITACAO\",\n",
    "    \"DT_HOMOLOGACAO\",\n",
    "    \"VL_HOMOLOGADO\",\n",
    "]\n"
   ]
  },
  {
   "cell_type": "code",
   "execution_count": 10,
   "metadata": {},
   "outputs": [],
   "source": [
    "df = df[cols_to_keep]"
   ]
  },
  {
   "cell_type": "code",
   "execution_count": 11,
   "metadata": {},
   "outputs": [
    {
     "data": {
      "text/plain": [
       "CD_ORGAO               0\n",
       "NM_ORGAO               0\n",
       "ANO_LICITACAO          0\n",
       "DS_OBJETO              0\n",
       "VL_LICITACAO       13533\n",
       "DT_HOMOLOGACAO      6304\n",
       "VL_HOMOLOGADO     138643\n",
       "dtype: int64"
      ]
     },
     "execution_count": 11,
     "metadata": {},
     "output_type": "execute_result"
    }
   ],
   "source": [
    "df.isna().sum()"
   ]
  },
  {
   "cell_type": "markdown",
   "metadata": {},
   "source": [
    "### 2.2. **Dealing with null values**"
   ]
  },
  {
   "cell_type": "markdown",
   "metadata": {},
   "source": [
    "For the `VL_HOMOLOGADO` the best approximation is the `VL_LICITACAO`, hence I'll replace those values:"
   ]
  },
  {
   "cell_type": "code",
   "execution_count": 12,
   "metadata": {},
   "outputs": [],
   "source": [
    "df[\"VL_HOMOLOGADO\"] = df[\"VL_HOMOLOGADO\"].fillna(df[\"VL_LICITACAO\"])"
   ]
  },
  {
   "cell_type": "code",
   "execution_count": 13,
   "metadata": {},
   "outputs": [
    {
     "data": {
      "text/plain": [
       "CD_ORGAO              0\n",
       "NM_ORGAO              0\n",
       "ANO_LICITACAO         0\n",
       "DS_OBJETO             0\n",
       "VL_LICITACAO      13533\n",
       "DT_HOMOLOGACAO     6304\n",
       "VL_HOMOLOGADO      8954\n",
       "dtype: int64"
      ]
     },
     "execution_count": 13,
     "metadata": {},
     "output_type": "execute_result"
    }
   ],
   "source": [
    "df.isna().sum()"
   ]
  },
  {
   "cell_type": "markdown",
   "metadata": {},
   "source": [
    "We still have some null values, but we'll only remove them latter on, when we're creating the EDA (Exploratory Data Analysis)."
   ]
  },
  {
   "cell_type": "markdown",
   "metadata": {},
   "source": [
    "### 2.3. **Asserting the correct data types**"
   ]
  },
  {
   "cell_type": "code",
   "execution_count": 14,
   "metadata": {},
   "outputs": [
    {
     "data": {
      "text/plain": [
       "CD_ORGAO          object\n",
       "NM_ORGAO          object\n",
       "ANO_LICITACAO     object\n",
       "DS_OBJETO         object\n",
       "VL_LICITACAO      object\n",
       "DT_HOMOLOGACAO    object\n",
       "VL_HOMOLOGADO     object\n",
       "dtype: object"
      ]
     },
     "execution_count": 14,
     "metadata": {},
     "output_type": "execute_result"
    }
   ],
   "source": [
    "df.dtypes"
   ]
  },
  {
   "cell_type": "markdown",
   "metadata": {},
   "source": [
    "**CD_ORGAO**"
   ]
  },
  {
   "cell_type": "code",
   "execution_count": 15,
   "metadata": {},
   "outputs": [],
   "source": [
    "df[\"CD_ORGAO\"] = df[\"CD_ORGAO\"].astype(int)"
   ]
  },
  {
   "cell_type": "markdown",
   "metadata": {},
   "source": [
    "**ANO_LICITACAO**"
   ]
  },
  {
   "cell_type": "code",
   "execution_count": 16,
   "metadata": {},
   "outputs": [
    {
     "data": {
      "text/plain": [
       "ANO_LICITACAO\n",
       "2022      45179\n",
       "2023      38535\n",
       "2021      38369\n",
       "2019      37210\n",
       "2018      36773\n",
       "2017      32976\n",
       "2020      31037\n",
       "2016      17839\n",
       "2023.0     3212\n",
       "2024       2304\n",
       "2024.0      287\n",
       "Name: count, dtype: int64"
      ]
     },
     "execution_count": 16,
     "metadata": {},
     "output_type": "execute_result"
    }
   ],
   "source": [
    "df[\"ANO_LICITACAO\"].value_counts()"
   ]
  },
  {
   "cell_type": "code",
   "execution_count": 17,
   "metadata": {},
   "outputs": [],
   "source": [
    "df = df[~df[\"ANO_LICITACAO\"].isin([\"PRD\", \"PDE\"])]\n",
    "df['ANO_LICITACAO'] = df['ANO_LICITACAO'].replace({\"2023.0\": \"2023\", \"2024.0\": \"2024\"})"
   ]
  },
  {
   "cell_type": "code",
   "execution_count": 18,
   "metadata": {},
   "outputs": [],
   "source": [
    "df[\"ANO_LICITACAO\"] = df[\"ANO_LICITACAO\"].astype(int)"
   ]
  },
  {
   "cell_type": "markdown",
   "metadata": {},
   "source": [
    "**VL_LICITACAO**"
   ]
  },
  {
   "cell_type": "code",
   "execution_count": 19,
   "metadata": {},
   "outputs": [],
   "source": [
    "df[\"VL_LICITACAO\"] = df[\"VL_LICITACAO\"].astype(float)"
   ]
  },
  {
   "cell_type": "markdown",
   "metadata": {},
   "source": [
    "**DT_HOMOLOGACAO**"
   ]
  },
  {
   "cell_type": "code",
   "execution_count": 20,
   "metadata": {},
   "outputs": [],
   "source": [
    "df['DT_HOMOLOGACAO'] = pd.to_datetime(df['DT_HOMOLOGACAO'])"
   ]
  },
  {
   "cell_type": "markdown",
   "metadata": {},
   "source": [
    "**VL_HOMOLOGADO**"
   ]
  },
  {
   "cell_type": "code",
   "execution_count": 21,
   "metadata": {},
   "outputs": [],
   "source": [
    "df = df[~df['VL_HOMOLOGADO'].isin(['###############', '#################'])] "
   ]
  },
  {
   "cell_type": "code",
   "execution_count": 22,
   "metadata": {},
   "outputs": [],
   "source": [
    "df[\"VL_HOMOLOGADO\"] = df[\"VL_HOMOLOGADO\"].astype(float)"
   ]
  },
  {
   "cell_type": "markdown",
   "metadata": {},
   "source": [
    "Checking the new data types:"
   ]
  },
  {
   "cell_type": "code",
   "execution_count": 23,
   "metadata": {},
   "outputs": [
    {
     "data": {
      "text/plain": [
       "CD_ORGAO                   int64\n",
       "NM_ORGAO                  object\n",
       "ANO_LICITACAO              int64\n",
       "DS_OBJETO                 object\n",
       "VL_LICITACAO             float64\n",
       "DT_HOMOLOGACAO    datetime64[ns]\n",
       "VL_HOMOLOGADO            float64\n",
       "dtype: object"
      ]
     },
     "execution_count": 23,
     "metadata": {},
     "output_type": "execute_result"
    }
   ],
   "source": [
    "df.dtypes"
   ]
  }
 ],
 "metadata": {
  "kernelspec": {
   "display_name": ".venv",
   "language": "python",
   "name": "python3"
  },
  "language_info": {
   "codemirror_mode": {
    "name": "ipython",
    "version": 3
   },
   "file_extension": ".py",
   "mimetype": "text/x-python",
   "name": "python",
   "nbconvert_exporter": "python",
   "pygments_lexer": "ipython3",
   "version": "3.10.12"
  }
 },
 "nbformat": 4,
 "nbformat_minor": 2
}
