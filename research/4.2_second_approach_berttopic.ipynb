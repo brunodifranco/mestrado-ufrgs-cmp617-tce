{
 "cells": [
  {
   "cell_type": "markdown",
   "metadata": {},
   "source": [
    "## Sobre as métricas de avaliação\n",
    "https://github.com/dice-group/Palmetto/issues/13"
   ]
  },
  {
   "cell_type": "code",
   "execution_count": 1,
   "metadata": {},
   "outputs": [
    {
     "name": "stderr",
     "output_type": "stream",
     "text": [
      "2024-04-20 19:13:59.582644: I tensorflow/core/util/port.cc:113] oneDNN custom operations are on. You may see slightly different numerical results due to floating-point round-off errors from different computation orders. To turn them off, set the environment variable `TF_ENABLE_ONEDNN_OPTS=0`.\n",
      "2024-04-20 19:13:59.606416: E external/local_xla/xla/stream_executor/cuda/cuda_dnn.cc:9261] Unable to register cuDNN factory: Attempting to register factory for plugin cuDNN when one has already been registered\n",
      "2024-04-20 19:13:59.606443: E external/local_xla/xla/stream_executor/cuda/cuda_fft.cc:607] Unable to register cuFFT factory: Attempting to register factory for plugin cuFFT when one has already been registered\n",
      "2024-04-20 19:13:59.607080: E external/local_xla/xla/stream_executor/cuda/cuda_blas.cc:1515] Unable to register cuBLAS factory: Attempting to register factory for plugin cuBLAS when one has already been registered\n",
      "2024-04-20 19:13:59.611465: I tensorflow/core/platform/cpu_feature_guard.cc:182] This TensorFlow binary is optimized to use available CPU instructions in performance-critical operations.\n",
      "To enable the following instructions: AVX2 AVX_VNNI FMA, in other operations, rebuild TensorFlow with the appropriate compiler flags.\n",
      "2024-04-20 19:14:00.185499: W tensorflow/compiler/tf2tensorrt/utils/py_utils.cc:38] TF-TRT Warning: Could not find TensorRT\n"
     ]
    }
   ],
   "source": [
    "import os\n",
    "os.chdir(\"..\")\n",
    "os.chdir(\"src\")\n",
    "from bertopic_fit import BertTopicFit\n",
    "from utils.utils import logger\n",
    "from evaluate_bertopic import load_inputs, load_model_outputs, coherence_score\n",
    "os.chdir(\"..\")"
   ]
  },
  {
   "cell_type": "code",
   "execution_count": 10,
   "metadata": {},
   "outputs": [],
   "source": [
    "from evaluate_bertopic import load_inputs, load_model_outputs, coherence_score"
   ]
  },
  {
   "cell_type": "code",
   "execution_count": 3,
   "metadata": {},
   "outputs": [],
   "source": [
    "embeddings, vectorizer_model, docs = load_inputs(\"models/bertopic/inputs\")"
   ]
  },
  {
   "cell_type": "code",
   "execution_count": 2,
   "metadata": {},
   "outputs": [],
   "source": [
    "model_path = \"models/bertopic/best_model_kmeans_manhattan\"\n",
    "import pickle\n",
    "with open(model_path + \"/model_06256.pkl\", \"rb\") as file:\n",
    "    topic_model = pickle.load(file)"
   ]
  },
  {
   "cell_type": "code",
   "execution_count": 8,
   "metadata": {},
   "outputs": [],
   "source": [
    "model_path = \"models/bertopic/best_model\"\n",
    "import pickle\n",
    "with open(model_path + \"/model.pkl\", \"rb\") as file:\n",
    "    topic_model = pickle.load(file)"
   ]
  },
  {
   "cell_type": "code",
   "execution_count": 10,
   "metadata": {},
   "outputs": [
    {
     "data": {
      "text/plain": [
       "{0: [('empresas', 0.5739186),\n",
       "  ('abastecimento', 0.5610359),\n",
       "  ('recursos', 0.5109493),\n",
       "  ('propriedade', 0.50244224),\n",
       "  ('construcao', 0.4884131),\n",
       "  ('equipamentos', 0.48159015),\n",
       "  ('conservacao', 0.46126348)],\n",
       " 1: [('infraestrutura', 0.6455363),\n",
       "  ('concreto', 0.60318786),\n",
       "  ('construcao', 0.5631876),\n",
       "  ('praca', 0.5201385),\n",
       "  ('asfaltico', 0.51993287),\n",
       "  ('asfaltica', 0.5145213),\n",
       "  ('urbano', 0.5043196)],\n",
       " 2: [('higiene', 0.7267045),\n",
       "  ('limpeza', 0.66644514),\n",
       "  ('higienizacao', 0.6291383),\n",
       "  ('cozinha', 0.45400077),\n",
       "  ('abastecimento', 0.45169276),\n",
       "  ('residuos', 0.45114762),\n",
       "  ('materiais', 0.43542087)],\n",
       " 3: [('clinicas', 0.69933254),\n",
       "  ('clinica', 0.6917387),\n",
       "  ('clinico', 0.68909246),\n",
       "  ('medica', 0.68702865),\n",
       "  ('medicina', 0.68099594),\n",
       "  ('medicas', 0.676535),\n",
       "  ('medicos', 0.66450846)],\n",
       " 4: [('escolares', 0.70769286),\n",
       "  ('escolas', 0.70500064),\n",
       "  ('escolar', 0.7017946),\n",
       "  ('educacional', 0.6621532),\n",
       "  ('escola', 0.6595319),\n",
       "  ('pedagogicos', 0.60138285),\n",
       "  ('ensino', 0.5818729)],\n",
       " 5: [('humana', 0.5327439),\n",
       "  ('ambulatorial', 0.39568388),\n",
       "  ('abrasivos', 0.39146724),\n",
       "  ('estofados', 0.38257998),\n",
       "  ('acessorios', 0.38051987),\n",
       "  ('exceto', 0.3767615),\n",
       "  ('descartaveis', 0.36171502)],\n",
       " 6: [('pneus', 0.6469003),\n",
       "  ('automotor', 0.61382675),\n",
       "  ('equipamento', 0.54381406),\n",
       "  ('maquinas', 0.54248613),\n",
       "  ('motor', 0.53782904),\n",
       "  ('equipamentos', 0.5165864),\n",
       "  ('diesel', 0.50462)],\n",
       " 7: [('alimenticios', 0.6954578),\n",
       "  ('alimentos', 0.667543),\n",
       "  ('agricultura', 0.6370909),\n",
       "  ('agricultores', 0.5602108),\n",
       "  ('hortifrutigranjeiros', 0.558998),\n",
       "  ('cozinha', 0.5029448),\n",
       "  ('frutas', 0.4540392)],\n",
       " 8: [('material', 0.9958668),\n",
       "  ('materiais', 0.98606735),\n",
       "  ('plastico', 0.74007475),\n",
       "  ('concreto', 0.7302238),\n",
       "  ('equipamentos', 0.7277909),\n",
       "  ('plasticas', 0.7235881),\n",
       "  ('utensilios', 0.7010991)],\n",
       " 9: [('servico', 0.7238151),\n",
       "  ('', 0.52349496),\n",
       "  ('', 0.52349496),\n",
       "  ('', 0.52349496),\n",
       "  ('', 0.52349496),\n",
       "  ('', 0.52349496),\n",
       "  ('', 0.52349496)],\n",
       " 10: [('hospitalares', 0.6788391),\n",
       "  ('medico', 0.54210675),\n",
       "  ('enfermagem', 0.43115106),\n",
       "  ('odontologicos', 0.36819768),\n",
       "  ('equipamentos', 0.24121094),\n",
       "  ('', 0.24116242),\n",
       "  ('', 0.24116242)],\n",
       " 11: [('animal', 0.63283086),\n",
       "  ('natura', 0.5250387),\n",
       "  ('vegetal', 0.5087022),\n",
       "  ('alimentacao', 0.46209818),\n",
       "  ('origem', 0.43954134),\n",
       "  ('estofados', 0.42741284),\n",
       "  ('afastador', 0.41486883)],\n",
       " 12: [('hidrosanitarias', 0.3969186),\n",
       "  ('eletricas', 0.3357744),\n",
       "  ('materiais', 0.32845417),\n",
       "  ('natural', 0.32512206),\n",
       "  ('instalacoes', 0.3176076),\n",
       "  ('climatizacao', 0.29976577),\n",
       "  ('quimicos', 0.29514533)],\n",
       " 13: [('medicamentos', 0.88493633),\n",
       "  ('eticos', 0.5148289),\n",
       "  ('', 0.48041946),\n",
       "  ('', 0.48041946),\n",
       "  ('', 0.48041946),\n",
       "  ('', 0.48041946),\n",
       "  ('', 0.48041946)]}"
      ]
     },
     "execution_count": 10,
     "metadata": {},
     "output_type": "execute_result"
    }
   ],
   "source": [
    "topic_model.get_topics()"
   ]
  },
  {
   "cell_type": "code",
   "execution_count": 9,
   "metadata": {},
   "outputs": [
    {
     "data": {
      "text/html": [
       "<div>\n",
       "<style scoped>\n",
       "    .dataframe tbody tr th:only-of-type {\n",
       "        vertical-align: middle;\n",
       "    }\n",
       "\n",
       "    .dataframe tbody tr th {\n",
       "        vertical-align: top;\n",
       "    }\n",
       "\n",
       "    .dataframe thead th {\n",
       "        text-align: right;\n",
       "    }\n",
       "</style>\n",
       "<table border=\"1\" class=\"dataframe\">\n",
       "  <thead>\n",
       "    <tr style=\"text-align: right;\">\n",
       "      <th></th>\n",
       "      <th>Topic</th>\n",
       "      <th>Count</th>\n",
       "      <th>Name</th>\n",
       "      <th>Representation</th>\n",
       "      <th>Representative_Docs</th>\n",
       "    </tr>\n",
       "  </thead>\n",
       "  <tbody>\n",
       "    <tr>\n",
       "      <th>0</th>\n",
       "      <td>-1</td>\n",
       "      <td>87619</td>\n",
       "      <td>-1_agricultura_alimenticios_produtos_cozinha</td>\n",
       "      <td>NaN</td>\n",
       "      <td>[Aquisição de equipamentos/materiais permanent...</td>\n",
       "    </tr>\n",
       "    <tr>\n",
       "      <th>1</th>\n",
       "      <td>0</td>\n",
       "      <td>19791</td>\n",
       "      <td>0_transporte_escolas_escolar_escolares</td>\n",
       "      <td>[transporte, escolas, escolar, escolares, esco...</td>\n",
       "      <td>[Contratação de empresa (s) especializada (s) ...</td>\n",
       "    </tr>\n",
       "    <tr>\n",
       "      <th>2</th>\n",
       "      <td>1</td>\n",
       "      <td>4245</td>\n",
       "      <td>1_humana_pessoal_inserviveis_abrasivos</td>\n",
       "      <td>[humana, pessoal, inserviveis, abrasivos, pere...</td>\n",
       "      <td>[AQUISIÇÃO DE BENS DA(S) FAMÍLIA(S):0880-MEDIC...</td>\n",
       "    </tr>\n",
       "    <tr>\n",
       "      <th>3</th>\n",
       "      <td>2</td>\n",
       "      <td>3928</td>\n",
       "      <td>2_diesel_gasolina_combustivel_petroleo</td>\n",
       "      <td>[diesel, gasolina, combustivel, petroleo, comb...</td>\n",
       "      <td>[Registro de preços para futuras aquisições pa...</td>\n",
       "    </tr>\n",
       "    <tr>\n",
       "      <th>4</th>\n",
       "      <td>3</td>\n",
       "      <td>3823</td>\n",
       "      <td>3_hospitalares_hospitalar_hospital_clinica</td>\n",
       "      <td>[hospitalares, hospitalar, hospital, clinica, ...</td>\n",
       "      <td>[AQUISIÇÃO DE MATERIAL MÉDICO HOSPITALAR PARA ...</td>\n",
       "    </tr>\n",
       "    <tr>\n",
       "      <th>5</th>\n",
       "      <td>4</td>\n",
       "      <td>3659</td>\n",
       "      <td>4_alimenticios_agricola_agricultura_alimentos</td>\n",
       "      <td>[alimenticios, agricola, agricultura, alimento...</td>\n",
       "      <td>[AQUISIÇÃO DE GÊNEROS ALIMENTÍCIOS DA AGRICULT...</td>\n",
       "    </tr>\n",
       "    <tr>\n",
       "      <th>6</th>\n",
       "      <td>5</td>\n",
       "      <td>1883</td>\n",
       "      <td>5_pneus_rodas_automotor_cilindros</td>\n",
       "      <td>[pneus, rodas, automotor, cilindros, motorista...</td>\n",
       "      <td>[Registro de preços para aquisição de pneus, c...</td>\n",
       "    </tr>\n",
       "    <tr>\n",
       "      <th>7</th>\n",
       "      <td>6</td>\n",
       "      <td>1753</td>\n",
       "      <td>6_lampadas_iluminacao_lampada_refletores</td>\n",
       "      <td>[lampadas, iluminacao, lampada, refletores, ma...</td>\n",
       "      <td>[Aquisição de materiais para iluminação públic...</td>\n",
       "    </tr>\n",
       "    <tr>\n",
       "      <th>8</th>\n",
       "      <td>7</td>\n",
       "      <td>1196</td>\n",
       "      <td>7_organizacoes_cooperacao_organizacao_sociedade</td>\n",
       "      <td>[organizacoes, cooperacao, organizacao, socied...</td>\n",
       "      <td>[CHAMAMENTO PÚBLICO PARA FINS DE SELECIONAR OR...</td>\n",
       "    </tr>\n",
       "    <tr>\n",
       "      <th>9</th>\n",
       "      <td>8</td>\n",
       "      <td>790</td>\n",
       "      <td>8_campeonatos_desportivas_competicoes_esportivos</td>\n",
       "      <td>[campeonatos, desportivas, competicoes, esport...</td>\n",
       "      <td>[REGISTRO DE PREÇOS de SERVIÇOS DE ARBITRAGEM,...</td>\n",
       "    </tr>\n",
       "    <tr>\n",
       "      <th>10</th>\n",
       "      <td>9</td>\n",
       "      <td>407</td>\n",
       "      <td>9_antigenos_anticorpos_antigeno_imunocromatogr...</td>\n",
       "      <td>[antigenos, anticorpos, antigeno, imunocromato...</td>\n",
       "      <td>[AQUISIÇÃO TESTES RAPIDO DE ANTIGENO PARA COVI...</td>\n",
       "    </tr>\n",
       "    <tr>\n",
       "      <th>11</th>\n",
       "      <td>10</td>\n",
       "      <td>277</td>\n",
       "      <td>10_familiares_vulnerabilidade_populacao_risco</td>\n",
       "      <td>[familiares, vulnerabilidade, populacao, risco...</td>\n",
       "      <td>[AQUISIÇÃO DE CESTAS BÁSICAS PARA DISTRIBUIÇÃO...</td>\n",
       "    </tr>\n",
       "    <tr>\n",
       "      <th>12</th>\n",
       "      <td>11</td>\n",
       "      <td>148</td>\n",
       "      <td>11_mineral_agua_hidroxido_liquido</td>\n",
       "      <td>[mineral, agua, hidroxido, liquido, acido, ars...</td>\n",
       "      <td>[Aquisição de água mineral, Aquisição de água ...</td>\n",
       "    </tr>\n",
       "    <tr>\n",
       "      <th>13</th>\n",
       "      <td>12</td>\n",
       "      <td>85</td>\n",
       "      <td>12_cafeteira_coffee_cafe_bebidas</td>\n",
       "      <td>[cafeteira, coffee, cafe, bebidas, refrigerant...</td>\n",
       "      <td>[REGISTRO DE PREÇOS PARA FORNECIMENTO DE COFFE...</td>\n",
       "    </tr>\n",
       "  </tbody>\n",
       "</table>\n",
       "</div>"
      ],
      "text/plain": [
       "    Topic  Count                                               Name  \\\n",
       "0      -1  87619       -1_agricultura_alimenticios_produtos_cozinha   \n",
       "1       0  19791             0_transporte_escolas_escolar_escolares   \n",
       "2       1   4245             1_humana_pessoal_inserviveis_abrasivos   \n",
       "3       2   3928             2_diesel_gasolina_combustivel_petroleo   \n",
       "4       3   3823         3_hospitalares_hospitalar_hospital_clinica   \n",
       "5       4   3659      4_alimenticios_agricola_agricultura_alimentos   \n",
       "6       5   1883                  5_pneus_rodas_automotor_cilindros   \n",
       "7       6   1753           6_lampadas_iluminacao_lampada_refletores   \n",
       "8       7   1196    7_organizacoes_cooperacao_organizacao_sociedade   \n",
       "9       8    790   8_campeonatos_desportivas_competicoes_esportivos   \n",
       "10      9    407  9_antigenos_anticorpos_antigeno_imunocromatogr...   \n",
       "11     10    277      10_familiares_vulnerabilidade_populacao_risco   \n",
       "12     11    148                  11_mineral_agua_hidroxido_liquido   \n",
       "13     12     85                   12_cafeteira_coffee_cafe_bebidas   \n",
       "\n",
       "                                       Representation  \\\n",
       "0                                                 NaN   \n",
       "1   [transporte, escolas, escolar, escolares, esco...   \n",
       "2   [humana, pessoal, inserviveis, abrasivos, pere...   \n",
       "3   [diesel, gasolina, combustivel, petroleo, comb...   \n",
       "4   [hospitalares, hospitalar, hospital, clinica, ...   \n",
       "5   [alimenticios, agricola, agricultura, alimento...   \n",
       "6   [pneus, rodas, automotor, cilindros, motorista...   \n",
       "7   [lampadas, iluminacao, lampada, refletores, ma...   \n",
       "8   [organizacoes, cooperacao, organizacao, socied...   \n",
       "9   [campeonatos, desportivas, competicoes, esport...   \n",
       "10  [antigenos, anticorpos, antigeno, imunocromato...   \n",
       "11  [familiares, vulnerabilidade, populacao, risco...   \n",
       "12  [mineral, agua, hidroxido, liquido, acido, ars...   \n",
       "13  [cafeteira, coffee, cafe, bebidas, refrigerant...   \n",
       "\n",
       "                                  Representative_Docs  \n",
       "0   [Aquisição de equipamentos/materiais permanent...  \n",
       "1   [Contratação de empresa (s) especializada (s) ...  \n",
       "2   [AQUISIÇÃO DE BENS DA(S) FAMÍLIA(S):0880-MEDIC...  \n",
       "3   [Registro de preços para futuras aquisições pa...  \n",
       "4   [AQUISIÇÃO DE MATERIAL MÉDICO HOSPITALAR PARA ...  \n",
       "5   [AQUISIÇÃO DE GÊNEROS ALIMENTÍCIOS DA AGRICULT...  \n",
       "6   [Registro de preços para aquisição de pneus, c...  \n",
       "7   [Aquisição de materiais para iluminação públic...  \n",
       "8   [CHAMAMENTO PÚBLICO PARA FINS DE SELECIONAR OR...  \n",
       "9   [REGISTRO DE PREÇOS de SERVIÇOS DE ARBITRAGEM,...  \n",
       "10  [AQUISIÇÃO TESTES RAPIDO DE ANTIGENO PARA COVI...  \n",
       "11  [AQUISIÇÃO DE CESTAS BÁSICAS PARA DISTRIBUIÇÃO...  \n",
       "12  [Aquisição de água mineral, Aquisição de água ...  \n",
       "13  [REGISTRO DE PREÇOS PARA FORNECIMENTO DE COFFE...  "
      ]
     },
     "execution_count": 9,
     "metadata": {},
     "output_type": "execute_result"
    }
   ],
   "source": [
    "topic_model.get_topic_info()"
   ]
  },
  {
   "cell_type": "code",
   "execution_count": 11,
   "metadata": {},
   "outputs": [
    {
     "data": {
      "text/html": [
       "<div>\n",
       "<style scoped>\n",
       "    .dataframe tbody tr th:only-of-type {\n",
       "        vertical-align: middle;\n",
       "    }\n",
       "\n",
       "    .dataframe tbody tr th {\n",
       "        vertical-align: top;\n",
       "    }\n",
       "\n",
       "    .dataframe thead th {\n",
       "        text-align: right;\n",
       "    }\n",
       "</style>\n",
       "<table border=\"1\" class=\"dataframe\">\n",
       "  <thead>\n",
       "    <tr style=\"text-align: right;\">\n",
       "      <th></th>\n",
       "      <th>Topic</th>\n",
       "      <th>Count</th>\n",
       "      <th>Name</th>\n",
       "      <th>Representation</th>\n",
       "      <th>Representative_Docs</th>\n",
       "    </tr>\n",
       "  </thead>\n",
       "  <tbody>\n",
       "    <tr>\n",
       "      <th>0</th>\n",
       "      <td>0</td>\n",
       "      <td>37703</td>\n",
       "      <td>0_empresas_abastecimento_recursos_propriedade</td>\n",
       "      <td>[empresas, abastecimento, recursos, propriedad...</td>\n",
       "      <td>[REGISTRO DE PREÇOS PARA EVENTUAL AQUISIÇÃO DE...</td>\n",
       "    </tr>\n",
       "    <tr>\n",
       "      <th>1</th>\n",
       "      <td>1</td>\n",
       "      <td>23807</td>\n",
       "      <td>1_infraestrutura_concreto_construcao_praca</td>\n",
       "      <td>[infraestrutura, concreto, construcao, praca, ...</td>\n",
       "      <td>[Aquisição de Tubos de Concreto, Materiais de ...</td>\n",
       "    </tr>\n",
       "    <tr>\n",
       "      <th>2</th>\n",
       "      <td>2</td>\n",
       "      <td>13340</td>\n",
       "      <td>2_higiene_limpeza_higienizacao_cozinha</td>\n",
       "      <td>[higiene, limpeza, higienizacao, cozinha, abas...</td>\n",
       "      <td>[registro de preço para futuras aquisições de ...</td>\n",
       "    </tr>\n",
       "    <tr>\n",
       "      <th>3</th>\n",
       "      <td>3</td>\n",
       "      <td>11343</td>\n",
       "      <td>3_clinicas_clinica_clinico_medica</td>\n",
       "      <td>[clinicas, clinica, clinico, medica, medicina,...</td>\n",
       "      <td>[AQUISIÇÃO FUTURA DE MEDICAMENTOS PARA A SECRE...</td>\n",
       "    </tr>\n",
       "    <tr>\n",
       "      <th>4</th>\n",
       "      <td>4</td>\n",
       "      <td>10937</td>\n",
       "      <td>4_escolares_escolas_escolar_educacional</td>\n",
       "      <td>[escolares, escolas, escolar, educacional, esc...</td>\n",
       "      <td>[SERVIÇO DE TRANSPORTE ESCOLAR PARA ESCOLAS DO...</td>\n",
       "    </tr>\n",
       "    <tr>\n",
       "      <th>5</th>\n",
       "      <td>5</td>\n",
       "      <td>9310</td>\n",
       "      <td>5_humana_ambulatorial_abrasivos_estofados</td>\n",
       "      <td>[humana, ambulatorial, abrasivos, estofados, a...</td>\n",
       "      <td>[AQUISIÇÃO DE BENS DA(S) FAMÍLIA(S):0880-MEDIC...</td>\n",
       "    </tr>\n",
       "    <tr>\n",
       "      <th>6</th>\n",
       "      <td>6</td>\n",
       "      <td>9021</td>\n",
       "      <td>6_pneus_automotor_equipamento_maquinas</td>\n",
       "      <td>[pneus, automotor, equipamento, maquinas, moto...</td>\n",
       "      <td>[Registro de preços para eventual prestação de...</td>\n",
       "    </tr>\n",
       "    <tr>\n",
       "      <th>7</th>\n",
       "      <td>7</td>\n",
       "      <td>7505</td>\n",
       "      <td>7_alimenticios_alimentos_agricultura_agricultores</td>\n",
       "      <td>[alimenticios, alimentos, agricultura, agricul...</td>\n",
       "      <td>[Aquisição de gêneros alimentícios da agricult...</td>\n",
       "    </tr>\n",
       "    <tr>\n",
       "      <th>8</th>\n",
       "      <td>8</td>\n",
       "      <td>5541</td>\n",
       "      <td>8_material_materiais_plastico_concreto</td>\n",
       "      <td>[material, materiais, plastico, concreto, equi...</td>\n",
       "      <td>[Material, Material, AQUISIÇÃO DE MATERIAL DE ...</td>\n",
       "    </tr>\n",
       "    <tr>\n",
       "      <th>9</th>\n",
       "      <td>9</td>\n",
       "      <td>638</td>\n",
       "      <td>9_servico___</td>\n",
       "      <td>[servico, , , , , , ]</td>\n",
       "      <td>[Contratacao de Servico, Contratacao de Servic...</td>\n",
       "    </tr>\n",
       "    <tr>\n",
       "      <th>10</th>\n",
       "      <td>10</td>\n",
       "      <td>231</td>\n",
       "      <td>10_hospitalares_medico_enfermagem_odontologicos</td>\n",
       "      <td>[hospitalares, medico, enfermagem, odontologic...</td>\n",
       "      <td>[AQUISIÇÃO DE BENS DA(S) FAMÍLIA(S):0870-EQUIP...</td>\n",
       "    </tr>\n",
       "    <tr>\n",
       "      <th>11</th>\n",
       "      <td>11</td>\n",
       "      <td>151</td>\n",
       "      <td>11_animal_natura_vegetal_alimentacao</td>\n",
       "      <td>[animal, natura, vegetal, alimentacao, origem,...</td>\n",
       "      <td>[AQUISIÇÃO DE BENS DA(S) FAMÍLIA(S):0773-ALIME...</td>\n",
       "    </tr>\n",
       "    <tr>\n",
       "      <th>12</th>\n",
       "      <td>12</td>\n",
       "      <td>44</td>\n",
       "      <td>12_hidrosanitarias_eletricas_materiais_natural</td>\n",
       "      <td>[hidrosanitarias, eletricas, materiais, natura...</td>\n",
       "      <td>[AQUISIÇÃO DE BENS DA(S) FAMÍLIA(S):0480-EQUIP...</td>\n",
       "    </tr>\n",
       "    <tr>\n",
       "      <th>13</th>\n",
       "      <td>13</td>\n",
       "      <td>33</td>\n",
       "      <td>13_medicamentos_eticos__</td>\n",
       "      <td>[medicamentos, eticos, , , , , ]</td>\n",
       "      <td>[AQUISIÇÃO DE MEDICAMENTOS, AQUISIÇÃO DE MEDIC...</td>\n",
       "    </tr>\n",
       "  </tbody>\n",
       "</table>\n",
       "</div>"
      ],
      "text/plain": [
       "    Topic  Count                                               Name  \\\n",
       "0       0  37703      0_empresas_abastecimento_recursos_propriedade   \n",
       "1       1  23807         1_infraestrutura_concreto_construcao_praca   \n",
       "2       2  13340             2_higiene_limpeza_higienizacao_cozinha   \n",
       "3       3  11343                  3_clinicas_clinica_clinico_medica   \n",
       "4       4  10937            4_escolares_escolas_escolar_educacional   \n",
       "5       5   9310          5_humana_ambulatorial_abrasivos_estofados   \n",
       "6       6   9021             6_pneus_automotor_equipamento_maquinas   \n",
       "7       7   7505  7_alimenticios_alimentos_agricultura_agricultores   \n",
       "8       8   5541             8_material_materiais_plastico_concreto   \n",
       "9       9    638                                       9_servico___   \n",
       "10     10    231    10_hospitalares_medico_enfermagem_odontologicos   \n",
       "11     11    151               11_animal_natura_vegetal_alimentacao   \n",
       "12     12     44     12_hidrosanitarias_eletricas_materiais_natural   \n",
       "13     13     33                           13_medicamentos_eticos__   \n",
       "\n",
       "                                       Representation  \\\n",
       "0   [empresas, abastecimento, recursos, propriedad...   \n",
       "1   [infraestrutura, concreto, construcao, praca, ...   \n",
       "2   [higiene, limpeza, higienizacao, cozinha, abas...   \n",
       "3   [clinicas, clinica, clinico, medica, medicina,...   \n",
       "4   [escolares, escolas, escolar, educacional, esc...   \n",
       "5   [humana, ambulatorial, abrasivos, estofados, a...   \n",
       "6   [pneus, automotor, equipamento, maquinas, moto...   \n",
       "7   [alimenticios, alimentos, agricultura, agricul...   \n",
       "8   [material, materiais, plastico, concreto, equi...   \n",
       "9                               [servico, , , , , , ]   \n",
       "10  [hospitalares, medico, enfermagem, odontologic...   \n",
       "11  [animal, natura, vegetal, alimentacao, origem,...   \n",
       "12  [hidrosanitarias, eletricas, materiais, natura...   \n",
       "13                   [medicamentos, eticos, , , , , ]   \n",
       "\n",
       "                                  Representative_Docs  \n",
       "0   [REGISTRO DE PREÇOS PARA EVENTUAL AQUISIÇÃO DE...  \n",
       "1   [Aquisição de Tubos de Concreto, Materiais de ...  \n",
       "2   [registro de preço para futuras aquisições de ...  \n",
       "3   [AQUISIÇÃO FUTURA DE MEDICAMENTOS PARA A SECRE...  \n",
       "4   [SERVIÇO DE TRANSPORTE ESCOLAR PARA ESCOLAS DO...  \n",
       "5   [AQUISIÇÃO DE BENS DA(S) FAMÍLIA(S):0880-MEDIC...  \n",
       "6   [Registro de preços para eventual prestação de...  \n",
       "7   [Aquisição de gêneros alimentícios da agricult...  \n",
       "8   [Material, Material, AQUISIÇÃO DE MATERIAL DE ...  \n",
       "9   [Contratacao de Servico, Contratacao de Servic...  \n",
       "10  [AQUISIÇÃO DE BENS DA(S) FAMÍLIA(S):0870-EQUIP...  \n",
       "11  [AQUISIÇÃO DE BENS DA(S) FAMÍLIA(S):0773-ALIME...  \n",
       "12  [AQUISIÇÃO DE BENS DA(S) FAMÍLIA(S):0480-EQUIP...  \n",
       "13  [AQUISIÇÃO DE MEDICAMENTOS, AQUISIÇÃO DE MEDIC...  "
      ]
     },
     "execution_count": 11,
     "metadata": {},
     "output_type": "execute_result"
    }
   ],
   "source": [
    "topic_model.get_topic_info()"
   ]
  },
  {
   "cell_type": "code",
   "execution_count": 6,
   "metadata": {},
   "outputs": [
    {
     "name": "stderr",
     "output_type": "stream",
     "text": [
      "/home/brunodifranco/.local/lib/python3.10/site-packages/numba/np/ufunc/parallel.py:371: NumbaWarning: \u001b[1mThe TBB threading layer requires TBB version 2021 update 6 or later i.e., TBB_INTERFACE_VERSION >= 12060. Found TBB_INTERFACE_VERSION = 12050. The TBB threading layer is disabled.\u001b[0m\n",
      "  warnings.warn(problem)\n"
     ]
    },
    {
     "data": {
      "application/vnd.plotly.v1+json": {
       "config": {
        "plotlyServerURL": "https://plot.ly"
       },
       "data": [
        {
         "customdata": [
          [
           0,
           "transporte | escolas | escolar | escolares | escola",
           19791
          ],
          [
           1,
           "humana | pessoal | inserviveis | abrasivos | pereciveis",
           4245
          ],
          [
           2,
           "diesel | gasolina | combustivel | petroleo | combustiveis",
           3928
          ],
          [
           3,
           "hospitalares | hospitalar | hospital | clinica | medicos",
           3823
          ],
          [
           4,
           "alimenticios | agricola | agricultura | alimentos | agricolas",
           3659
          ],
          [
           5,
           "pneus | rodas | automotor | cilindros | motorista",
           1883
          ],
          [
           6,
           "lampadas | iluminacao | lampada | refletores | materiais",
           1753
          ],
          [
           7,
           "organizacoes | cooperacao | organizacao | sociedade | colaboracao",
           1196
          ],
          [
           8,
           "campeonatos | desportivas | competicoes | esportivos | trofeus",
           790
          ],
          [
           9,
           "antigenos | anticorpos | antigeno | imunocromatografia | imunocromatografico",
           407
          ],
          [
           10,
           "familiares | vulnerabilidade | populacao | risco | habitacao",
           277
          ],
          [
           11,
           "mineral | agua | hidroxido | liquido | acido",
           148
          ],
          [
           12,
           "cafeteira | coffee | cafe | bebidas | refrigerantes",
           85
          ]
         ],
         "hovertemplate": "<b>Topic %{customdata[0]}</b><br>%{customdata[1]}<br>Size: %{customdata[2]}",
         "legendgroup": "",
         "marker": {
          "color": "#B0BEC5",
          "line": {
           "color": "DarkSlateGrey",
           "width": 2
          },
          "size": [
           19791,
           4245,
           3928,
           3823,
           3659,
           1883,
           1753,
           1196,
           790,
           407,
           277,
           148,
           85
          ],
          "sizemode": "area",
          "sizeref": 12.369375,
          "symbol": "circle"
         },
         "mode": "markers",
         "name": "",
         "orientation": "v",
         "showlegend": false,
         "type": "scatter",
         "x": [
          -3.37005877494812,
          -2.978815793991089,
          -2.384826421737671,
          -1.3508151769638062,
          2.3646910190582275,
          -1.175323486328125,
          -0.8738516569137573,
          -1.1259504556655884,
          -2.808438301086426,
          -2.4518866539001465,
          2.401179075241089,
          1.9119672775268555,
          -0.948034942150116
         ],
         "xaxis": "x",
         "y": [
          -9.272192001342773,
          -9.602806091308594,
          -10.106877326965332,
          -7.089392185211182,
          -10.94750690460205,
          -9.592016220092773,
          -7.461209297180176,
          -10.60906982421875,
          -8.87436294555664,
          -9.331120491027832,
          -10.457926750183105,
          -10.737561225891113,
          -6.8022332191467285
         ],
         "yaxis": "y"
        }
       ],
       "layout": {
        "annotations": [
         {
          "showarrow": false,
          "text": "D1",
          "x": -3.8755675911903382,
          "y": -9.185765588283537,
          "yshift": 10
         },
         {
          "showarrow": false,
          "text": "D2",
          "x": -0.557105827331543,
          "xshift": 10,
          "y": -5.781898236274719
         }
        ],
        "height": 650,
        "hoverlabel": {
         "bgcolor": "white",
         "font": {
          "family": "Rockwell",
          "size": 16
         }
        },
        "legend": {
         "itemsizing": "constant",
         "tracegroupgap": 0
        },
        "margin": {
         "t": 60
        },
        "shapes": [
         {
          "line": {
           "color": "#CFD8DC",
           "width": 2
          },
          "type": "line",
          "x0": -0.557105827331543,
          "x1": -0.557105827331543,
          "y0": -12.589632940292358,
          "y1": -5.781898236274719
         },
         {
          "line": {
           "color": "#9E9E9E",
           "width": 2
          },
          "type": "line",
          "x0": -3.8755675911903382,
          "x1": 2.761355936527252,
          "y0": -9.185765588283537,
          "y1": -9.185765588283537
         }
        ],
        "sliders": [
         {
          "active": 0,
          "pad": {
           "t": 50
          },
          "steps": [
           {
            "args": [
             {
              "marker.color": [
               [
                "red",
                "#B0BEC5",
                "#B0BEC5",
                "#B0BEC5",
                "#B0BEC5",
                "#B0BEC5",
                "#B0BEC5",
                "#B0BEC5",
                "#B0BEC5",
                "#B0BEC5",
                "#B0BEC5",
                "#B0BEC5",
                "#B0BEC5"
               ]
              ]
             }
            ],
            "label": "Topic 0",
            "method": "update"
           },
           {
            "args": [
             {
              "marker.color": [
               [
                "#B0BEC5",
                "red",
                "#B0BEC5",
                "#B0BEC5",
                "#B0BEC5",
                "#B0BEC5",
                "#B0BEC5",
                "#B0BEC5",
                "#B0BEC5",
                "#B0BEC5",
                "#B0BEC5",
                "#B0BEC5",
                "#B0BEC5"
               ]
              ]
             }
            ],
            "label": "Topic 1",
            "method": "update"
           },
           {
            "args": [
             {
              "marker.color": [
               [
                "#B0BEC5",
                "#B0BEC5",
                "red",
                "#B0BEC5",
                "#B0BEC5",
                "#B0BEC5",
                "#B0BEC5",
                "#B0BEC5",
                "#B0BEC5",
                "#B0BEC5",
                "#B0BEC5",
                "#B0BEC5",
                "#B0BEC5"
               ]
              ]
             }
            ],
            "label": "Topic 2",
            "method": "update"
           },
           {
            "args": [
             {
              "marker.color": [
               [
                "#B0BEC5",
                "#B0BEC5",
                "#B0BEC5",
                "red",
                "#B0BEC5",
                "#B0BEC5",
                "#B0BEC5",
                "#B0BEC5",
                "#B0BEC5",
                "#B0BEC5",
                "#B0BEC5",
                "#B0BEC5",
                "#B0BEC5"
               ]
              ]
             }
            ],
            "label": "Topic 3",
            "method": "update"
           },
           {
            "args": [
             {
              "marker.color": [
               [
                "#B0BEC5",
                "#B0BEC5",
                "#B0BEC5",
                "#B0BEC5",
                "red",
                "#B0BEC5",
                "#B0BEC5",
                "#B0BEC5",
                "#B0BEC5",
                "#B0BEC5",
                "#B0BEC5",
                "#B0BEC5",
                "#B0BEC5"
               ]
              ]
             }
            ],
            "label": "Topic 4",
            "method": "update"
           },
           {
            "args": [
             {
              "marker.color": [
               [
                "#B0BEC5",
                "#B0BEC5",
                "#B0BEC5",
                "#B0BEC5",
                "#B0BEC5",
                "red",
                "#B0BEC5",
                "#B0BEC5",
                "#B0BEC5",
                "#B0BEC5",
                "#B0BEC5",
                "#B0BEC5",
                "#B0BEC5"
               ]
              ]
             }
            ],
            "label": "Topic 5",
            "method": "update"
           },
           {
            "args": [
             {
              "marker.color": [
               [
                "#B0BEC5",
                "#B0BEC5",
                "#B0BEC5",
                "#B0BEC5",
                "#B0BEC5",
                "#B0BEC5",
                "red",
                "#B0BEC5",
                "#B0BEC5",
                "#B0BEC5",
                "#B0BEC5",
                "#B0BEC5",
                "#B0BEC5"
               ]
              ]
             }
            ],
            "label": "Topic 6",
            "method": "update"
           },
           {
            "args": [
             {
              "marker.color": [
               [
                "#B0BEC5",
                "#B0BEC5",
                "#B0BEC5",
                "#B0BEC5",
                "#B0BEC5",
                "#B0BEC5",
                "#B0BEC5",
                "red",
                "#B0BEC5",
                "#B0BEC5",
                "#B0BEC5",
                "#B0BEC5",
                "#B0BEC5"
               ]
              ]
             }
            ],
            "label": "Topic 7",
            "method": "update"
           },
           {
            "args": [
             {
              "marker.color": [
               [
                "#B0BEC5",
                "#B0BEC5",
                "#B0BEC5",
                "#B0BEC5",
                "#B0BEC5",
                "#B0BEC5",
                "#B0BEC5",
                "#B0BEC5",
                "red",
                "#B0BEC5",
                "#B0BEC5",
                "#B0BEC5",
                "#B0BEC5"
               ]
              ]
             }
            ],
            "label": "Topic 8",
            "method": "update"
           },
           {
            "args": [
             {
              "marker.color": [
               [
                "#B0BEC5",
                "#B0BEC5",
                "#B0BEC5",
                "#B0BEC5",
                "#B0BEC5",
                "#B0BEC5",
                "#B0BEC5",
                "#B0BEC5",
                "#B0BEC5",
                "red",
                "#B0BEC5",
                "#B0BEC5",
                "#B0BEC5"
               ]
              ]
             }
            ],
            "label": "Topic 9",
            "method": "update"
           },
           {
            "args": [
             {
              "marker.color": [
               [
                "#B0BEC5",
                "#B0BEC5",
                "#B0BEC5",
                "#B0BEC5",
                "#B0BEC5",
                "#B0BEC5",
                "#B0BEC5",
                "#B0BEC5",
                "#B0BEC5",
                "#B0BEC5",
                "red",
                "#B0BEC5",
                "#B0BEC5"
               ]
              ]
             }
            ],
            "label": "Topic 10",
            "method": "update"
           },
           {
            "args": [
             {
              "marker.color": [
               [
                "#B0BEC5",
                "#B0BEC5",
                "#B0BEC5",
                "#B0BEC5",
                "#B0BEC5",
                "#B0BEC5",
                "#B0BEC5",
                "#B0BEC5",
                "#B0BEC5",
                "#B0BEC5",
                "#B0BEC5",
                "red",
                "#B0BEC5"
               ]
              ]
             }
            ],
            "label": "Topic 11",
            "method": "update"
           },
           {
            "args": [
             {
              "marker.color": [
               [
                "#B0BEC5",
                "#B0BEC5",
                "#B0BEC5",
                "#B0BEC5",
                "#B0BEC5",
                "#B0BEC5",
                "#B0BEC5",
                "#B0BEC5",
                "#B0BEC5",
                "#B0BEC5",
                "#B0BEC5",
                "#B0BEC5",
                "red"
               ]
              ]
             }
            ],
            "label": "Topic 12",
            "method": "update"
           }
          ]
         }
        ],
        "template": {
         "data": {
          "bar": [
           {
            "error_x": {
             "color": "rgb(36,36,36)"
            },
            "error_y": {
             "color": "rgb(36,36,36)"
            },
            "marker": {
             "line": {
              "color": "white",
              "width": 0.5
             },
             "pattern": {
              "fillmode": "overlay",
              "size": 10,
              "solidity": 0.2
             }
            },
            "type": "bar"
           }
          ],
          "barpolar": [
           {
            "marker": {
             "line": {
              "color": "white",
              "width": 0.5
             },
             "pattern": {
              "fillmode": "overlay",
              "size": 10,
              "solidity": 0.2
             }
            },
            "type": "barpolar"
           }
          ],
          "carpet": [
           {
            "aaxis": {
             "endlinecolor": "rgb(36,36,36)",
             "gridcolor": "white",
             "linecolor": "white",
             "minorgridcolor": "white",
             "startlinecolor": "rgb(36,36,36)"
            },
            "baxis": {
             "endlinecolor": "rgb(36,36,36)",
             "gridcolor": "white",
             "linecolor": "white",
             "minorgridcolor": "white",
             "startlinecolor": "rgb(36,36,36)"
            },
            "type": "carpet"
           }
          ],
          "choropleth": [
           {
            "colorbar": {
             "outlinewidth": 1,
             "tickcolor": "rgb(36,36,36)",
             "ticks": "outside"
            },
            "type": "choropleth"
           }
          ],
          "contour": [
           {
            "colorbar": {
             "outlinewidth": 1,
             "tickcolor": "rgb(36,36,36)",
             "ticks": "outside"
            },
            "colorscale": [
             [
              0,
              "#440154"
             ],
             [
              0.1111111111111111,
              "#482878"
             ],
             [
              0.2222222222222222,
              "#3e4989"
             ],
             [
              0.3333333333333333,
              "#31688e"
             ],
             [
              0.4444444444444444,
              "#26828e"
             ],
             [
              0.5555555555555556,
              "#1f9e89"
             ],
             [
              0.6666666666666666,
              "#35b779"
             ],
             [
              0.7777777777777778,
              "#6ece58"
             ],
             [
              0.8888888888888888,
              "#b5de2b"
             ],
             [
              1,
              "#fde725"
             ]
            ],
            "type": "contour"
           }
          ],
          "contourcarpet": [
           {
            "colorbar": {
             "outlinewidth": 1,
             "tickcolor": "rgb(36,36,36)",
             "ticks": "outside"
            },
            "type": "contourcarpet"
           }
          ],
          "heatmap": [
           {
            "colorbar": {
             "outlinewidth": 1,
             "tickcolor": "rgb(36,36,36)",
             "ticks": "outside"
            },
            "colorscale": [
             [
              0,
              "#440154"
             ],
             [
              0.1111111111111111,
              "#482878"
             ],
             [
              0.2222222222222222,
              "#3e4989"
             ],
             [
              0.3333333333333333,
              "#31688e"
             ],
             [
              0.4444444444444444,
              "#26828e"
             ],
             [
              0.5555555555555556,
              "#1f9e89"
             ],
             [
              0.6666666666666666,
              "#35b779"
             ],
             [
              0.7777777777777778,
              "#6ece58"
             ],
             [
              0.8888888888888888,
              "#b5de2b"
             ],
             [
              1,
              "#fde725"
             ]
            ],
            "type": "heatmap"
           }
          ],
          "heatmapgl": [
           {
            "colorbar": {
             "outlinewidth": 1,
             "tickcolor": "rgb(36,36,36)",
             "ticks": "outside"
            },
            "colorscale": [
             [
              0,
              "#440154"
             ],
             [
              0.1111111111111111,
              "#482878"
             ],
             [
              0.2222222222222222,
              "#3e4989"
             ],
             [
              0.3333333333333333,
              "#31688e"
             ],
             [
              0.4444444444444444,
              "#26828e"
             ],
             [
              0.5555555555555556,
              "#1f9e89"
             ],
             [
              0.6666666666666666,
              "#35b779"
             ],
             [
              0.7777777777777778,
              "#6ece58"
             ],
             [
              0.8888888888888888,
              "#b5de2b"
             ],
             [
              1,
              "#fde725"
             ]
            ],
            "type": "heatmapgl"
           }
          ],
          "histogram": [
           {
            "marker": {
             "line": {
              "color": "white",
              "width": 0.6
             }
            },
            "type": "histogram"
           }
          ],
          "histogram2d": [
           {
            "colorbar": {
             "outlinewidth": 1,
             "tickcolor": "rgb(36,36,36)",
             "ticks": "outside"
            },
            "colorscale": [
             [
              0,
              "#440154"
             ],
             [
              0.1111111111111111,
              "#482878"
             ],
             [
              0.2222222222222222,
              "#3e4989"
             ],
             [
              0.3333333333333333,
              "#31688e"
             ],
             [
              0.4444444444444444,
              "#26828e"
             ],
             [
              0.5555555555555556,
              "#1f9e89"
             ],
             [
              0.6666666666666666,
              "#35b779"
             ],
             [
              0.7777777777777778,
              "#6ece58"
             ],
             [
              0.8888888888888888,
              "#b5de2b"
             ],
             [
              1,
              "#fde725"
             ]
            ],
            "type": "histogram2d"
           }
          ],
          "histogram2dcontour": [
           {
            "colorbar": {
             "outlinewidth": 1,
             "tickcolor": "rgb(36,36,36)",
             "ticks": "outside"
            },
            "colorscale": [
             [
              0,
              "#440154"
             ],
             [
              0.1111111111111111,
              "#482878"
             ],
             [
              0.2222222222222222,
              "#3e4989"
             ],
             [
              0.3333333333333333,
              "#31688e"
             ],
             [
              0.4444444444444444,
              "#26828e"
             ],
             [
              0.5555555555555556,
              "#1f9e89"
             ],
             [
              0.6666666666666666,
              "#35b779"
             ],
             [
              0.7777777777777778,
              "#6ece58"
             ],
             [
              0.8888888888888888,
              "#b5de2b"
             ],
             [
              1,
              "#fde725"
             ]
            ],
            "type": "histogram2dcontour"
           }
          ],
          "mesh3d": [
           {
            "colorbar": {
             "outlinewidth": 1,
             "tickcolor": "rgb(36,36,36)",
             "ticks": "outside"
            },
            "type": "mesh3d"
           }
          ],
          "parcoords": [
           {
            "line": {
             "colorbar": {
              "outlinewidth": 1,
              "tickcolor": "rgb(36,36,36)",
              "ticks": "outside"
             }
            },
            "type": "parcoords"
           }
          ],
          "pie": [
           {
            "automargin": true,
            "type": "pie"
           }
          ],
          "scatter": [
           {
            "fillpattern": {
             "fillmode": "overlay",
             "size": 10,
             "solidity": 0.2
            },
            "type": "scatter"
           }
          ],
          "scatter3d": [
           {
            "line": {
             "colorbar": {
              "outlinewidth": 1,
              "tickcolor": "rgb(36,36,36)",
              "ticks": "outside"
             }
            },
            "marker": {
             "colorbar": {
              "outlinewidth": 1,
              "tickcolor": "rgb(36,36,36)",
              "ticks": "outside"
             }
            },
            "type": "scatter3d"
           }
          ],
          "scattercarpet": [
           {
            "marker": {
             "colorbar": {
              "outlinewidth": 1,
              "tickcolor": "rgb(36,36,36)",
              "ticks": "outside"
             }
            },
            "type": "scattercarpet"
           }
          ],
          "scattergeo": [
           {
            "marker": {
             "colorbar": {
              "outlinewidth": 1,
              "tickcolor": "rgb(36,36,36)",
              "ticks": "outside"
             }
            },
            "type": "scattergeo"
           }
          ],
          "scattergl": [
           {
            "marker": {
             "colorbar": {
              "outlinewidth": 1,
              "tickcolor": "rgb(36,36,36)",
              "ticks": "outside"
             }
            },
            "type": "scattergl"
           }
          ],
          "scattermapbox": [
           {
            "marker": {
             "colorbar": {
              "outlinewidth": 1,
              "tickcolor": "rgb(36,36,36)",
              "ticks": "outside"
             }
            },
            "type": "scattermapbox"
           }
          ],
          "scatterpolar": [
           {
            "marker": {
             "colorbar": {
              "outlinewidth": 1,
              "tickcolor": "rgb(36,36,36)",
              "ticks": "outside"
             }
            },
            "type": "scatterpolar"
           }
          ],
          "scatterpolargl": [
           {
            "marker": {
             "colorbar": {
              "outlinewidth": 1,
              "tickcolor": "rgb(36,36,36)",
              "ticks": "outside"
             }
            },
            "type": "scatterpolargl"
           }
          ],
          "scatterternary": [
           {
            "marker": {
             "colorbar": {
              "outlinewidth": 1,
              "tickcolor": "rgb(36,36,36)",
              "ticks": "outside"
             }
            },
            "type": "scatterternary"
           }
          ],
          "surface": [
           {
            "colorbar": {
             "outlinewidth": 1,
             "tickcolor": "rgb(36,36,36)",
             "ticks": "outside"
            },
            "colorscale": [
             [
              0,
              "#440154"
             ],
             [
              0.1111111111111111,
              "#482878"
             ],
             [
              0.2222222222222222,
              "#3e4989"
             ],
             [
              0.3333333333333333,
              "#31688e"
             ],
             [
              0.4444444444444444,
              "#26828e"
             ],
             [
              0.5555555555555556,
              "#1f9e89"
             ],
             [
              0.6666666666666666,
              "#35b779"
             ],
             [
              0.7777777777777778,
              "#6ece58"
             ],
             [
              0.8888888888888888,
              "#b5de2b"
             ],
             [
              1,
              "#fde725"
             ]
            ],
            "type": "surface"
           }
          ],
          "table": [
           {
            "cells": {
             "fill": {
              "color": "rgb(237,237,237)"
             },
             "line": {
              "color": "white"
             }
            },
            "header": {
             "fill": {
              "color": "rgb(217,217,217)"
             },
             "line": {
              "color": "white"
             }
            },
            "type": "table"
           }
          ]
         },
         "layout": {
          "annotationdefaults": {
           "arrowhead": 0,
           "arrowwidth": 1
          },
          "autotypenumbers": "strict",
          "coloraxis": {
           "colorbar": {
            "outlinewidth": 1,
            "tickcolor": "rgb(36,36,36)",
            "ticks": "outside"
           }
          },
          "colorscale": {
           "diverging": [
            [
             0,
             "rgb(103,0,31)"
            ],
            [
             0.1,
             "rgb(178,24,43)"
            ],
            [
             0.2,
             "rgb(214,96,77)"
            ],
            [
             0.3,
             "rgb(244,165,130)"
            ],
            [
             0.4,
             "rgb(253,219,199)"
            ],
            [
             0.5,
             "rgb(247,247,247)"
            ],
            [
             0.6,
             "rgb(209,229,240)"
            ],
            [
             0.7,
             "rgb(146,197,222)"
            ],
            [
             0.8,
             "rgb(67,147,195)"
            ],
            [
             0.9,
             "rgb(33,102,172)"
            ],
            [
             1,
             "rgb(5,48,97)"
            ]
           ],
           "sequential": [
            [
             0,
             "#440154"
            ],
            [
             0.1111111111111111,
             "#482878"
            ],
            [
             0.2222222222222222,
             "#3e4989"
            ],
            [
             0.3333333333333333,
             "#31688e"
            ],
            [
             0.4444444444444444,
             "#26828e"
            ],
            [
             0.5555555555555556,
             "#1f9e89"
            ],
            [
             0.6666666666666666,
             "#35b779"
            ],
            [
             0.7777777777777778,
             "#6ece58"
            ],
            [
             0.8888888888888888,
             "#b5de2b"
            ],
            [
             1,
             "#fde725"
            ]
           ],
           "sequentialminus": [
            [
             0,
             "#440154"
            ],
            [
             0.1111111111111111,
             "#482878"
            ],
            [
             0.2222222222222222,
             "#3e4989"
            ],
            [
             0.3333333333333333,
             "#31688e"
            ],
            [
             0.4444444444444444,
             "#26828e"
            ],
            [
             0.5555555555555556,
             "#1f9e89"
            ],
            [
             0.6666666666666666,
             "#35b779"
            ],
            [
             0.7777777777777778,
             "#6ece58"
            ],
            [
             0.8888888888888888,
             "#b5de2b"
            ],
            [
             1,
             "#fde725"
            ]
           ]
          },
          "colorway": [
           "#1F77B4",
           "#FF7F0E",
           "#2CA02C",
           "#D62728",
           "#9467BD",
           "#8C564B",
           "#E377C2",
           "#7F7F7F",
           "#BCBD22",
           "#17BECF"
          ],
          "font": {
           "color": "rgb(36,36,36)"
          },
          "geo": {
           "bgcolor": "white",
           "lakecolor": "white",
           "landcolor": "white",
           "showlakes": true,
           "showland": true,
           "subunitcolor": "white"
          },
          "hoverlabel": {
           "align": "left"
          },
          "hovermode": "closest",
          "mapbox": {
           "style": "light"
          },
          "paper_bgcolor": "white",
          "plot_bgcolor": "white",
          "polar": {
           "angularaxis": {
            "gridcolor": "rgb(232,232,232)",
            "linecolor": "rgb(36,36,36)",
            "showgrid": false,
            "showline": true,
            "ticks": "outside"
           },
           "bgcolor": "white",
           "radialaxis": {
            "gridcolor": "rgb(232,232,232)",
            "linecolor": "rgb(36,36,36)",
            "showgrid": false,
            "showline": true,
            "ticks": "outside"
           }
          },
          "scene": {
           "xaxis": {
            "backgroundcolor": "white",
            "gridcolor": "rgb(232,232,232)",
            "gridwidth": 2,
            "linecolor": "rgb(36,36,36)",
            "showbackground": true,
            "showgrid": false,
            "showline": true,
            "ticks": "outside",
            "zeroline": false,
            "zerolinecolor": "rgb(36,36,36)"
           },
           "yaxis": {
            "backgroundcolor": "white",
            "gridcolor": "rgb(232,232,232)",
            "gridwidth": 2,
            "linecolor": "rgb(36,36,36)",
            "showbackground": true,
            "showgrid": false,
            "showline": true,
            "ticks": "outside",
            "zeroline": false,
            "zerolinecolor": "rgb(36,36,36)"
           },
           "zaxis": {
            "backgroundcolor": "white",
            "gridcolor": "rgb(232,232,232)",
            "gridwidth": 2,
            "linecolor": "rgb(36,36,36)",
            "showbackground": true,
            "showgrid": false,
            "showline": true,
            "ticks": "outside",
            "zeroline": false,
            "zerolinecolor": "rgb(36,36,36)"
           }
          },
          "shapedefaults": {
           "fillcolor": "black",
           "line": {
            "width": 0
           },
           "opacity": 0.3
          },
          "ternary": {
           "aaxis": {
            "gridcolor": "rgb(232,232,232)",
            "linecolor": "rgb(36,36,36)",
            "showgrid": false,
            "showline": true,
            "ticks": "outside"
           },
           "baxis": {
            "gridcolor": "rgb(232,232,232)",
            "linecolor": "rgb(36,36,36)",
            "showgrid": false,
            "showline": true,
            "ticks": "outside"
           },
           "bgcolor": "white",
           "caxis": {
            "gridcolor": "rgb(232,232,232)",
            "linecolor": "rgb(36,36,36)",
            "showgrid": false,
            "showline": true,
            "ticks": "outside"
           }
          },
          "title": {
           "x": 0.05
          },
          "xaxis": {
           "automargin": true,
           "gridcolor": "rgb(232,232,232)",
           "linecolor": "rgb(36,36,36)",
           "showgrid": false,
           "showline": true,
           "ticks": "outside",
           "title": {
            "standoff": 15
           },
           "zeroline": false,
           "zerolinecolor": "rgb(36,36,36)"
          },
          "yaxis": {
           "automargin": true,
           "gridcolor": "rgb(232,232,232)",
           "linecolor": "rgb(36,36,36)",
           "showgrid": false,
           "showline": true,
           "ticks": "outside",
           "title": {
            "standoff": 15
           },
           "zeroline": false,
           "zerolinecolor": "rgb(36,36,36)"
          }
         }
        },
        "title": {
         "font": {
          "color": "Black",
          "size": 22
         },
         "text": "<b>Intertopic Distance Map</b>",
         "x": 0.5,
         "xanchor": "center",
         "y": 0.95,
         "yanchor": "top"
        },
        "width": 650,
        "xaxis": {
         "anchor": "y",
         "domain": [
          0,
          1
         ],
         "range": [
          -3.8755675911903382,
          2.761355936527252
         ],
         "title": {
          "text": ""
         },
         "visible": false
        },
        "yaxis": {
         "anchor": "x",
         "domain": [
          0,
          1
         ],
         "range": [
          -12.589632940292358,
          -5.781898236274719
         ],
         "title": {
          "text": ""
         },
         "visible": false
        }
       }
      }
     },
     "metadata": {},
     "output_type": "display_data"
    }
   ],
   "source": [
    "topic_model.visualize_topics()"
   ]
  },
  {
   "cell_type": "code",
   "execution_count": 4,
   "metadata": {},
   "outputs": [
    {
     "name": "stderr",
     "output_type": "stream",
     "text": [
      "/home/brunodifranco/.local/lib/python3.10/site-packages/numba/np/ufunc/parallel.py:371: NumbaWarning: \u001b[1mThe TBB threading layer requires TBB version 2021 update 6 or later i.e., TBB_INTERFACE_VERSION >= 12060. Found TBB_INTERFACE_VERSION = 12050. The TBB threading layer is disabled.\u001b[0m\n",
      "  warnings.warn(problem)\n"
     ]
    },
    {
     "data": {
      "application/vnd.plotly.v1+json": {
       "config": {
        "plotlyServerURL": "https://plot.ly"
       },
       "data": [
        {
         "customdata": [
          [
           0,
           "empresas | abastecimento | recursos | propriedade | construcao",
           37703
          ],
          [
           1,
           "infraestrutura | concreto | construcao | praca | asfaltico",
           23807
          ],
          [
           2,
           "higiene | limpeza | higienizacao | cozinha | abastecimento",
           13340
          ],
          [
           3,
           "clinicas | clinica | clinico | medica | medicina",
           11343
          ],
          [
           4,
           "escolares | escolas | escolar | educacional | escola",
           10937
          ],
          [
           5,
           "humana | ambulatorial | abrasivos | estofados | acessorios",
           9310
          ],
          [
           6,
           "pneus | automotor | equipamento | maquinas | motor",
           9021
          ],
          [
           7,
           "alimenticios | alimentos | agricultura | agricultores | hortifrutigranjeiros",
           7505
          ],
          [
           8,
           "material | materiais | plastico | concreto | equipamentos",
           5541
          ],
          [
           9,
           "servico |  |  |  | ",
           638
          ],
          [
           10,
           "hospitalares | medico | enfermagem | odontologicos | equipamentos",
           231
          ],
          [
           11,
           "animal | natura | vegetal | alimentacao | origem",
           151
          ],
          [
           12,
           "hidrosanitarias | eletricas | materiais | natural | instalacoes",
           44
          ],
          [
           13,
           "medicamentos | eticos |  |  | ",
           33
          ]
         ],
         "hovertemplate": "<b>Topic %{customdata[0]}</b><br>%{customdata[1]}<br>Size: %{customdata[2]}",
         "legendgroup": "",
         "marker": {
          "color": "#B0BEC5",
          "line": {
           "color": "DarkSlateGrey",
           "width": 2
          },
          "size": [
           37703,
           23807,
           13340,
           11343,
           10937,
           9310,
           9021,
           7505,
           5541,
           638,
           231,
           151,
           44,
           33
          ],
          "sizemode": "area",
          "sizeref": 23.564375,
          "symbol": "circle"
         },
         "mode": "markers",
         "name": "",
         "orientation": "v",
         "showlegend": false,
         "type": "scatter",
         "x": [
          14.630879402160645,
          7.584100723266602,
          7.89018440246582,
          3.2337000370025635,
          14.07675838470459,
          15.237112998962402,
          8.027217864990234,
          13.632096290588379,
          15.38737964630127,
          3.447611093521118,
          2.881218671798706,
          15.5920991897583,
          15.795945167541504,
          2.7717363834381104
         ],
         "xaxis": "x",
         "y": [
          13.747357368469238,
          -9.229204177856445,
          -8.92302417755127,
          -1.6232614517211914,
          13.818265914916992,
          13.6624116897583,
          -8.784910202026367,
          13.596307754516602,
          13.906736373901367,
          -1.2414764165878296,
          -1.9919811487197876,
          14.712943077087402,
          15.040938377380371,
          -1.333664894104004
         ],
         "yaxis": "y"
        }
       ],
       "layout": {
        "annotations": [
         {
          "showarrow": false,
          "text": "D1",
          "x": 2.355975925922394,
          "y": 3.3417471647262573,
          "yshift": 10
         },
         {
          "showarrow": false,
          "text": "D2",
          "x": 10.260656434297562,
          "xshift": 10,
          "y": 17.297079133987427
         }
        ],
        "height": 650,
        "hoverlabel": {
         "bgcolor": "white",
         "font": {
          "family": "Rockwell",
          "size": 16
         }
        },
        "legend": {
         "itemsizing": "constant",
         "tracegroupgap": 0
        },
        "margin": {
         "t": 60
        },
        "shapes": [
         {
          "line": {
           "color": "#CFD8DC",
           "width": 2
          },
          "type": "line",
          "x0": 10.260656434297562,
          "x1": 10.260656434297562,
          "y0": -10.613584804534913,
          "y1": 17.297079133987427
         },
         {
          "line": {
           "color": "#9E9E9E",
           "width": 2
          },
          "type": "line",
          "x0": 2.355975925922394,
          "x1": 18.16533694267273,
          "y0": 3.3417471647262573,
          "y1": 3.3417471647262573
         }
        ],
        "sliders": [
         {
          "active": 0,
          "pad": {
           "t": 50
          },
          "steps": [
           {
            "args": [
             {
              "marker.color": [
               [
                "red",
                "#B0BEC5",
                "#B0BEC5",
                "#B0BEC5",
                "#B0BEC5",
                "#B0BEC5",
                "#B0BEC5",
                "#B0BEC5",
                "#B0BEC5",
                "#B0BEC5",
                "#B0BEC5",
                "#B0BEC5",
                "#B0BEC5",
                "#B0BEC5"
               ]
              ]
             }
            ],
            "label": "Topic 0",
            "method": "update"
           },
           {
            "args": [
             {
              "marker.color": [
               [
                "#B0BEC5",
                "red",
                "#B0BEC5",
                "#B0BEC5",
                "#B0BEC5",
                "#B0BEC5",
                "#B0BEC5",
                "#B0BEC5",
                "#B0BEC5",
                "#B0BEC5",
                "#B0BEC5",
                "#B0BEC5",
                "#B0BEC5",
                "#B0BEC5"
               ]
              ]
             }
            ],
            "label": "Topic 1",
            "method": "update"
           },
           {
            "args": [
             {
              "marker.color": [
               [
                "#B0BEC5",
                "#B0BEC5",
                "red",
                "#B0BEC5",
                "#B0BEC5",
                "#B0BEC5",
                "#B0BEC5",
                "#B0BEC5",
                "#B0BEC5",
                "#B0BEC5",
                "#B0BEC5",
                "#B0BEC5",
                "#B0BEC5",
                "#B0BEC5"
               ]
              ]
             }
            ],
            "label": "Topic 2",
            "method": "update"
           },
           {
            "args": [
             {
              "marker.color": [
               [
                "#B0BEC5",
                "#B0BEC5",
                "#B0BEC5",
                "red",
                "#B0BEC5",
                "#B0BEC5",
                "#B0BEC5",
                "#B0BEC5",
                "#B0BEC5",
                "#B0BEC5",
                "#B0BEC5",
                "#B0BEC5",
                "#B0BEC5",
                "#B0BEC5"
               ]
              ]
             }
            ],
            "label": "Topic 3",
            "method": "update"
           },
           {
            "args": [
             {
              "marker.color": [
               [
                "#B0BEC5",
                "#B0BEC5",
                "#B0BEC5",
                "#B0BEC5",
                "red",
                "#B0BEC5",
                "#B0BEC5",
                "#B0BEC5",
                "#B0BEC5",
                "#B0BEC5",
                "#B0BEC5",
                "#B0BEC5",
                "#B0BEC5",
                "#B0BEC5"
               ]
              ]
             }
            ],
            "label": "Topic 4",
            "method": "update"
           },
           {
            "args": [
             {
              "marker.color": [
               [
                "#B0BEC5",
                "#B0BEC5",
                "#B0BEC5",
                "#B0BEC5",
                "#B0BEC5",
                "red",
                "#B0BEC5",
                "#B0BEC5",
                "#B0BEC5",
                "#B0BEC5",
                "#B0BEC5",
                "#B0BEC5",
                "#B0BEC5",
                "#B0BEC5"
               ]
              ]
             }
            ],
            "label": "Topic 5",
            "method": "update"
           },
           {
            "args": [
             {
              "marker.color": [
               [
                "#B0BEC5",
                "#B0BEC5",
                "#B0BEC5",
                "#B0BEC5",
                "#B0BEC5",
                "#B0BEC5",
                "red",
                "#B0BEC5",
                "#B0BEC5",
                "#B0BEC5",
                "#B0BEC5",
                "#B0BEC5",
                "#B0BEC5",
                "#B0BEC5"
               ]
              ]
             }
            ],
            "label": "Topic 6",
            "method": "update"
           },
           {
            "args": [
             {
              "marker.color": [
               [
                "#B0BEC5",
                "#B0BEC5",
                "#B0BEC5",
                "#B0BEC5",
                "#B0BEC5",
                "#B0BEC5",
                "#B0BEC5",
                "red",
                "#B0BEC5",
                "#B0BEC5",
                "#B0BEC5",
                "#B0BEC5",
                "#B0BEC5",
                "#B0BEC5"
               ]
              ]
             }
            ],
            "label": "Topic 7",
            "method": "update"
           },
           {
            "args": [
             {
              "marker.color": [
               [
                "#B0BEC5",
                "#B0BEC5",
                "#B0BEC5",
                "#B0BEC5",
                "#B0BEC5",
                "#B0BEC5",
                "#B0BEC5",
                "#B0BEC5",
                "red",
                "#B0BEC5",
                "#B0BEC5",
                "#B0BEC5",
                "#B0BEC5",
                "#B0BEC5"
               ]
              ]
             }
            ],
            "label": "Topic 8",
            "method": "update"
           },
           {
            "args": [
             {
              "marker.color": [
               [
                "#B0BEC5",
                "#B0BEC5",
                "#B0BEC5",
                "#B0BEC5",
                "#B0BEC5",
                "#B0BEC5",
                "#B0BEC5",
                "#B0BEC5",
                "#B0BEC5",
                "red",
                "#B0BEC5",
                "#B0BEC5",
                "#B0BEC5",
                "#B0BEC5"
               ]
              ]
             }
            ],
            "label": "Topic 9",
            "method": "update"
           },
           {
            "args": [
             {
              "marker.color": [
               [
                "#B0BEC5",
                "#B0BEC5",
                "#B0BEC5",
                "#B0BEC5",
                "#B0BEC5",
                "#B0BEC5",
                "#B0BEC5",
                "#B0BEC5",
                "#B0BEC5",
                "#B0BEC5",
                "red",
                "#B0BEC5",
                "#B0BEC5",
                "#B0BEC5"
               ]
              ]
             }
            ],
            "label": "Topic 10",
            "method": "update"
           },
           {
            "args": [
             {
              "marker.color": [
               [
                "#B0BEC5",
                "#B0BEC5",
                "#B0BEC5",
                "#B0BEC5",
                "#B0BEC5",
                "#B0BEC5",
                "#B0BEC5",
                "#B0BEC5",
                "#B0BEC5",
                "#B0BEC5",
                "#B0BEC5",
                "red",
                "#B0BEC5",
                "#B0BEC5"
               ]
              ]
             }
            ],
            "label": "Topic 11",
            "method": "update"
           },
           {
            "args": [
             {
              "marker.color": [
               [
                "#B0BEC5",
                "#B0BEC5",
                "#B0BEC5",
                "#B0BEC5",
                "#B0BEC5",
                "#B0BEC5",
                "#B0BEC5",
                "#B0BEC5",
                "#B0BEC5",
                "#B0BEC5",
                "#B0BEC5",
                "#B0BEC5",
                "red",
                "#B0BEC5"
               ]
              ]
             }
            ],
            "label": "Topic 12",
            "method": "update"
           },
           {
            "args": [
             {
              "marker.color": [
               [
                "#B0BEC5",
                "#B0BEC5",
                "#B0BEC5",
                "#B0BEC5",
                "#B0BEC5",
                "#B0BEC5",
                "#B0BEC5",
                "#B0BEC5",
                "#B0BEC5",
                "#B0BEC5",
                "#B0BEC5",
                "#B0BEC5",
                "#B0BEC5",
                "red"
               ]
              ]
             }
            ],
            "label": "Topic 13",
            "method": "update"
           }
          ]
         }
        ],
        "template": {
         "data": {
          "bar": [
           {
            "error_x": {
             "color": "rgb(36,36,36)"
            },
            "error_y": {
             "color": "rgb(36,36,36)"
            },
            "marker": {
             "line": {
              "color": "white",
              "width": 0.5
             },
             "pattern": {
              "fillmode": "overlay",
              "size": 10,
              "solidity": 0.2
             }
            },
            "type": "bar"
           }
          ],
          "barpolar": [
           {
            "marker": {
             "line": {
              "color": "white",
              "width": 0.5
             },
             "pattern": {
              "fillmode": "overlay",
              "size": 10,
              "solidity": 0.2
             }
            },
            "type": "barpolar"
           }
          ],
          "carpet": [
           {
            "aaxis": {
             "endlinecolor": "rgb(36,36,36)",
             "gridcolor": "white",
             "linecolor": "white",
             "minorgridcolor": "white",
             "startlinecolor": "rgb(36,36,36)"
            },
            "baxis": {
             "endlinecolor": "rgb(36,36,36)",
             "gridcolor": "white",
             "linecolor": "white",
             "minorgridcolor": "white",
             "startlinecolor": "rgb(36,36,36)"
            },
            "type": "carpet"
           }
          ],
          "choropleth": [
           {
            "colorbar": {
             "outlinewidth": 1,
             "tickcolor": "rgb(36,36,36)",
             "ticks": "outside"
            },
            "type": "choropleth"
           }
          ],
          "contour": [
           {
            "colorbar": {
             "outlinewidth": 1,
             "tickcolor": "rgb(36,36,36)",
             "ticks": "outside"
            },
            "colorscale": [
             [
              0,
              "#440154"
             ],
             [
              0.1111111111111111,
              "#482878"
             ],
             [
              0.2222222222222222,
              "#3e4989"
             ],
             [
              0.3333333333333333,
              "#31688e"
             ],
             [
              0.4444444444444444,
              "#26828e"
             ],
             [
              0.5555555555555556,
              "#1f9e89"
             ],
             [
              0.6666666666666666,
              "#35b779"
             ],
             [
              0.7777777777777778,
              "#6ece58"
             ],
             [
              0.8888888888888888,
              "#b5de2b"
             ],
             [
              1,
              "#fde725"
             ]
            ],
            "type": "contour"
           }
          ],
          "contourcarpet": [
           {
            "colorbar": {
             "outlinewidth": 1,
             "tickcolor": "rgb(36,36,36)",
             "ticks": "outside"
            },
            "type": "contourcarpet"
           }
          ],
          "heatmap": [
           {
            "colorbar": {
             "outlinewidth": 1,
             "tickcolor": "rgb(36,36,36)",
             "ticks": "outside"
            },
            "colorscale": [
             [
              0,
              "#440154"
             ],
             [
              0.1111111111111111,
              "#482878"
             ],
             [
              0.2222222222222222,
              "#3e4989"
             ],
             [
              0.3333333333333333,
              "#31688e"
             ],
             [
              0.4444444444444444,
              "#26828e"
             ],
             [
              0.5555555555555556,
              "#1f9e89"
             ],
             [
              0.6666666666666666,
              "#35b779"
             ],
             [
              0.7777777777777778,
              "#6ece58"
             ],
             [
              0.8888888888888888,
              "#b5de2b"
             ],
             [
              1,
              "#fde725"
             ]
            ],
            "type": "heatmap"
           }
          ],
          "heatmapgl": [
           {
            "colorbar": {
             "outlinewidth": 1,
             "tickcolor": "rgb(36,36,36)",
             "ticks": "outside"
            },
            "colorscale": [
             [
              0,
              "#440154"
             ],
             [
              0.1111111111111111,
              "#482878"
             ],
             [
              0.2222222222222222,
              "#3e4989"
             ],
             [
              0.3333333333333333,
              "#31688e"
             ],
             [
              0.4444444444444444,
              "#26828e"
             ],
             [
              0.5555555555555556,
              "#1f9e89"
             ],
             [
              0.6666666666666666,
              "#35b779"
             ],
             [
              0.7777777777777778,
              "#6ece58"
             ],
             [
              0.8888888888888888,
              "#b5de2b"
             ],
             [
              1,
              "#fde725"
             ]
            ],
            "type": "heatmapgl"
           }
          ],
          "histogram": [
           {
            "marker": {
             "line": {
              "color": "white",
              "width": 0.6
             }
            },
            "type": "histogram"
           }
          ],
          "histogram2d": [
           {
            "colorbar": {
             "outlinewidth": 1,
             "tickcolor": "rgb(36,36,36)",
             "ticks": "outside"
            },
            "colorscale": [
             [
              0,
              "#440154"
             ],
             [
              0.1111111111111111,
              "#482878"
             ],
             [
              0.2222222222222222,
              "#3e4989"
             ],
             [
              0.3333333333333333,
              "#31688e"
             ],
             [
              0.4444444444444444,
              "#26828e"
             ],
             [
              0.5555555555555556,
              "#1f9e89"
             ],
             [
              0.6666666666666666,
              "#35b779"
             ],
             [
              0.7777777777777778,
              "#6ece58"
             ],
             [
              0.8888888888888888,
              "#b5de2b"
             ],
             [
              1,
              "#fde725"
             ]
            ],
            "type": "histogram2d"
           }
          ],
          "histogram2dcontour": [
           {
            "colorbar": {
             "outlinewidth": 1,
             "tickcolor": "rgb(36,36,36)",
             "ticks": "outside"
            },
            "colorscale": [
             [
              0,
              "#440154"
             ],
             [
              0.1111111111111111,
              "#482878"
             ],
             [
              0.2222222222222222,
              "#3e4989"
             ],
             [
              0.3333333333333333,
              "#31688e"
             ],
             [
              0.4444444444444444,
              "#26828e"
             ],
             [
              0.5555555555555556,
              "#1f9e89"
             ],
             [
              0.6666666666666666,
              "#35b779"
             ],
             [
              0.7777777777777778,
              "#6ece58"
             ],
             [
              0.8888888888888888,
              "#b5de2b"
             ],
             [
              1,
              "#fde725"
             ]
            ],
            "type": "histogram2dcontour"
           }
          ],
          "mesh3d": [
           {
            "colorbar": {
             "outlinewidth": 1,
             "tickcolor": "rgb(36,36,36)",
             "ticks": "outside"
            },
            "type": "mesh3d"
           }
          ],
          "parcoords": [
           {
            "line": {
             "colorbar": {
              "outlinewidth": 1,
              "tickcolor": "rgb(36,36,36)",
              "ticks": "outside"
             }
            },
            "type": "parcoords"
           }
          ],
          "pie": [
           {
            "automargin": true,
            "type": "pie"
           }
          ],
          "scatter": [
           {
            "fillpattern": {
             "fillmode": "overlay",
             "size": 10,
             "solidity": 0.2
            },
            "type": "scatter"
           }
          ],
          "scatter3d": [
           {
            "line": {
             "colorbar": {
              "outlinewidth": 1,
              "tickcolor": "rgb(36,36,36)",
              "ticks": "outside"
             }
            },
            "marker": {
             "colorbar": {
              "outlinewidth": 1,
              "tickcolor": "rgb(36,36,36)",
              "ticks": "outside"
             }
            },
            "type": "scatter3d"
           }
          ],
          "scattercarpet": [
           {
            "marker": {
             "colorbar": {
              "outlinewidth": 1,
              "tickcolor": "rgb(36,36,36)",
              "ticks": "outside"
             }
            },
            "type": "scattercarpet"
           }
          ],
          "scattergeo": [
           {
            "marker": {
             "colorbar": {
              "outlinewidth": 1,
              "tickcolor": "rgb(36,36,36)",
              "ticks": "outside"
             }
            },
            "type": "scattergeo"
           }
          ],
          "scattergl": [
           {
            "marker": {
             "colorbar": {
              "outlinewidth": 1,
              "tickcolor": "rgb(36,36,36)",
              "ticks": "outside"
             }
            },
            "type": "scattergl"
           }
          ],
          "scattermapbox": [
           {
            "marker": {
             "colorbar": {
              "outlinewidth": 1,
              "tickcolor": "rgb(36,36,36)",
              "ticks": "outside"
             }
            },
            "type": "scattermapbox"
           }
          ],
          "scatterpolar": [
           {
            "marker": {
             "colorbar": {
              "outlinewidth": 1,
              "tickcolor": "rgb(36,36,36)",
              "ticks": "outside"
             }
            },
            "type": "scatterpolar"
           }
          ],
          "scatterpolargl": [
           {
            "marker": {
             "colorbar": {
              "outlinewidth": 1,
              "tickcolor": "rgb(36,36,36)",
              "ticks": "outside"
             }
            },
            "type": "scatterpolargl"
           }
          ],
          "scatterternary": [
           {
            "marker": {
             "colorbar": {
              "outlinewidth": 1,
              "tickcolor": "rgb(36,36,36)",
              "ticks": "outside"
             }
            },
            "type": "scatterternary"
           }
          ],
          "surface": [
           {
            "colorbar": {
             "outlinewidth": 1,
             "tickcolor": "rgb(36,36,36)",
             "ticks": "outside"
            },
            "colorscale": [
             [
              0,
              "#440154"
             ],
             [
              0.1111111111111111,
              "#482878"
             ],
             [
              0.2222222222222222,
              "#3e4989"
             ],
             [
              0.3333333333333333,
              "#31688e"
             ],
             [
              0.4444444444444444,
              "#26828e"
             ],
             [
              0.5555555555555556,
              "#1f9e89"
             ],
             [
              0.6666666666666666,
              "#35b779"
             ],
             [
              0.7777777777777778,
              "#6ece58"
             ],
             [
              0.8888888888888888,
              "#b5de2b"
             ],
             [
              1,
              "#fde725"
             ]
            ],
            "type": "surface"
           }
          ],
          "table": [
           {
            "cells": {
             "fill": {
              "color": "rgb(237,237,237)"
             },
             "line": {
              "color": "white"
             }
            },
            "header": {
             "fill": {
              "color": "rgb(217,217,217)"
             },
             "line": {
              "color": "white"
             }
            },
            "type": "table"
           }
          ]
         },
         "layout": {
          "annotationdefaults": {
           "arrowhead": 0,
           "arrowwidth": 1
          },
          "autotypenumbers": "strict",
          "coloraxis": {
           "colorbar": {
            "outlinewidth": 1,
            "tickcolor": "rgb(36,36,36)",
            "ticks": "outside"
           }
          },
          "colorscale": {
           "diverging": [
            [
             0,
             "rgb(103,0,31)"
            ],
            [
             0.1,
             "rgb(178,24,43)"
            ],
            [
             0.2,
             "rgb(214,96,77)"
            ],
            [
             0.3,
             "rgb(244,165,130)"
            ],
            [
             0.4,
             "rgb(253,219,199)"
            ],
            [
             0.5,
             "rgb(247,247,247)"
            ],
            [
             0.6,
             "rgb(209,229,240)"
            ],
            [
             0.7,
             "rgb(146,197,222)"
            ],
            [
             0.8,
             "rgb(67,147,195)"
            ],
            [
             0.9,
             "rgb(33,102,172)"
            ],
            [
             1,
             "rgb(5,48,97)"
            ]
           ],
           "sequential": [
            [
             0,
             "#440154"
            ],
            [
             0.1111111111111111,
             "#482878"
            ],
            [
             0.2222222222222222,
             "#3e4989"
            ],
            [
             0.3333333333333333,
             "#31688e"
            ],
            [
             0.4444444444444444,
             "#26828e"
            ],
            [
             0.5555555555555556,
             "#1f9e89"
            ],
            [
             0.6666666666666666,
             "#35b779"
            ],
            [
             0.7777777777777778,
             "#6ece58"
            ],
            [
             0.8888888888888888,
             "#b5de2b"
            ],
            [
             1,
             "#fde725"
            ]
           ],
           "sequentialminus": [
            [
             0,
             "#440154"
            ],
            [
             0.1111111111111111,
             "#482878"
            ],
            [
             0.2222222222222222,
             "#3e4989"
            ],
            [
             0.3333333333333333,
             "#31688e"
            ],
            [
             0.4444444444444444,
             "#26828e"
            ],
            [
             0.5555555555555556,
             "#1f9e89"
            ],
            [
             0.6666666666666666,
             "#35b779"
            ],
            [
             0.7777777777777778,
             "#6ece58"
            ],
            [
             0.8888888888888888,
             "#b5de2b"
            ],
            [
             1,
             "#fde725"
            ]
           ]
          },
          "colorway": [
           "#1F77B4",
           "#FF7F0E",
           "#2CA02C",
           "#D62728",
           "#9467BD",
           "#8C564B",
           "#E377C2",
           "#7F7F7F",
           "#BCBD22",
           "#17BECF"
          ],
          "font": {
           "color": "rgb(36,36,36)"
          },
          "geo": {
           "bgcolor": "white",
           "lakecolor": "white",
           "landcolor": "white",
           "showlakes": true,
           "showland": true,
           "subunitcolor": "white"
          },
          "hoverlabel": {
           "align": "left"
          },
          "hovermode": "closest",
          "mapbox": {
           "style": "light"
          },
          "paper_bgcolor": "white",
          "plot_bgcolor": "white",
          "polar": {
           "angularaxis": {
            "gridcolor": "rgb(232,232,232)",
            "linecolor": "rgb(36,36,36)",
            "showgrid": false,
            "showline": true,
            "ticks": "outside"
           },
           "bgcolor": "white",
           "radialaxis": {
            "gridcolor": "rgb(232,232,232)",
            "linecolor": "rgb(36,36,36)",
            "showgrid": false,
            "showline": true,
            "ticks": "outside"
           }
          },
          "scene": {
           "xaxis": {
            "backgroundcolor": "white",
            "gridcolor": "rgb(232,232,232)",
            "gridwidth": 2,
            "linecolor": "rgb(36,36,36)",
            "showbackground": true,
            "showgrid": false,
            "showline": true,
            "ticks": "outside",
            "zeroline": false,
            "zerolinecolor": "rgb(36,36,36)"
           },
           "yaxis": {
            "backgroundcolor": "white",
            "gridcolor": "rgb(232,232,232)",
            "gridwidth": 2,
            "linecolor": "rgb(36,36,36)",
            "showbackground": true,
            "showgrid": false,
            "showline": true,
            "ticks": "outside",
            "zeroline": false,
            "zerolinecolor": "rgb(36,36,36)"
           },
           "zaxis": {
            "backgroundcolor": "white",
            "gridcolor": "rgb(232,232,232)",
            "gridwidth": 2,
            "linecolor": "rgb(36,36,36)",
            "showbackground": true,
            "showgrid": false,
            "showline": true,
            "ticks": "outside",
            "zeroline": false,
            "zerolinecolor": "rgb(36,36,36)"
           }
          },
          "shapedefaults": {
           "fillcolor": "black",
           "line": {
            "width": 0
           },
           "opacity": 0.3
          },
          "ternary": {
           "aaxis": {
            "gridcolor": "rgb(232,232,232)",
            "linecolor": "rgb(36,36,36)",
            "showgrid": false,
            "showline": true,
            "ticks": "outside"
           },
           "baxis": {
            "gridcolor": "rgb(232,232,232)",
            "linecolor": "rgb(36,36,36)",
            "showgrid": false,
            "showline": true,
            "ticks": "outside"
           },
           "bgcolor": "white",
           "caxis": {
            "gridcolor": "rgb(232,232,232)",
            "linecolor": "rgb(36,36,36)",
            "showgrid": false,
            "showline": true,
            "ticks": "outside"
           }
          },
          "title": {
           "x": 0.05
          },
          "xaxis": {
           "automargin": true,
           "gridcolor": "rgb(232,232,232)",
           "linecolor": "rgb(36,36,36)",
           "showgrid": false,
           "showline": true,
           "ticks": "outside",
           "title": {
            "standoff": 15
           },
           "zeroline": false,
           "zerolinecolor": "rgb(36,36,36)"
          },
          "yaxis": {
           "automargin": true,
           "gridcolor": "rgb(232,232,232)",
           "linecolor": "rgb(36,36,36)",
           "showgrid": false,
           "showline": true,
           "ticks": "outside",
           "title": {
            "standoff": 15
           },
           "zeroline": false,
           "zerolinecolor": "rgb(36,36,36)"
          }
         }
        },
        "title": {
         "font": {
          "color": "Black",
          "size": 22
         },
         "text": "<b>Intertopic Distance Map</b>",
         "x": 0.5,
         "xanchor": "center",
         "y": 0.95,
         "yanchor": "top"
        },
        "width": 650,
        "xaxis": {
         "anchor": "y",
         "domain": [
          0,
          1
         ],
         "range": [
          2.355975925922394,
          18.16533694267273
         ],
         "title": {
          "text": ""
         },
         "visible": false
        },
        "yaxis": {
         "anchor": "x",
         "domain": [
          0,
          1
         ],
         "range": [
          -10.613584804534913,
          17.297079133987427
         ],
         "title": {
          "text": ""
         },
         "visible": false
        }
       }
      }
     },
     "metadata": {},
     "output_type": "display_data"
    }
   ],
   "source": [
    "topic_model.visualize_topics()"
   ]
  },
  {
   "cell_type": "code",
   "execution_count": 11,
   "metadata": {},
   "outputs": [
    {
     "data": {
      "text/html": [
       "<div>\n",
       "<style scoped>\n",
       "    .dataframe tbody tr th:only-of-type {\n",
       "        vertical-align: middle;\n",
       "    }\n",
       "\n",
       "    .dataframe tbody tr th {\n",
       "        vertical-align: top;\n",
       "    }\n",
       "\n",
       "    .dataframe thead th {\n",
       "        text-align: right;\n",
       "    }\n",
       "</style>\n",
       "<table border=\"1\" class=\"dataframe\">\n",
       "  <thead>\n",
       "    <tr style=\"text-align: right;\">\n",
       "      <th></th>\n",
       "      <th>Topic</th>\n",
       "      <th>Count</th>\n",
       "      <th>Name</th>\n",
       "      <th>Representation</th>\n",
       "      <th>Representative_Docs</th>\n",
       "    </tr>\n",
       "  </thead>\n",
       "  <tbody>\n",
       "    <tr>\n",
       "      <th>0</th>\n",
       "      <td>0</td>\n",
       "      <td>93520</td>\n",
       "      <td>0_material_equipamento_materiais_equipamentos</td>\n",
       "      <td>[material, equipamento, materiais, equipamento...</td>\n",
       "      <td>[Registro de preço para um futura aquisição de...</td>\n",
       "    </tr>\n",
       "    <tr>\n",
       "      <th>1</th>\n",
       "      <td>1</td>\n",
       "      <td>10488</td>\n",
       "      <td>1_escolas_escolar_escolares_educacional</td>\n",
       "      <td>[escolas, escolar, escolares, educacional, esc...</td>\n",
       "      <td>[Registro de Preços para aquisição de material...</td>\n",
       "    </tr>\n",
       "    <tr>\n",
       "      <th>2</th>\n",
       "      <td>2</td>\n",
       "      <td>8142</td>\n",
       "      <td>2_alimenticios_agricultura_alimentos_agricultores</td>\n",
       "      <td>[alimenticios, agricultura, alimentos, agricul...</td>\n",
       "      <td>[Aquisição de Gêneros Alimentícios da Agricult...</td>\n",
       "    </tr>\n",
       "    <tr>\n",
       "      <th>3</th>\n",
       "      <td>3</td>\n",
       "      <td>7191</td>\n",
       "      <td>3_automotores_automotor_diesel_gasolina</td>\n",
       "      <td>[automotores, automotor, diesel, gasolina, com...</td>\n",
       "      <td>[Aquisição de combustíveis para a frota munici...</td>\n",
       "    </tr>\n",
       "    <tr>\n",
       "      <th>4</th>\n",
       "      <td>4</td>\n",
       "      <td>5649</td>\n",
       "      <td>4_hospitalares_hospitalar_hospital_clinica</td>\n",
       "      <td>[hospitalares, hospitalar, hospital, clinica, ...</td>\n",
       "      <td>[AQUISIÇÃO DE MATERIAL MÉDICO HOSPITALAR PARA ...</td>\n",
       "    </tr>\n",
       "    <tr>\n",
       "      <th>5</th>\n",
       "      <td>5</td>\n",
       "      <td>3586</td>\n",
       "      <td>5_humana_pessoal_abrasivos_pereciveis</td>\n",
       "      <td>[humana, pessoal, abrasivos, pereciveis, estof...</td>\n",
       "      <td>[AQUISIÇÃO DE BENS DA(S) FAMÍLIA(S):0880-MEDIC...</td>\n",
       "    </tr>\n",
       "    <tr>\n",
       "      <th>6</th>\n",
       "      <td>6</td>\n",
       "      <td>655</td>\n",
       "      <td>6_servico_leiloeiro__</td>\n",
       "      <td>[servico, leiloeiro, , , , , ]</td>\n",
       "      <td>[Contratacao de Servico, Contratacao de Servic...</td>\n",
       "    </tr>\n",
       "    <tr>\n",
       "      <th>7</th>\n",
       "      <td>7</td>\n",
       "      <td>363</td>\n",
       "      <td>7_tubos_tubo_tubulacoes_tubulacao</td>\n",
       "      <td>[tubos, tubo, tubulacoes, tubulacao, canalizac...</td>\n",
       "      <td>[TUBOS DE CONCRETO, AQUISIÇÃO DE TUBOS DE CONC...</td>\n",
       "    </tr>\n",
       "    <tr>\n",
       "      <th>8</th>\n",
       "      <td>8</td>\n",
       "      <td>2</td>\n",
       "      <td>8_equipamentos_eletroeletronicos_informatica_m...</td>\n",
       "      <td>[equipamentos, eletroeletronicos, informatica,...</td>\n",
       "      <td>[Aquisição de equipamentos de informática para...</td>\n",
       "    </tr>\n",
       "    <tr>\n",
       "      <th>9</th>\n",
       "      <td>9</td>\n",
       "      <td>1</td>\n",
       "      <td>9_queijo_alimenticios_carnes_</td>\n",
       "      <td>[queijo, alimenticios, carnes, , , , ]</td>\n",
       "      <td>[Aquisição de Gêneros Alimentícios - Carnes e ...</td>\n",
       "    </tr>\n",
       "    <tr>\n",
       "      <th>10</th>\n",
       "      <td>10</td>\n",
       "      <td>1</td>\n",
       "      <td>10_laboratorio_membrana_celulose_acetato</td>\n",
       "      <td>[laboratorio, membrana, celulose, acetato, fil...</td>\n",
       "      <td>[AQUISIÇÃO DE BENS DA(S) FAMÍLIA(S):0830-EQUIP...</td>\n",
       "    </tr>\n",
       "    <tr>\n",
       "      <th>11</th>\n",
       "      <td>11</td>\n",
       "      <td>1</td>\n",
       "      <td>11_caterpiller_pecas_tracao_qualidade</td>\n",
       "      <td>[caterpiller, pecas, tracao, qualidade, marca,...</td>\n",
       "      <td>[COMPRA DE PEÇAS NOVAS e SERVIÇOS DE PRIMEIRAS...</td>\n",
       "    </tr>\n",
       "    <tr>\n",
       "      <th>12</th>\n",
       "      <td>12</td>\n",
       "      <td>1</td>\n",
       "      <td>12_motoniveladoras_duas_imediata_integral</td>\n",
       "      <td>[motoniveladoras, duas, imediata, integral, , , ]</td>\n",
       "      <td>[Aquisição, com a entrega imediata e integral,...</td>\n",
       "    </tr>\n",
       "    <tr>\n",
       "      <th>13</th>\n",
       "      <td>13</td>\n",
       "      <td>1</td>\n",
       "      <td>13_tubos_concreto_bitolas_descrito</td>\n",
       "      <td>[tubos, concreto, bitolas, descrito, , , ]</td>\n",
       "      <td>[Aquisição de tubos de concreto de diversas bi...</td>\n",
       "    </tr>\n",
       "    <tr>\n",
       "      <th>14</th>\n",
       "      <td>14</td>\n",
       "      <td>1</td>\n",
       "      <td>14_plano_saude__</td>\n",
       "      <td>[plano, saude, , , , , ]</td>\n",
       "      <td>[PLANO DE SAÚDE]</td>\n",
       "    </tr>\n",
       "    <tr>\n",
       "      <th>15</th>\n",
       "      <td>15</td>\n",
       "      <td>1</td>\n",
       "      <td>15_articulada___</td>\n",
       "      <td>[articulada, , , , , , ]</td>\n",
       "      <td>[PREMIOS e ESCADA ARTICULADA]</td>\n",
       "    </tr>\n",
       "    <tr>\n",
       "      <th>16</th>\n",
       "      <td>16</td>\n",
       "      <td>1</td>\n",
       "      <td>16_pacientes_tratamento_curativos_medicamentos</td>\n",
       "      <td>[pacientes, tratamento, curativos, medicamento...</td>\n",
       "      <td>[Registro de preços, para aquisição de curativ...</td>\n",
       "    </tr>\n",
       "  </tbody>\n",
       "</table>\n",
       "</div>"
      ],
      "text/plain": [
       "    Topic  Count                                               Name  \\\n",
       "0       0  93520      0_material_equipamento_materiais_equipamentos   \n",
       "1       1  10488            1_escolas_escolar_escolares_educacional   \n",
       "2       2   8142  2_alimenticios_agricultura_alimentos_agricultores   \n",
       "3       3   7191            3_automotores_automotor_diesel_gasolina   \n",
       "4       4   5649         4_hospitalares_hospitalar_hospital_clinica   \n",
       "5       5   3586              5_humana_pessoal_abrasivos_pereciveis   \n",
       "6       6    655                              6_servico_leiloeiro__   \n",
       "7       7    363                  7_tubos_tubo_tubulacoes_tubulacao   \n",
       "8       8      2  8_equipamentos_eletroeletronicos_informatica_m...   \n",
       "9       9      1                      9_queijo_alimenticios_carnes_   \n",
       "10     10      1           10_laboratorio_membrana_celulose_acetato   \n",
       "11     11      1              11_caterpiller_pecas_tracao_qualidade   \n",
       "12     12      1          12_motoniveladoras_duas_imediata_integral   \n",
       "13     13      1                 13_tubos_concreto_bitolas_descrito   \n",
       "14     14      1                                   14_plano_saude__   \n",
       "15     15      1                                   15_articulada___   \n",
       "16     16      1     16_pacientes_tratamento_curativos_medicamentos   \n",
       "\n",
       "                                       Representation  \\\n",
       "0   [material, equipamento, materiais, equipamento...   \n",
       "1   [escolas, escolar, escolares, educacional, esc...   \n",
       "2   [alimenticios, agricultura, alimentos, agricul...   \n",
       "3   [automotores, automotor, diesel, gasolina, com...   \n",
       "4   [hospitalares, hospitalar, hospital, clinica, ...   \n",
       "5   [humana, pessoal, abrasivos, pereciveis, estof...   \n",
       "6                      [servico, leiloeiro, , , , , ]   \n",
       "7   [tubos, tubo, tubulacoes, tubulacao, canalizac...   \n",
       "8   [equipamentos, eletroeletronicos, informatica,...   \n",
       "9              [queijo, alimenticios, carnes, , , , ]   \n",
       "10  [laboratorio, membrana, celulose, acetato, fil...   \n",
       "11  [caterpiller, pecas, tracao, qualidade, marca,...   \n",
       "12  [motoniveladoras, duas, imediata, integral, , , ]   \n",
       "13         [tubos, concreto, bitolas, descrito, , , ]   \n",
       "14                           [plano, saude, , , , , ]   \n",
       "15                           [articulada, , , , , , ]   \n",
       "16  [pacientes, tratamento, curativos, medicamento...   \n",
       "\n",
       "                                  Representative_Docs  \n",
       "0   [Registro de preço para um futura aquisição de...  \n",
       "1   [Registro de Preços para aquisição de material...  \n",
       "2   [Aquisição de Gêneros Alimentícios da Agricult...  \n",
       "3   [Aquisição de combustíveis para a frota munici...  \n",
       "4   [AQUISIÇÃO DE MATERIAL MÉDICO HOSPITALAR PARA ...  \n",
       "5   [AQUISIÇÃO DE BENS DA(S) FAMÍLIA(S):0880-MEDIC...  \n",
       "6   [Contratacao de Servico, Contratacao de Servic...  \n",
       "7   [TUBOS DE CONCRETO, AQUISIÇÃO DE TUBOS DE CONC...  \n",
       "8   [Aquisição de equipamentos de informática para...  \n",
       "9   [Aquisição de Gêneros Alimentícios - Carnes e ...  \n",
       "10  [AQUISIÇÃO DE BENS DA(S) FAMÍLIA(S):0830-EQUIP...  \n",
       "11  [COMPRA DE PEÇAS NOVAS e SERVIÇOS DE PRIMEIRAS...  \n",
       "12  [Aquisição, com a entrega imediata e integral,...  \n",
       "13  [Aquisição de tubos de concreto de diversas bi...  \n",
       "14                                   [PLANO DE SAÚDE]  \n",
       "15                      [PREMIOS e ESCADA ARTICULADA]  \n",
       "16  [Registro de preços, para aquisição de curativ...  "
      ]
     },
     "execution_count": 11,
     "metadata": {},
     "output_type": "execute_result"
    }
   ],
   "source": [
    "topic_model.get_topic_info()"
   ]
  },
  {
   "cell_type": "code",
   "execution_count": 12,
   "metadata": {},
   "outputs": [
    {
     "data": {
      "text/plain": [
       "<bertopic._bertopic.BERTopic at 0x79ba6c20da50>"
      ]
     },
     "execution_count": 12,
     "metadata": {},
     "output_type": "execute_result"
    }
   ],
   "source": [
    "topic_model.reduce_topics(docs, nr_topics=8)"
   ]
  },
  {
   "cell_type": "code",
   "execution_count": 13,
   "metadata": {},
   "outputs": [
    {
     "data": {
      "text/html": [
       "<div>\n",
       "<style scoped>\n",
       "    .dataframe tbody tr th:only-of-type {\n",
       "        vertical-align: middle;\n",
       "    }\n",
       "\n",
       "    .dataframe tbody tr th {\n",
       "        vertical-align: top;\n",
       "    }\n",
       "\n",
       "    .dataframe thead th {\n",
       "        text-align: right;\n",
       "    }\n",
       "</style>\n",
       "<table border=\"1\" class=\"dataframe\">\n",
       "  <thead>\n",
       "    <tr style=\"text-align: right;\">\n",
       "      <th></th>\n",
       "      <th>Topic</th>\n",
       "      <th>Count</th>\n",
       "      <th>Name</th>\n",
       "      <th>Representation</th>\n",
       "      <th>Representative_Docs</th>\n",
       "    </tr>\n",
       "  </thead>\n",
       "  <tbody>\n",
       "    <tr>\n",
       "      <th>0</th>\n",
       "      <td>0</td>\n",
       "      <td>117503</td>\n",
       "      <td>0_equipamentos_recursos_material_materiais</td>\n",
       "      <td>[equipamentos, recursos, material, materiais, ...</td>\n",
       "      <td>[AQUISIÇÃO DE MATERIAL DE CONSTRUÇÃO PARA DIVE...</td>\n",
       "    </tr>\n",
       "    <tr>\n",
       "      <th>1</th>\n",
       "      <td>1</td>\n",
       "      <td>8143</td>\n",
       "      <td>1_alimenticios_alimentos_agricultura_hortifrut...</td>\n",
       "      <td>[alimenticios, alimentos, agricultura, hortifr...</td>\n",
       "      <td>[CONTRATACAO PARA FORNECIMENTO DE GENEROS ALIM...</td>\n",
       "    </tr>\n",
       "    <tr>\n",
       "      <th>2</th>\n",
       "      <td>2</td>\n",
       "      <td>3951</td>\n",
       "      <td>2_humana_pessoal_abrasivos_pereciveis</td>\n",
       "      <td>[humana, pessoal, abrasivos, pereciveis, estof...</td>\n",
       "      <td>[AQUISIÇÃO DE BENS DA(S) FAMÍLIA(S):0880-MEDIC...</td>\n",
       "    </tr>\n",
       "    <tr>\n",
       "      <th>3</th>\n",
       "      <td>3</td>\n",
       "      <td>2</td>\n",
       "      <td>3_equipamentos_eletroeletronicos_informatica_m...</td>\n",
       "      <td>[equipamentos, eletroeletronicos, informatica,...</td>\n",
       "      <td>[Aquisição de equipamentos de informática para...</td>\n",
       "    </tr>\n",
       "    <tr>\n",
       "      <th>4</th>\n",
       "      <td>4</td>\n",
       "      <td>2</td>\n",
       "      <td>4_plano_articulada__</td>\n",
       "      <td>[plano, articulada, , , , , ]</td>\n",
       "      <td>[PLANO DE SAÚDE, PREMIOS e ESCADA ARTICULADA]</td>\n",
       "    </tr>\n",
       "    <tr>\n",
       "      <th>5</th>\n",
       "      <td>5</td>\n",
       "      <td>1</td>\n",
       "      <td>5_motoniveladoras_duas_imediata_integral</td>\n",
       "      <td>[motoniveladoras, duas, imediata, integral, , , ]</td>\n",
       "      <td>[Aquisição, com a entrega imediata e integral,...</td>\n",
       "    </tr>\n",
       "    <tr>\n",
       "      <th>6</th>\n",
       "      <td>6</td>\n",
       "      <td>1</td>\n",
       "      <td>6_tubos_concreto_bitolas_descrito</td>\n",
       "      <td>[tubos, concreto, bitolas, descrito, , , ]</td>\n",
       "      <td>[Aquisição de tubos de concreto de diversas bi...</td>\n",
       "    </tr>\n",
       "    <tr>\n",
       "      <th>7</th>\n",
       "      <td>7</td>\n",
       "      <td>1</td>\n",
       "      <td>7_pacientes_tratamento_curativos_medicamentos</td>\n",
       "      <td>[pacientes, tratamento, curativos, medicamento...</td>\n",
       "      <td>[Registro de preços, para aquisição de curativ...</td>\n",
       "    </tr>\n",
       "  </tbody>\n",
       "</table>\n",
       "</div>"
      ],
      "text/plain": [
       "   Topic   Count                                               Name  \\\n",
       "0      0  117503         0_equipamentos_recursos_material_materiais   \n",
       "1      1    8143  1_alimenticios_alimentos_agricultura_hortifrut...   \n",
       "2      2    3951              2_humana_pessoal_abrasivos_pereciveis   \n",
       "3      3       2  3_equipamentos_eletroeletronicos_informatica_m...   \n",
       "4      4       2                               4_plano_articulada__   \n",
       "5      5       1           5_motoniveladoras_duas_imediata_integral   \n",
       "6      6       1                  6_tubos_concreto_bitolas_descrito   \n",
       "7      7       1      7_pacientes_tratamento_curativos_medicamentos   \n",
       "\n",
       "                                      Representation  \\\n",
       "0  [equipamentos, recursos, material, materiais, ...   \n",
       "1  [alimenticios, alimentos, agricultura, hortifr...   \n",
       "2  [humana, pessoal, abrasivos, pereciveis, estof...   \n",
       "3  [equipamentos, eletroeletronicos, informatica,...   \n",
       "4                      [plano, articulada, , , , , ]   \n",
       "5  [motoniveladoras, duas, imediata, integral, , , ]   \n",
       "6         [tubos, concreto, bitolas, descrito, , , ]   \n",
       "7  [pacientes, tratamento, curativos, medicamento...   \n",
       "\n",
       "                                 Representative_Docs  \n",
       "0  [AQUISIÇÃO DE MATERIAL DE CONSTRUÇÃO PARA DIVE...  \n",
       "1  [CONTRATACAO PARA FORNECIMENTO DE GENEROS ALIM...  \n",
       "2  [AQUISIÇÃO DE BENS DA(S) FAMÍLIA(S):0880-MEDIC...  \n",
       "3  [Aquisição de equipamentos de informática para...  \n",
       "4      [PLANO DE SAÚDE, PREMIOS e ESCADA ARTICULADA]  \n",
       "5  [Aquisição, com a entrega imediata e integral,...  \n",
       "6  [Aquisição de tubos de concreto de diversas bi...  \n",
       "7  [Registro de preços, para aquisição de curativ...  "
      ]
     },
     "execution_count": 13,
     "metadata": {},
     "output_type": "execute_result"
    }
   ],
   "source": [
    "topic_model.get_topic_info()"
   ]
  },
  {
   "cell_type": "code",
   "execution_count": 10,
   "metadata": {},
   "outputs": [
    {
     "name": "stderr",
     "output_type": "stream",
     "text": [
      "/home/brunodifranco/.local/lib/python3.10/site-packages/numba/np/ufunc/parallel.py:371: NumbaWarning: \u001b[1mThe TBB threading layer requires TBB version 2021 update 6 or later i.e., TBB_INTERFACE_VERSION >= 12060. Found TBB_INTERFACE_VERSION = 12050. The TBB threading layer is disabled.\u001b[0m\n",
      "  warnings.warn(problem)\n"
     ]
    },
    {
     "data": {
      "application/vnd.plotly.v1+json": {
       "config": {
        "plotlyServerURL": "https://plot.ly"
       },
       "data": [
        {
         "customdata": [
          [
           0,
           "material | equipamento | materiais | equipamentos | recursos",
           93520
          ],
          [
           1,
           "escolas | escolar | escolares | educacional | escola",
           10488
          ],
          [
           2,
           "alimenticios | agricultura | alimentos | agricultores | hortifrutigranjeiros",
           8142
          ],
          [
           3,
           "automotores | automotor | diesel | gasolina | combustivel",
           7191
          ],
          [
           4,
           "hospitalares | hospitalar | hospital | clinica | clinicas",
           5649
          ],
          [
           5,
           "humana | pessoal | abrasivos | pereciveis | estofados",
           3586
          ],
          [
           6,
           "servico | leiloeiro |  |  | ",
           655
          ],
          [
           7,
           "tubos | tubo | tubulacoes | tubulacao | canalizacao",
           363
          ],
          [
           8,
           "equipamentos | eletroeletronicos | informatica | material | eletrodomesticos",
           2
          ],
          [
           9,
           "queijo | alimenticios | carnes |  | ",
           1
          ],
          [
           10,
           "laboratorio | membrana | celulose | acetato | filtrante",
           1
          ],
          [
           11,
           "caterpiller | pecas | tracao | qualidade | marca",
           1
          ],
          [
           12,
           "motoniveladoras | duas | imediata | integral | ",
           1
          ],
          [
           13,
           "tubos | concreto | bitolas | descrito | ",
           1
          ],
          [
           14,
           "plano | saude |  |  | ",
           1
          ],
          [
           15,
           "articulada |  |  |  | ",
           1
          ],
          [
           16,
           "pacientes | tratamento | curativos | medicamentos | feridas",
           1
          ]
         ],
         "hovertemplate": "<b>Topic %{customdata[0]}</b><br>%{customdata[1]}<br>Size: %{customdata[2]}",
         "legendgroup": "",
         "marker": {
          "color": "#B0BEC5",
          "line": {
           "color": "DarkSlateGrey",
           "width": 2
          },
          "size": [
           93520,
           10488,
           8142,
           7191,
           5649,
           3586,
           655,
           363,
           2,
           1,
           1,
           1,
           1,
           1,
           1,
           1,
           1
          ],
          "sizemode": "area",
          "sizeref": 58.45,
          "symbol": "circle"
         },
         "mode": "markers",
         "name": "",
         "orientation": "v",
         "showlegend": false,
         "type": "scatter",
         "x": [
          11.467674255371094,
          11.788799285888672,
          11.909814834594727,
          9.99271297454834,
          10.41983413696289,
          10.290892601013184,
          10.062649726867676,
          11.332418441772461,
          9.724698066711426,
          12.106660842895508,
          10.044729232788086,
          11.357471466064453,
          9.903467178344727,
          11.015057563781738,
          -4.751346111297607,
          -4.853148937225342,
          10.19459342956543
         ],
         "xaxis": "x",
         "y": [
          0.5000179409980774,
          1.6407270431518555,
          2.131638765335083,
          -1.8540176153182983,
          1.1523425579071045,
          13.900195121765137,
          1.1456748247146606,
          0.015299194492399693,
          -2.6580758094787598,
          2.4090874195098877,
          13.654111862182617,
          0.8678193092346191,
          -2.4281866550445557,
          -0.30536141991615295,
          17.51565933227539,
          17.61736297607422,
          0.6365880370140076
         ],
         "yaxis": "y"
        }
       ],
       "layout": {
        "annotations": [
         {
          "showarrow": false,
          "text": "D1",
          "x": -5.581121277809143,
          "y": 8.60159012079239,
          "yshift": 10
         },
         {
          "showarrow": false,
          "text": "D2",
          "x": 4.170769345760345,
          "xshift": 10,
          "y": 20.259967422485353
         }
        ],
        "height": 650,
        "hoverlabel": {
         "bgcolor": "white",
         "font": {
          "family": "Rockwell",
          "size": 16
         }
        },
        "legend": {
         "itemsizing": "constant",
         "tracegroupgap": 0
        },
        "margin": {
         "t": 60
        },
        "shapes": [
         {
          "line": {
           "color": "#CFD8DC",
           "width": 2
          },
          "type": "line",
          "x0": 4.170769345760345,
          "x1": 4.170769345760345,
          "y0": -3.0567871809005736,
          "y1": 20.259967422485353
         },
         {
          "line": {
           "color": "#9E9E9E",
           "width": 2
          },
          "type": "line",
          "x0": -5.581121277809143,
          "x1": 13.922659969329834,
          "y0": 8.60159012079239,
          "y1": 8.60159012079239
         }
        ],
        "sliders": [
         {
          "active": 0,
          "pad": {
           "t": 50
          },
          "steps": [
           {
            "args": [
             {
              "marker.color": [
               [
                "red",
                "#B0BEC5",
                "#B0BEC5",
                "#B0BEC5",
                "#B0BEC5",
                "#B0BEC5",
                "#B0BEC5",
                "#B0BEC5",
                "#B0BEC5",
                "#B0BEC5",
                "#B0BEC5",
                "#B0BEC5",
                "#B0BEC5",
                "#B0BEC5",
                "#B0BEC5",
                "#B0BEC5",
                "#B0BEC5"
               ]
              ]
             }
            ],
            "label": "Topic 0",
            "method": "update"
           },
           {
            "args": [
             {
              "marker.color": [
               [
                "#B0BEC5",
                "red",
                "#B0BEC5",
                "#B0BEC5",
                "#B0BEC5",
                "#B0BEC5",
                "#B0BEC5",
                "#B0BEC5",
                "#B0BEC5",
                "#B0BEC5",
                "#B0BEC5",
                "#B0BEC5",
                "#B0BEC5",
                "#B0BEC5",
                "#B0BEC5",
                "#B0BEC5",
                "#B0BEC5"
               ]
              ]
             }
            ],
            "label": "Topic 1",
            "method": "update"
           },
           {
            "args": [
             {
              "marker.color": [
               [
                "#B0BEC5",
                "#B0BEC5",
                "red",
                "#B0BEC5",
                "#B0BEC5",
                "#B0BEC5",
                "#B0BEC5",
                "#B0BEC5",
                "#B0BEC5",
                "#B0BEC5",
                "#B0BEC5",
                "#B0BEC5",
                "#B0BEC5",
                "#B0BEC5",
                "#B0BEC5",
                "#B0BEC5",
                "#B0BEC5"
               ]
              ]
             }
            ],
            "label": "Topic 2",
            "method": "update"
           },
           {
            "args": [
             {
              "marker.color": [
               [
                "#B0BEC5",
                "#B0BEC5",
                "#B0BEC5",
                "red",
                "#B0BEC5",
                "#B0BEC5",
                "#B0BEC5",
                "#B0BEC5",
                "#B0BEC5",
                "#B0BEC5",
                "#B0BEC5",
                "#B0BEC5",
                "#B0BEC5",
                "#B0BEC5",
                "#B0BEC5",
                "#B0BEC5",
                "#B0BEC5"
               ]
              ]
             }
            ],
            "label": "Topic 3",
            "method": "update"
           },
           {
            "args": [
             {
              "marker.color": [
               [
                "#B0BEC5",
                "#B0BEC5",
                "#B0BEC5",
                "#B0BEC5",
                "red",
                "#B0BEC5",
                "#B0BEC5",
                "#B0BEC5",
                "#B0BEC5",
                "#B0BEC5",
                "#B0BEC5",
                "#B0BEC5",
                "#B0BEC5",
                "#B0BEC5",
                "#B0BEC5",
                "#B0BEC5",
                "#B0BEC5"
               ]
              ]
             }
            ],
            "label": "Topic 4",
            "method": "update"
           },
           {
            "args": [
             {
              "marker.color": [
               [
                "#B0BEC5",
                "#B0BEC5",
                "#B0BEC5",
                "#B0BEC5",
                "#B0BEC5",
                "red",
                "#B0BEC5",
                "#B0BEC5",
                "#B0BEC5",
                "#B0BEC5",
                "#B0BEC5",
                "#B0BEC5",
                "#B0BEC5",
                "#B0BEC5",
                "#B0BEC5",
                "#B0BEC5",
                "#B0BEC5"
               ]
              ]
             }
            ],
            "label": "Topic 5",
            "method": "update"
           },
           {
            "args": [
             {
              "marker.color": [
               [
                "#B0BEC5",
                "#B0BEC5",
                "#B0BEC5",
                "#B0BEC5",
                "#B0BEC5",
                "#B0BEC5",
                "red",
                "#B0BEC5",
                "#B0BEC5",
                "#B0BEC5",
                "#B0BEC5",
                "#B0BEC5",
                "#B0BEC5",
                "#B0BEC5",
                "#B0BEC5",
                "#B0BEC5",
                "#B0BEC5"
               ]
              ]
             }
            ],
            "label": "Topic 6",
            "method": "update"
           },
           {
            "args": [
             {
              "marker.color": [
               [
                "#B0BEC5",
                "#B0BEC5",
                "#B0BEC5",
                "#B0BEC5",
                "#B0BEC5",
                "#B0BEC5",
                "#B0BEC5",
                "red",
                "#B0BEC5",
                "#B0BEC5",
                "#B0BEC5",
                "#B0BEC5",
                "#B0BEC5",
                "#B0BEC5",
                "#B0BEC5",
                "#B0BEC5",
                "#B0BEC5"
               ]
              ]
             }
            ],
            "label": "Topic 7",
            "method": "update"
           },
           {
            "args": [
             {
              "marker.color": [
               [
                "#B0BEC5",
                "#B0BEC5",
                "#B0BEC5",
                "#B0BEC5",
                "#B0BEC5",
                "#B0BEC5",
                "#B0BEC5",
                "#B0BEC5",
                "red",
                "#B0BEC5",
                "#B0BEC5",
                "#B0BEC5",
                "#B0BEC5",
                "#B0BEC5",
                "#B0BEC5",
                "#B0BEC5",
                "#B0BEC5"
               ]
              ]
             }
            ],
            "label": "Topic 8",
            "method": "update"
           },
           {
            "args": [
             {
              "marker.color": [
               [
                "#B0BEC5",
                "#B0BEC5",
                "#B0BEC5",
                "#B0BEC5",
                "#B0BEC5",
                "#B0BEC5",
                "#B0BEC5",
                "#B0BEC5",
                "#B0BEC5",
                "red",
                "#B0BEC5",
                "#B0BEC5",
                "#B0BEC5",
                "#B0BEC5",
                "#B0BEC5",
                "#B0BEC5",
                "#B0BEC5"
               ]
              ]
             }
            ],
            "label": "Topic 9",
            "method": "update"
           },
           {
            "args": [
             {
              "marker.color": [
               [
                "#B0BEC5",
                "#B0BEC5",
                "#B0BEC5",
                "#B0BEC5",
                "#B0BEC5",
                "#B0BEC5",
                "#B0BEC5",
                "#B0BEC5",
                "#B0BEC5",
                "#B0BEC5",
                "red",
                "#B0BEC5",
                "#B0BEC5",
                "#B0BEC5",
                "#B0BEC5",
                "#B0BEC5",
                "#B0BEC5"
               ]
              ]
             }
            ],
            "label": "Topic 10",
            "method": "update"
           },
           {
            "args": [
             {
              "marker.color": [
               [
                "#B0BEC5",
                "#B0BEC5",
                "#B0BEC5",
                "#B0BEC5",
                "#B0BEC5",
                "#B0BEC5",
                "#B0BEC5",
                "#B0BEC5",
                "#B0BEC5",
                "#B0BEC5",
                "#B0BEC5",
                "red",
                "#B0BEC5",
                "#B0BEC5",
                "#B0BEC5",
                "#B0BEC5",
                "#B0BEC5"
               ]
              ]
             }
            ],
            "label": "Topic 11",
            "method": "update"
           },
           {
            "args": [
             {
              "marker.color": [
               [
                "#B0BEC5",
                "#B0BEC5",
                "#B0BEC5",
                "#B0BEC5",
                "#B0BEC5",
                "#B0BEC5",
                "#B0BEC5",
                "#B0BEC5",
                "#B0BEC5",
                "#B0BEC5",
                "#B0BEC5",
                "#B0BEC5",
                "red",
                "#B0BEC5",
                "#B0BEC5",
                "#B0BEC5",
                "#B0BEC5"
               ]
              ]
             }
            ],
            "label": "Topic 12",
            "method": "update"
           },
           {
            "args": [
             {
              "marker.color": [
               [
                "#B0BEC5",
                "#B0BEC5",
                "#B0BEC5",
                "#B0BEC5",
                "#B0BEC5",
                "#B0BEC5",
                "#B0BEC5",
                "#B0BEC5",
                "#B0BEC5",
                "#B0BEC5",
                "#B0BEC5",
                "#B0BEC5",
                "#B0BEC5",
                "red",
                "#B0BEC5",
                "#B0BEC5",
                "#B0BEC5"
               ]
              ]
             }
            ],
            "label": "Topic 13",
            "method": "update"
           },
           {
            "args": [
             {
              "marker.color": [
               [
                "#B0BEC5",
                "#B0BEC5",
                "#B0BEC5",
                "#B0BEC5",
                "#B0BEC5",
                "#B0BEC5",
                "#B0BEC5",
                "#B0BEC5",
                "#B0BEC5",
                "#B0BEC5",
                "#B0BEC5",
                "#B0BEC5",
                "#B0BEC5",
                "#B0BEC5",
                "red",
                "#B0BEC5",
                "#B0BEC5"
               ]
              ]
             }
            ],
            "label": "Topic 14",
            "method": "update"
           },
           {
            "args": [
             {
              "marker.color": [
               [
                "#B0BEC5",
                "#B0BEC5",
                "#B0BEC5",
                "#B0BEC5",
                "#B0BEC5",
                "#B0BEC5",
                "#B0BEC5",
                "#B0BEC5",
                "#B0BEC5",
                "#B0BEC5",
                "#B0BEC5",
                "#B0BEC5",
                "#B0BEC5",
                "#B0BEC5",
                "#B0BEC5",
                "red",
                "#B0BEC5"
               ]
              ]
             }
            ],
            "label": "Topic 15",
            "method": "update"
           },
           {
            "args": [
             {
              "marker.color": [
               [
                "#B0BEC5",
                "#B0BEC5",
                "#B0BEC5",
                "#B0BEC5",
                "#B0BEC5",
                "#B0BEC5",
                "#B0BEC5",
                "#B0BEC5",
                "#B0BEC5",
                "#B0BEC5",
                "#B0BEC5",
                "#B0BEC5",
                "#B0BEC5",
                "#B0BEC5",
                "#B0BEC5",
                "#B0BEC5",
                "red"
               ]
              ]
             }
            ],
            "label": "Topic 16",
            "method": "update"
           }
          ]
         }
        ],
        "template": {
         "data": {
          "bar": [
           {
            "error_x": {
             "color": "rgb(36,36,36)"
            },
            "error_y": {
             "color": "rgb(36,36,36)"
            },
            "marker": {
             "line": {
              "color": "white",
              "width": 0.5
             },
             "pattern": {
              "fillmode": "overlay",
              "size": 10,
              "solidity": 0.2
             }
            },
            "type": "bar"
           }
          ],
          "barpolar": [
           {
            "marker": {
             "line": {
              "color": "white",
              "width": 0.5
             },
             "pattern": {
              "fillmode": "overlay",
              "size": 10,
              "solidity": 0.2
             }
            },
            "type": "barpolar"
           }
          ],
          "carpet": [
           {
            "aaxis": {
             "endlinecolor": "rgb(36,36,36)",
             "gridcolor": "white",
             "linecolor": "white",
             "minorgridcolor": "white",
             "startlinecolor": "rgb(36,36,36)"
            },
            "baxis": {
             "endlinecolor": "rgb(36,36,36)",
             "gridcolor": "white",
             "linecolor": "white",
             "minorgridcolor": "white",
             "startlinecolor": "rgb(36,36,36)"
            },
            "type": "carpet"
           }
          ],
          "choropleth": [
           {
            "colorbar": {
             "outlinewidth": 1,
             "tickcolor": "rgb(36,36,36)",
             "ticks": "outside"
            },
            "type": "choropleth"
           }
          ],
          "contour": [
           {
            "colorbar": {
             "outlinewidth": 1,
             "tickcolor": "rgb(36,36,36)",
             "ticks": "outside"
            },
            "colorscale": [
             [
              0,
              "#440154"
             ],
             [
              0.1111111111111111,
              "#482878"
             ],
             [
              0.2222222222222222,
              "#3e4989"
             ],
             [
              0.3333333333333333,
              "#31688e"
             ],
             [
              0.4444444444444444,
              "#26828e"
             ],
             [
              0.5555555555555556,
              "#1f9e89"
             ],
             [
              0.6666666666666666,
              "#35b779"
             ],
             [
              0.7777777777777778,
              "#6ece58"
             ],
             [
              0.8888888888888888,
              "#b5de2b"
             ],
             [
              1,
              "#fde725"
             ]
            ],
            "type": "contour"
           }
          ],
          "contourcarpet": [
           {
            "colorbar": {
             "outlinewidth": 1,
             "tickcolor": "rgb(36,36,36)",
             "ticks": "outside"
            },
            "type": "contourcarpet"
           }
          ],
          "heatmap": [
           {
            "colorbar": {
             "outlinewidth": 1,
             "tickcolor": "rgb(36,36,36)",
             "ticks": "outside"
            },
            "colorscale": [
             [
              0,
              "#440154"
             ],
             [
              0.1111111111111111,
              "#482878"
             ],
             [
              0.2222222222222222,
              "#3e4989"
             ],
             [
              0.3333333333333333,
              "#31688e"
             ],
             [
              0.4444444444444444,
              "#26828e"
             ],
             [
              0.5555555555555556,
              "#1f9e89"
             ],
             [
              0.6666666666666666,
              "#35b779"
             ],
             [
              0.7777777777777778,
              "#6ece58"
             ],
             [
              0.8888888888888888,
              "#b5de2b"
             ],
             [
              1,
              "#fde725"
             ]
            ],
            "type": "heatmap"
           }
          ],
          "heatmapgl": [
           {
            "colorbar": {
             "outlinewidth": 1,
             "tickcolor": "rgb(36,36,36)",
             "ticks": "outside"
            },
            "colorscale": [
             [
              0,
              "#440154"
             ],
             [
              0.1111111111111111,
              "#482878"
             ],
             [
              0.2222222222222222,
              "#3e4989"
             ],
             [
              0.3333333333333333,
              "#31688e"
             ],
             [
              0.4444444444444444,
              "#26828e"
             ],
             [
              0.5555555555555556,
              "#1f9e89"
             ],
             [
              0.6666666666666666,
              "#35b779"
             ],
             [
              0.7777777777777778,
              "#6ece58"
             ],
             [
              0.8888888888888888,
              "#b5de2b"
             ],
             [
              1,
              "#fde725"
             ]
            ],
            "type": "heatmapgl"
           }
          ],
          "histogram": [
           {
            "marker": {
             "line": {
              "color": "white",
              "width": 0.6
             }
            },
            "type": "histogram"
           }
          ],
          "histogram2d": [
           {
            "colorbar": {
             "outlinewidth": 1,
             "tickcolor": "rgb(36,36,36)",
             "ticks": "outside"
            },
            "colorscale": [
             [
              0,
              "#440154"
             ],
             [
              0.1111111111111111,
              "#482878"
             ],
             [
              0.2222222222222222,
              "#3e4989"
             ],
             [
              0.3333333333333333,
              "#31688e"
             ],
             [
              0.4444444444444444,
              "#26828e"
             ],
             [
              0.5555555555555556,
              "#1f9e89"
             ],
             [
              0.6666666666666666,
              "#35b779"
             ],
             [
              0.7777777777777778,
              "#6ece58"
             ],
             [
              0.8888888888888888,
              "#b5de2b"
             ],
             [
              1,
              "#fde725"
             ]
            ],
            "type": "histogram2d"
           }
          ],
          "histogram2dcontour": [
           {
            "colorbar": {
             "outlinewidth": 1,
             "tickcolor": "rgb(36,36,36)",
             "ticks": "outside"
            },
            "colorscale": [
             [
              0,
              "#440154"
             ],
             [
              0.1111111111111111,
              "#482878"
             ],
             [
              0.2222222222222222,
              "#3e4989"
             ],
             [
              0.3333333333333333,
              "#31688e"
             ],
             [
              0.4444444444444444,
              "#26828e"
             ],
             [
              0.5555555555555556,
              "#1f9e89"
             ],
             [
              0.6666666666666666,
              "#35b779"
             ],
             [
              0.7777777777777778,
              "#6ece58"
             ],
             [
              0.8888888888888888,
              "#b5de2b"
             ],
             [
              1,
              "#fde725"
             ]
            ],
            "type": "histogram2dcontour"
           }
          ],
          "mesh3d": [
           {
            "colorbar": {
             "outlinewidth": 1,
             "tickcolor": "rgb(36,36,36)",
             "ticks": "outside"
            },
            "type": "mesh3d"
           }
          ],
          "parcoords": [
           {
            "line": {
             "colorbar": {
              "outlinewidth": 1,
              "tickcolor": "rgb(36,36,36)",
              "ticks": "outside"
             }
            },
            "type": "parcoords"
           }
          ],
          "pie": [
           {
            "automargin": true,
            "type": "pie"
           }
          ],
          "scatter": [
           {
            "fillpattern": {
             "fillmode": "overlay",
             "size": 10,
             "solidity": 0.2
            },
            "type": "scatter"
           }
          ],
          "scatter3d": [
           {
            "line": {
             "colorbar": {
              "outlinewidth": 1,
              "tickcolor": "rgb(36,36,36)",
              "ticks": "outside"
             }
            },
            "marker": {
             "colorbar": {
              "outlinewidth": 1,
              "tickcolor": "rgb(36,36,36)",
              "ticks": "outside"
             }
            },
            "type": "scatter3d"
           }
          ],
          "scattercarpet": [
           {
            "marker": {
             "colorbar": {
              "outlinewidth": 1,
              "tickcolor": "rgb(36,36,36)",
              "ticks": "outside"
             }
            },
            "type": "scattercarpet"
           }
          ],
          "scattergeo": [
           {
            "marker": {
             "colorbar": {
              "outlinewidth": 1,
              "tickcolor": "rgb(36,36,36)",
              "ticks": "outside"
             }
            },
            "type": "scattergeo"
           }
          ],
          "scattergl": [
           {
            "marker": {
             "colorbar": {
              "outlinewidth": 1,
              "tickcolor": "rgb(36,36,36)",
              "ticks": "outside"
             }
            },
            "type": "scattergl"
           }
          ],
          "scattermapbox": [
           {
            "marker": {
             "colorbar": {
              "outlinewidth": 1,
              "tickcolor": "rgb(36,36,36)",
              "ticks": "outside"
             }
            },
            "type": "scattermapbox"
           }
          ],
          "scatterpolar": [
           {
            "marker": {
             "colorbar": {
              "outlinewidth": 1,
              "tickcolor": "rgb(36,36,36)",
              "ticks": "outside"
             }
            },
            "type": "scatterpolar"
           }
          ],
          "scatterpolargl": [
           {
            "marker": {
             "colorbar": {
              "outlinewidth": 1,
              "tickcolor": "rgb(36,36,36)",
              "ticks": "outside"
             }
            },
            "type": "scatterpolargl"
           }
          ],
          "scatterternary": [
           {
            "marker": {
             "colorbar": {
              "outlinewidth": 1,
              "tickcolor": "rgb(36,36,36)",
              "ticks": "outside"
             }
            },
            "type": "scatterternary"
           }
          ],
          "surface": [
           {
            "colorbar": {
             "outlinewidth": 1,
             "tickcolor": "rgb(36,36,36)",
             "ticks": "outside"
            },
            "colorscale": [
             [
              0,
              "#440154"
             ],
             [
              0.1111111111111111,
              "#482878"
             ],
             [
              0.2222222222222222,
              "#3e4989"
             ],
             [
              0.3333333333333333,
              "#31688e"
             ],
             [
              0.4444444444444444,
              "#26828e"
             ],
             [
              0.5555555555555556,
              "#1f9e89"
             ],
             [
              0.6666666666666666,
              "#35b779"
             ],
             [
              0.7777777777777778,
              "#6ece58"
             ],
             [
              0.8888888888888888,
              "#b5de2b"
             ],
             [
              1,
              "#fde725"
             ]
            ],
            "type": "surface"
           }
          ],
          "table": [
           {
            "cells": {
             "fill": {
              "color": "rgb(237,237,237)"
             },
             "line": {
              "color": "white"
             }
            },
            "header": {
             "fill": {
              "color": "rgb(217,217,217)"
             },
             "line": {
              "color": "white"
             }
            },
            "type": "table"
           }
          ]
         },
         "layout": {
          "annotationdefaults": {
           "arrowhead": 0,
           "arrowwidth": 1
          },
          "autotypenumbers": "strict",
          "coloraxis": {
           "colorbar": {
            "outlinewidth": 1,
            "tickcolor": "rgb(36,36,36)",
            "ticks": "outside"
           }
          },
          "colorscale": {
           "diverging": [
            [
             0,
             "rgb(103,0,31)"
            ],
            [
             0.1,
             "rgb(178,24,43)"
            ],
            [
             0.2,
             "rgb(214,96,77)"
            ],
            [
             0.3,
             "rgb(244,165,130)"
            ],
            [
             0.4,
             "rgb(253,219,199)"
            ],
            [
             0.5,
             "rgb(247,247,247)"
            ],
            [
             0.6,
             "rgb(209,229,240)"
            ],
            [
             0.7,
             "rgb(146,197,222)"
            ],
            [
             0.8,
             "rgb(67,147,195)"
            ],
            [
             0.9,
             "rgb(33,102,172)"
            ],
            [
             1,
             "rgb(5,48,97)"
            ]
           ],
           "sequential": [
            [
             0,
             "#440154"
            ],
            [
             0.1111111111111111,
             "#482878"
            ],
            [
             0.2222222222222222,
             "#3e4989"
            ],
            [
             0.3333333333333333,
             "#31688e"
            ],
            [
             0.4444444444444444,
             "#26828e"
            ],
            [
             0.5555555555555556,
             "#1f9e89"
            ],
            [
             0.6666666666666666,
             "#35b779"
            ],
            [
             0.7777777777777778,
             "#6ece58"
            ],
            [
             0.8888888888888888,
             "#b5de2b"
            ],
            [
             1,
             "#fde725"
            ]
           ],
           "sequentialminus": [
            [
             0,
             "#440154"
            ],
            [
             0.1111111111111111,
             "#482878"
            ],
            [
             0.2222222222222222,
             "#3e4989"
            ],
            [
             0.3333333333333333,
             "#31688e"
            ],
            [
             0.4444444444444444,
             "#26828e"
            ],
            [
             0.5555555555555556,
             "#1f9e89"
            ],
            [
             0.6666666666666666,
             "#35b779"
            ],
            [
             0.7777777777777778,
             "#6ece58"
            ],
            [
             0.8888888888888888,
             "#b5de2b"
            ],
            [
             1,
             "#fde725"
            ]
           ]
          },
          "colorway": [
           "#1F77B4",
           "#FF7F0E",
           "#2CA02C",
           "#D62728",
           "#9467BD",
           "#8C564B",
           "#E377C2",
           "#7F7F7F",
           "#BCBD22",
           "#17BECF"
          ],
          "font": {
           "color": "rgb(36,36,36)"
          },
          "geo": {
           "bgcolor": "white",
           "lakecolor": "white",
           "landcolor": "white",
           "showlakes": true,
           "showland": true,
           "subunitcolor": "white"
          },
          "hoverlabel": {
           "align": "left"
          },
          "hovermode": "closest",
          "mapbox": {
           "style": "light"
          },
          "paper_bgcolor": "white",
          "plot_bgcolor": "white",
          "polar": {
           "angularaxis": {
            "gridcolor": "rgb(232,232,232)",
            "linecolor": "rgb(36,36,36)",
            "showgrid": false,
            "showline": true,
            "ticks": "outside"
           },
           "bgcolor": "white",
           "radialaxis": {
            "gridcolor": "rgb(232,232,232)",
            "linecolor": "rgb(36,36,36)",
            "showgrid": false,
            "showline": true,
            "ticks": "outside"
           }
          },
          "scene": {
           "xaxis": {
            "backgroundcolor": "white",
            "gridcolor": "rgb(232,232,232)",
            "gridwidth": 2,
            "linecolor": "rgb(36,36,36)",
            "showbackground": true,
            "showgrid": false,
            "showline": true,
            "ticks": "outside",
            "zeroline": false,
            "zerolinecolor": "rgb(36,36,36)"
           },
           "yaxis": {
            "backgroundcolor": "white",
            "gridcolor": "rgb(232,232,232)",
            "gridwidth": 2,
            "linecolor": "rgb(36,36,36)",
            "showbackground": true,
            "showgrid": false,
            "showline": true,
            "ticks": "outside",
            "zeroline": false,
            "zerolinecolor": "rgb(36,36,36)"
           },
           "zaxis": {
            "backgroundcolor": "white",
            "gridcolor": "rgb(232,232,232)",
            "gridwidth": 2,
            "linecolor": "rgb(36,36,36)",
            "showbackground": true,
            "showgrid": false,
            "showline": true,
            "ticks": "outside",
            "zeroline": false,
            "zerolinecolor": "rgb(36,36,36)"
           }
          },
          "shapedefaults": {
           "fillcolor": "black",
           "line": {
            "width": 0
           },
           "opacity": 0.3
          },
          "ternary": {
           "aaxis": {
            "gridcolor": "rgb(232,232,232)",
            "linecolor": "rgb(36,36,36)",
            "showgrid": false,
            "showline": true,
            "ticks": "outside"
           },
           "baxis": {
            "gridcolor": "rgb(232,232,232)",
            "linecolor": "rgb(36,36,36)",
            "showgrid": false,
            "showline": true,
            "ticks": "outside"
           },
           "bgcolor": "white",
           "caxis": {
            "gridcolor": "rgb(232,232,232)",
            "linecolor": "rgb(36,36,36)",
            "showgrid": false,
            "showline": true,
            "ticks": "outside"
           }
          },
          "title": {
           "x": 0.05
          },
          "xaxis": {
           "automargin": true,
           "gridcolor": "rgb(232,232,232)",
           "linecolor": "rgb(36,36,36)",
           "showgrid": false,
           "showline": true,
           "ticks": "outside",
           "title": {
            "standoff": 15
           },
           "zeroline": false,
           "zerolinecolor": "rgb(36,36,36)"
          },
          "yaxis": {
           "automargin": true,
           "gridcolor": "rgb(232,232,232)",
           "linecolor": "rgb(36,36,36)",
           "showgrid": false,
           "showline": true,
           "ticks": "outside",
           "title": {
            "standoff": 15
           },
           "zeroline": false,
           "zerolinecolor": "rgb(36,36,36)"
          }
         }
        },
        "title": {
         "font": {
          "color": "Black",
          "size": 22
         },
         "text": "<b>Intertopic Distance Map</b>",
         "x": 0.5,
         "xanchor": "center",
         "y": 0.95,
         "yanchor": "top"
        },
        "width": 650,
        "xaxis": {
         "anchor": "y",
         "domain": [
          0,
          1
         ],
         "range": [
          -5.581121277809143,
          13.922659969329834
         ],
         "title": {
          "text": ""
         },
         "visible": false
        },
        "yaxis": {
         "anchor": "x",
         "domain": [
          0,
          1
         ],
         "range": [
          -3.0567871809005736,
          20.259967422485353
         ],
         "title": {
          "text": ""
         },
         "visible": false
        }
       }
      }
     },
     "metadata": {},
     "output_type": "display_data"
    }
   ],
   "source": [
    "topic_model.visualize_topics()"
   ]
  },
  {
   "cell_type": "code",
   "execution_count": 7,
   "metadata": {},
   "outputs": [],
   "source": [
    "from gensim.corpora import Dictionary\n",
    "from gensim.models import CoherenceModel"
   ]
  },
  {
   "cell_type": "code",
   "execution_count": 8,
   "metadata": {},
   "outputs": [],
   "source": [
    "# Evaluating Results\n",
    "cleaned_docs = topic_model._preprocess_text(docs)\n",
    "analyzer = vectorizer_model.build_analyzer()\n",
    "tokens = [analyzer(doc) for doc in cleaned_docs]\n",
    "\n",
    "dictionary = Dictionary(tokens)\n",
    "corpus = [dictionary.doc2bow(token) for token in tokens]\n",
    "topics = topic_model.get_topics()\n",
    "# topics.pop(-1, None)  # removes the outliers topics\n",
    "\n",
    "# topics = {\n",
    "#     topic_id: terms\n",
    "#     for topic_id, terms in topics.items()\n",
    "#     if all(term != \"\" for term, weight in terms)\n",
    "# }\n",
    "\n",
    "topic_words = [\n",
    "    [word for word, _ in topic_model.get_topic(topic) if word != \"\"]\n",
    "    for topic in topics\n",
    "]\n",
    "\n",
    "coherence_model = CoherenceModel(\n",
    "    topics=topic_words,\n",
    "    texts=tokens,\n",
    "    corpus=corpus,\n",
    "    dictionary=dictionary,\n",
    "    coherence=\"c_v\",\n",
    ")\n",
    "coherence_cv = coherence_model.get_coherence()"
   ]
  },
  {
   "cell_type": "code",
   "execution_count": 12,
   "metadata": {},
   "outputs": [],
   "source": [
    "topic_model, topics, probs = load_model_outputs(\"models/bertopic/best_model\")"
   ]
  },
  {
   "cell_type": "code",
   "execution_count": 11,
   "metadata": {},
   "outputs": [],
   "source": [
    "c_v_score = coherence_score(docs, topic_model, vectorizer_model, \"c_v\")\n",
    "c_npmi_score = coherence_score(docs, topic_model, vectorizer_model, \"c_npmi\")"
   ]
  },
  {
   "cell_type": "code",
   "execution_count": 6,
   "metadata": {},
   "outputs": [
    {
     "name": "stdout",
     "output_type": "stream",
     "text": [
      "Coherence c_v score 0.5445290526096022\n",
      "Coherence c_uci score -1.1684051311610322\n",
      "Coherence c_npmi score 0.05579811680776636\n",
      "Coherence u_mass score -6.10753838094611\n"
     ]
    }
   ],
   "source": [
    "print(f\"Coherence c_v score {c_v_score}\")\n",
    "print(f\"Coherence c_npmi score {c_npmi_score}\")"
   ]
  },
  {
   "cell_type": "code",
   "execution_count": 16,
   "metadata": {},
   "outputs": [
    {
     "name": "stdout",
     "output_type": "stream",
     "text": [
      "Coherence c_v score 0.60062913735541\n",
      "Coherence c_uci score -1.601272557522461\n",
      "Coherence c_npmi score 0.09028267714656323\n",
      "Coherence u_mass score -7.015678060427399\n"
     ]
    }
   ],
   "source": [
    "print(f\"Coherence c_v score {c_v_score}\")\n",
    "print(f\"Coherence c_npmi score {c_npmi_score}\")"
   ]
  },
  {
   "cell_type": "code",
   "execution_count": 13,
   "metadata": {},
   "outputs": [
    {
     "data": {
      "text/plain": [
       "{0: [('transporte', 0.58858824),\n",
       "  ('escolas', 0.56080055),\n",
       "  ('escolar', 0.5474154),\n",
       "  ('escolares', 0.5321746),\n",
       "  ('escola', 0.5285947),\n",
       "  ('ensino', 0.4486993),\n",
       "  ('educacao', 0.44272935)],\n",
       " 1: [('humana', 0.5309181),\n",
       "  ('pessoal', 0.44969273),\n",
       "  ('inserviveis', 0.40492302),\n",
       "  ('abrasivos', 0.38481975),\n",
       "  ('pereciveis', 0.3841505),\n",
       "  ('estofados', 0.37629706),\n",
       "  ('acessorios', 0.37341118)],\n",
       " 2: [('diesel', 0.6675763),\n",
       "  ('gasolina', 0.65005744),\n",
       "  ('combustivel', 0.6349536),\n",
       "  ('petroleo', 0.6269737),\n",
       "  ('combustiveis', 0.5219834),\n",
       "  ('maquinas', 0.41559768),\n",
       "  ('suprimentos', 0.41280434)],\n",
       " 3: [('hospitalares', 0.7242185),\n",
       "  ('hospitalar', 0.7056199),\n",
       "  ('hospital', 0.7030196),\n",
       "  ('clinica', 0.6049603),\n",
       "  ('medicos', 0.584201),\n",
       "  ('ambulatoriais', 0.5709485),\n",
       "  ('medico', 0.55976427)],\n",
       " 4: [('alimenticios', 0.63433415),\n",
       "  ('agricola', 0.603796),\n",
       "  ('agricultura', 0.6023586),\n",
       "  ('alimentos', 0.60201573),\n",
       "  ('agricolas', 0.58764327),\n",
       "  ('agricultores', 0.531074),\n",
       "  ('hortifrutigranjeiros', 0.5210556)],\n",
       " 5: [('pneus', 0.8261885),\n",
       "  ('rodas', 0.6840523),\n",
       "  ('automotor', 0.51111007),\n",
       "  ('cilindros', 0.5053673),\n",
       "  ('motorista', 0.49095282),\n",
       "  ('motoniveladora', 0.46244985),\n",
       "  ('motor', 0.45879543)],\n",
       " 6: [('lampadas', 0.70275253),\n",
       "  ('iluminacao', 0.67471796),\n",
       "  ('lampada', 0.64929557),\n",
       "  ('refletores', 0.6187529),\n",
       "  ('materiais', 0.5415151),\n",
       "  ('luminarias', 0.53353024),\n",
       "  ('material', 0.5281855)],\n",
       " 7: [('organizacoes', 0.6457565),\n",
       "  ('cooperacao', 0.53939664),\n",
       "  ('organizacao', 0.53329813),\n",
       "  ('sociedade', 0.5129977),\n",
       "  ('colaboracao', 0.50755435),\n",
       "  ('parceria', 0.49998993),\n",
       "  ('civil', 0.48958462)],\n",
       " 8: [('campeonatos', 0.5256483),\n",
       "  ('desportivas', 0.5091816),\n",
       "  ('competicoes', 0.4995975),\n",
       "  ('esportivos', 0.49788094),\n",
       "  ('trofeus', 0.49265596),\n",
       "  ('torneios', 0.49063596),\n",
       "  ('campeonato', 0.4875478)],\n",
       " 9: [('antigenos', 0.5294957),\n",
       "  ('anticorpos', 0.51806676),\n",
       "  ('antigeno', 0.51618767),\n",
       "  ('imunocromatografia', 0.5019314),\n",
       "  ('imunocromatografico', 0.49239498),\n",
       "  ('vacina', 0.47656545),\n",
       "  ('imunoensaio', 0.46127826)],\n",
       " 10: [('familiares', 0.53419954),\n",
       "  ('vulnerabilidade', 0.43890554),\n",
       "  ('populacao', 0.42103505),\n",
       "  ('risco', 0.3967343),\n",
       "  ('habitacao', 0.39179927),\n",
       "  ('geriatricas', 0.3843239),\n",
       "  ('adultos', 0.38147098)],\n",
       " 11: [('mineral', 0.7498488),\n",
       "  ('agua', 0.72012067),\n",
       "  ('hidroxido', 0.6060719),\n",
       "  ('liquido', 0.57225317),\n",
       "  ('acido', 0.47177058),\n",
       "  ('arsenio', 0.43726605),\n",
       "  ('cloreto', 0.42888168)],\n",
       " 12: [('cafeteira', 0.756176),\n",
       "  ('coffee', 0.75443757),\n",
       "  ('cafe', 0.63742125),\n",
       "  ('bebidas', 0.48236984),\n",
       "  ('refrigerantes', 0.44259608),\n",
       "  ('chocolate', 0.39645594),\n",
       "  ('copos', 0.38803327)]}"
      ]
     },
     "execution_count": 13,
     "metadata": {},
     "output_type": "execute_result"
    }
   ],
   "source": [
    "topic_model.get_topics()"
   ]
  },
  {
   "cell_type": "code",
   "execution_count": 14,
   "metadata": {},
   "outputs": [
    {
     "data": {
      "text/html": [
       "<div>\n",
       "<style scoped>\n",
       "    .dataframe tbody tr th:only-of-type {\n",
       "        vertical-align: middle;\n",
       "    }\n",
       "\n",
       "    .dataframe tbody tr th {\n",
       "        vertical-align: top;\n",
       "    }\n",
       "\n",
       "    .dataframe thead th {\n",
       "        text-align: right;\n",
       "    }\n",
       "</style>\n",
       "<table border=\"1\" class=\"dataframe\">\n",
       "  <thead>\n",
       "    <tr style=\"text-align: right;\">\n",
       "      <th></th>\n",
       "      <th>Topic</th>\n",
       "      <th>Count</th>\n",
       "      <th>Name</th>\n",
       "      <th>Representation</th>\n",
       "      <th>Representative_Docs</th>\n",
       "    </tr>\n",
       "  </thead>\n",
       "  <tbody>\n",
       "    <tr>\n",
       "      <th>0</th>\n",
       "      <td>-1</td>\n",
       "      <td>87619</td>\n",
       "      <td>-1_agricultura_alimenticios_produtos_cozinha</td>\n",
       "      <td>NaN</td>\n",
       "      <td>[Aquisição de equipamentos/materiais permanent...</td>\n",
       "    </tr>\n",
       "    <tr>\n",
       "      <th>1</th>\n",
       "      <td>0</td>\n",
       "      <td>19791</td>\n",
       "      <td>0_transporte_escolas_escolar_escolares</td>\n",
       "      <td>[transporte, escolas, escolar, escolares, esco...</td>\n",
       "      <td>[Contratação de empresa (s) especializada (s) ...</td>\n",
       "    </tr>\n",
       "    <tr>\n",
       "      <th>2</th>\n",
       "      <td>1</td>\n",
       "      <td>4245</td>\n",
       "      <td>1_humana_pessoal_inserviveis_abrasivos</td>\n",
       "      <td>[humana, pessoal, inserviveis, abrasivos, pere...</td>\n",
       "      <td>[AQUISIÇÃO DE BENS DA(S) FAMÍLIA(S):0880-MEDIC...</td>\n",
       "    </tr>\n",
       "    <tr>\n",
       "      <th>3</th>\n",
       "      <td>2</td>\n",
       "      <td>3928</td>\n",
       "      <td>2_diesel_gasolina_combustivel_petroleo</td>\n",
       "      <td>[diesel, gasolina, combustivel, petroleo, comb...</td>\n",
       "      <td>[Registro de preços para futuras aquisições pa...</td>\n",
       "    </tr>\n",
       "    <tr>\n",
       "      <th>4</th>\n",
       "      <td>3</td>\n",
       "      <td>3823</td>\n",
       "      <td>3_hospitalares_hospitalar_hospital_clinica</td>\n",
       "      <td>[hospitalares, hospitalar, hospital, clinica, ...</td>\n",
       "      <td>[AQUISIÇÃO DE MATERIAL MÉDICO HOSPITALAR PARA ...</td>\n",
       "    </tr>\n",
       "    <tr>\n",
       "      <th>5</th>\n",
       "      <td>4</td>\n",
       "      <td>3659</td>\n",
       "      <td>4_alimenticios_agricola_agricultura_alimentos</td>\n",
       "      <td>[alimenticios, agricola, agricultura, alimento...</td>\n",
       "      <td>[AQUISIÇÃO DE GÊNEROS ALIMENTÍCIOS DA AGRICULT...</td>\n",
       "    </tr>\n",
       "    <tr>\n",
       "      <th>6</th>\n",
       "      <td>5</td>\n",
       "      <td>1883</td>\n",
       "      <td>5_pneus_rodas_automotor_cilindros</td>\n",
       "      <td>[pneus, rodas, automotor, cilindros, motorista...</td>\n",
       "      <td>[Registro de preços para aquisição de pneus, c...</td>\n",
       "    </tr>\n",
       "    <tr>\n",
       "      <th>7</th>\n",
       "      <td>6</td>\n",
       "      <td>1753</td>\n",
       "      <td>6_lampadas_iluminacao_lampada_refletores</td>\n",
       "      <td>[lampadas, iluminacao, lampada, refletores, ma...</td>\n",
       "      <td>[Aquisição de materiais para iluminação públic...</td>\n",
       "    </tr>\n",
       "    <tr>\n",
       "      <th>8</th>\n",
       "      <td>7</td>\n",
       "      <td>1196</td>\n",
       "      <td>7_organizacoes_cooperacao_organizacao_sociedade</td>\n",
       "      <td>[organizacoes, cooperacao, organizacao, socied...</td>\n",
       "      <td>[CHAMAMENTO PÚBLICO PARA FINS DE SELECIONAR OR...</td>\n",
       "    </tr>\n",
       "    <tr>\n",
       "      <th>9</th>\n",
       "      <td>8</td>\n",
       "      <td>790</td>\n",
       "      <td>8_campeonatos_desportivas_competicoes_esportivos</td>\n",
       "      <td>[campeonatos, desportivas, competicoes, esport...</td>\n",
       "      <td>[REGISTRO DE PREÇOS de SERVIÇOS DE ARBITRAGEM,...</td>\n",
       "    </tr>\n",
       "    <tr>\n",
       "      <th>10</th>\n",
       "      <td>9</td>\n",
       "      <td>407</td>\n",
       "      <td>9_antigenos_anticorpos_antigeno_imunocromatogr...</td>\n",
       "      <td>[antigenos, anticorpos, antigeno, imunocromato...</td>\n",
       "      <td>[AQUISIÇÃO TESTES RAPIDO DE ANTIGENO PARA COVI...</td>\n",
       "    </tr>\n",
       "    <tr>\n",
       "      <th>11</th>\n",
       "      <td>10</td>\n",
       "      <td>277</td>\n",
       "      <td>10_familiares_vulnerabilidade_populacao_risco</td>\n",
       "      <td>[familiares, vulnerabilidade, populacao, risco...</td>\n",
       "      <td>[AQUISIÇÃO DE CESTAS BÁSICAS PARA DISTRIBUIÇÃO...</td>\n",
       "    </tr>\n",
       "    <tr>\n",
       "      <th>12</th>\n",
       "      <td>11</td>\n",
       "      <td>148</td>\n",
       "      <td>11_mineral_agua_hidroxido_liquido</td>\n",
       "      <td>[mineral, agua, hidroxido, liquido, acido, ars...</td>\n",
       "      <td>[Aquisição de água mineral, Aquisição de água ...</td>\n",
       "    </tr>\n",
       "    <tr>\n",
       "      <th>13</th>\n",
       "      <td>12</td>\n",
       "      <td>85</td>\n",
       "      <td>12_cafeteira_coffee_cafe_bebidas</td>\n",
       "      <td>[cafeteira, coffee, cafe, bebidas, refrigerant...</td>\n",
       "      <td>[REGISTRO DE PREÇOS PARA FORNECIMENTO DE COFFE...</td>\n",
       "    </tr>\n",
       "  </tbody>\n",
       "</table>\n",
       "</div>"
      ],
      "text/plain": [
       "    Topic  Count                                               Name  \\\n",
       "0      -1  87619       -1_agricultura_alimenticios_produtos_cozinha   \n",
       "1       0  19791             0_transporte_escolas_escolar_escolares   \n",
       "2       1   4245             1_humana_pessoal_inserviveis_abrasivos   \n",
       "3       2   3928             2_diesel_gasolina_combustivel_petroleo   \n",
       "4       3   3823         3_hospitalares_hospitalar_hospital_clinica   \n",
       "5       4   3659      4_alimenticios_agricola_agricultura_alimentos   \n",
       "6       5   1883                  5_pneus_rodas_automotor_cilindros   \n",
       "7       6   1753           6_lampadas_iluminacao_lampada_refletores   \n",
       "8       7   1196    7_organizacoes_cooperacao_organizacao_sociedade   \n",
       "9       8    790   8_campeonatos_desportivas_competicoes_esportivos   \n",
       "10      9    407  9_antigenos_anticorpos_antigeno_imunocromatogr...   \n",
       "11     10    277      10_familiares_vulnerabilidade_populacao_risco   \n",
       "12     11    148                  11_mineral_agua_hidroxido_liquido   \n",
       "13     12     85                   12_cafeteira_coffee_cafe_bebidas   \n",
       "\n",
       "                                       Representation  \\\n",
       "0                                                 NaN   \n",
       "1   [transporte, escolas, escolar, escolares, esco...   \n",
       "2   [humana, pessoal, inserviveis, abrasivos, pere...   \n",
       "3   [diesel, gasolina, combustivel, petroleo, comb...   \n",
       "4   [hospitalares, hospitalar, hospital, clinica, ...   \n",
       "5   [alimenticios, agricola, agricultura, alimento...   \n",
       "6   [pneus, rodas, automotor, cilindros, motorista...   \n",
       "7   [lampadas, iluminacao, lampada, refletores, ma...   \n",
       "8   [organizacoes, cooperacao, organizacao, socied...   \n",
       "9   [campeonatos, desportivas, competicoes, esport...   \n",
       "10  [antigenos, anticorpos, antigeno, imunocromato...   \n",
       "11  [familiares, vulnerabilidade, populacao, risco...   \n",
       "12  [mineral, agua, hidroxido, liquido, acido, ars...   \n",
       "13  [cafeteira, coffee, cafe, bebidas, refrigerant...   \n",
       "\n",
       "                                  Representative_Docs  \n",
       "0   [Aquisição de equipamentos/materiais permanent...  \n",
       "1   [Contratação de empresa (s) especializada (s) ...  \n",
       "2   [AQUISIÇÃO DE BENS DA(S) FAMÍLIA(S):0880-MEDIC...  \n",
       "3   [Registro de preços para futuras aquisições pa...  \n",
       "4   [AQUISIÇÃO DE MATERIAL MÉDICO HOSPITALAR PARA ...  \n",
       "5   [AQUISIÇÃO DE GÊNEROS ALIMENTÍCIOS DA AGRICULT...  \n",
       "6   [Registro de preços para aquisição de pneus, c...  \n",
       "7   [Aquisição de materiais para iluminação públic...  \n",
       "8   [CHAMAMENTO PÚBLICO PARA FINS DE SELECIONAR OR...  \n",
       "9   [REGISTRO DE PREÇOS de SERVIÇOS DE ARBITRAGEM,...  \n",
       "10  [AQUISIÇÃO TESTES RAPIDO DE ANTIGENO PARA COVI...  \n",
       "11  [AQUISIÇÃO DE CESTAS BÁSICAS PARA DISTRIBUIÇÃO...  \n",
       "12  [Aquisição de água mineral, Aquisição de água ...  \n",
       "13  [REGISTRO DE PREÇOS PARA FORNECIMENTO DE COFFE...  "
      ]
     },
     "execution_count": 14,
     "metadata": {},
     "output_type": "execute_result"
    }
   ],
   "source": [
    "topic_model.get_topic_info()"
   ]
  },
  {
   "cell_type": "code",
   "execution_count": 15,
   "metadata": {},
   "outputs": [
    {
     "ename": "NameError",
     "evalue": "name 'topics' is not defined",
     "output_type": "error",
     "traceback": [
      "\u001b[0;31m---------------------------------------------------------------------------\u001b[0m",
      "\u001b[0;31mNameError\u001b[0m                                 Traceback (most recent call last)",
      "Cell \u001b[0;32mIn[15], line 2\u001b[0m\n\u001b[1;32m      1\u001b[0m \u001b[38;5;66;03m# Reduce outliers with pre-calculate embeddings instead\u001b[39;00m\n\u001b[0;32m----> 2\u001b[0m new_topics \u001b[38;5;241m=\u001b[39m topic_model\u001b[38;5;241m.\u001b[39mreduce_outliers(documents\u001b[38;5;241m=\u001b[39mdocs, topics\u001b[38;5;241m=\u001b[39m\u001b[43mtopics\u001b[49m, strategy\u001b[38;5;241m=\u001b[39m\u001b[38;5;124m\"\u001b[39m\u001b[38;5;124membeddings\u001b[39m\u001b[38;5;124m\"\u001b[39m, embeddings\u001b[38;5;241m=\u001b[39membeddings)\n",
      "\u001b[0;31mNameError\u001b[0m: name 'topics' is not defined"
     ]
    }
   ],
   "source": [
    "# Reduce outliers with pre-calculate embeddings instead\n",
    "new_topics = topic_model.reduce_outliers(documents=docs, topics=topics, strategy=\"embeddings\", embeddings=embeddings)"
   ]
  },
  {
   "cell_type": "code",
   "execution_count": null,
   "metadata": {},
   "outputs": [],
   "source": [
    "topics_to_merge = [[1, 2]\n",
    "                    [3, 4]]\n",
    "\n",
    "\n",
    "topic_model.merge_topics(docs, topics_to_merge)"
   ]
  },
  {
   "cell_type": "code",
   "execution_count": null,
   "metadata": {},
   "outputs": [
    {
     "name": "stderr",
     "output_type": "stream",
     "text": [
      "/home/brunodifranco/.local/lib/python3.10/site-packages/numba/np/ufunc/parallel.py:371: NumbaWarning: \u001b[1mThe TBB threading layer requires TBB version 2021 update 6 or later i.e., TBB_INTERFACE_VERSION >= 12060. Found TBB_INTERFACE_VERSION = 12050. The TBB threading layer is disabled.\u001b[0m\n",
      "  warnings.warn(problem)\n"
     ]
    },
    {
     "data": {
      "application/vnd.plotly.v1+json": {
       "config": {
        "plotlyServerURL": "https://plot.ly"
       },
       "data": [
        {
         "customdata": [
          [
           0,
           "alimenticios | agricultura | rural | cozinha | escolas",
           125406
          ],
          [
           1,
           "familia | 19 | 0884 | 0886 | ",
           813
          ],
          [
           2,
           "servico |  |  |  | ",
           516
          ],
          [
           3,
           "hospitalares | medico | familia | enfermagem | 0870",
           132
          ],
          [
           4,
           "protecao | acessorios | estofados | 0515 | familia",
           121
          ],
          [
           5,
           "servico |  |  |  | ",
           119
          ],
          [
           6,
           "laticinios | pereciveis | alimentacao | 0773 | 0002",
           74
          ],
          [
           7,
           "foto | projecao | insumos | familia | recreacao",
           66
          ],
          [
           8,
           "laboratorio |  |  |  | ",
           64
          ],
          [
           9,
           "alimenticios | escolar | educacao | escolas | genenros",
           61
          ],
          [
           10,
           "civil | construcao | 0505 | 0465 | familia",
           61
          ],
          [
           11,
           "odontologicos | odontologico | odontologia | estofados | hospitalares",
           52
          ],
          [
           12,
           "hospitalares | medico | diagnostica | familia | enfermagem",
           51
          ],
          [
           13,
           "executivos | especializado | praca | planejamento | setor",
           50
          ],
          [
           14,
           "animal | natura | alimentacao | origem | 0773",
           49
          ],
          [
           15,
           "alimentacao | laticinios | panificacao | produtos | regiao",
           48
          ]
         ],
         "hovertemplate": "<b>Topic %{customdata[0]}</b><br>%{customdata[1]}<br>Size: %{customdata[2]}",
         "legendgroup": "",
         "marker": {
          "color": "#B0BEC5",
          "line": {
           "color": "DarkSlateGrey",
           "width": 2
          },
          "size": [
           125406,
           813,
           516,
           132,
           121,
           119,
           74,
           66,
           64,
           61,
           61,
           52,
           51,
           50,
           49,
           48
          ],
          "sizemode": "area",
          "sizeref": 78.37875,
          "symbol": "circle"
         },
         "mode": "markers",
         "name": "",
         "orientation": "v",
         "showlegend": false,
         "type": "scatter",
         "x": [
          10.905198097229004,
          12.401664733886719,
          11.021775245666504,
          8.601203918457031,
          -0.3189391791820526,
          11.414302825927734,
          8.44899845123291,
          8.158793449401855,
          10.34521484375,
          8.208256721496582,
          10.510400772094727,
          11.69249153137207,
          11.27052116394043,
          -0.4367447793483734,
          12.590126991271973,
          8.314996719360352
         ],
         "xaxis": "x",
         "y": [
          -6.688711643218994,
          -5.396164417266846,
          -5.952795028686523,
          8.977561950683594,
          10.801403045654297,
          -7.0515828132629395,
          9.129770278930664,
          -3.151128053665161,
          -5.981564044952393,
          -2.518786668777466,
          -6.690559387207031,
          -7.189835071563721,
          -6.4429030418396,
          10.683565139770508,
          -5.215249538421631,
          -3.082498073577881
         ],
         "yaxis": "y"
        }
       ],
       "layout": {
        "annotations": [
         {
          "showarrow": false,
          "text": "D1",
          "x": -0.5022564962506294,
          "y": 2.0766515851020815,
          "yshift": 10
         },
         {
          "showarrow": false,
          "text": "D2",
          "x": 6.98819477185607,
          "xshift": 10,
          "y": 12.421613502502442
         }
        ],
        "height": 650,
        "hoverlabel": {
         "bgcolor": "white",
         "font": {
          "family": "Rockwell",
          "size": 16
         }
        },
        "legend": {
         "itemsizing": "constant",
         "tracegroupgap": 0
        },
        "margin": {
         "t": 60
        },
        "shapes": [
         {
          "line": {
           "color": "#CFD8DC",
           "width": 2
          },
          "type": "line",
          "x0": 6.98819477185607,
          "x1": 6.98819477185607,
          "y0": -8.26831033229828,
          "y1": 12.421613502502442
         },
         {
          "line": {
           "color": "#9E9E9E",
           "width": 2
          },
          "type": "line",
          "x0": -0.5022564962506294,
          "x1": 14.478646039962769,
          "y0": 2.0766515851020815,
          "y1": 2.0766515851020815
         }
        ],
        "sliders": [
         {
          "active": 0,
          "pad": {
           "t": 50
          },
          "steps": [
           {
            "args": [
             {
              "marker.color": [
               [
                "red",
                "#B0BEC5",
                "#B0BEC5",
                "#B0BEC5",
                "#B0BEC5",
                "#B0BEC5",
                "#B0BEC5",
                "#B0BEC5",
                "#B0BEC5",
                "#B0BEC5",
                "#B0BEC5",
                "#B0BEC5",
                "#B0BEC5",
                "#B0BEC5",
                "#B0BEC5",
                "#B0BEC5"
               ]
              ]
             }
            ],
            "label": "Topic 0",
            "method": "update"
           },
           {
            "args": [
             {
              "marker.color": [
               [
                "#B0BEC5",
                "red",
                "#B0BEC5",
                "#B0BEC5",
                "#B0BEC5",
                "#B0BEC5",
                "#B0BEC5",
                "#B0BEC5",
                "#B0BEC5",
                "#B0BEC5",
                "#B0BEC5",
                "#B0BEC5",
                "#B0BEC5",
                "#B0BEC5",
                "#B0BEC5",
                "#B0BEC5"
               ]
              ]
             }
            ],
            "label": "Topic 1",
            "method": "update"
           },
           {
            "args": [
             {
              "marker.color": [
               [
                "#B0BEC5",
                "#B0BEC5",
                "red",
                "#B0BEC5",
                "#B0BEC5",
                "#B0BEC5",
                "#B0BEC5",
                "#B0BEC5",
                "#B0BEC5",
                "#B0BEC5",
                "#B0BEC5",
                "#B0BEC5",
                "#B0BEC5",
                "#B0BEC5",
                "#B0BEC5",
                "#B0BEC5"
               ]
              ]
             }
            ],
            "label": "Topic 2",
            "method": "update"
           },
           {
            "args": [
             {
              "marker.color": [
               [
                "#B0BEC5",
                "#B0BEC5",
                "#B0BEC5",
                "red",
                "#B0BEC5",
                "#B0BEC5",
                "#B0BEC5",
                "#B0BEC5",
                "#B0BEC5",
                "#B0BEC5",
                "#B0BEC5",
                "#B0BEC5",
                "#B0BEC5",
                "#B0BEC5",
                "#B0BEC5",
                "#B0BEC5"
               ]
              ]
             }
            ],
            "label": "Topic 3",
            "method": "update"
           },
           {
            "args": [
             {
              "marker.color": [
               [
                "#B0BEC5",
                "#B0BEC5",
                "#B0BEC5",
                "#B0BEC5",
                "red",
                "#B0BEC5",
                "#B0BEC5",
                "#B0BEC5",
                "#B0BEC5",
                "#B0BEC5",
                "#B0BEC5",
                "#B0BEC5",
                "#B0BEC5",
                "#B0BEC5",
                "#B0BEC5",
                "#B0BEC5"
               ]
              ]
             }
            ],
            "label": "Topic 4",
            "method": "update"
           },
           {
            "args": [
             {
              "marker.color": [
               [
                "#B0BEC5",
                "#B0BEC5",
                "#B0BEC5",
                "#B0BEC5",
                "#B0BEC5",
                "red",
                "#B0BEC5",
                "#B0BEC5",
                "#B0BEC5",
                "#B0BEC5",
                "#B0BEC5",
                "#B0BEC5",
                "#B0BEC5",
                "#B0BEC5",
                "#B0BEC5",
                "#B0BEC5"
               ]
              ]
             }
            ],
            "label": "Topic 5",
            "method": "update"
           },
           {
            "args": [
             {
              "marker.color": [
               [
                "#B0BEC5",
                "#B0BEC5",
                "#B0BEC5",
                "#B0BEC5",
                "#B0BEC5",
                "#B0BEC5",
                "red",
                "#B0BEC5",
                "#B0BEC5",
                "#B0BEC5",
                "#B0BEC5",
                "#B0BEC5",
                "#B0BEC5",
                "#B0BEC5",
                "#B0BEC5",
                "#B0BEC5"
               ]
              ]
             }
            ],
            "label": "Topic 6",
            "method": "update"
           },
           {
            "args": [
             {
              "marker.color": [
               [
                "#B0BEC5",
                "#B0BEC5",
                "#B0BEC5",
                "#B0BEC5",
                "#B0BEC5",
                "#B0BEC5",
                "#B0BEC5",
                "red",
                "#B0BEC5",
                "#B0BEC5",
                "#B0BEC5",
                "#B0BEC5",
                "#B0BEC5",
                "#B0BEC5",
                "#B0BEC5",
                "#B0BEC5"
               ]
              ]
             }
            ],
            "label": "Topic 7",
            "method": "update"
           },
           {
            "args": [
             {
              "marker.color": [
               [
                "#B0BEC5",
                "#B0BEC5",
                "#B0BEC5",
                "#B0BEC5",
                "#B0BEC5",
                "#B0BEC5",
                "#B0BEC5",
                "#B0BEC5",
                "red",
                "#B0BEC5",
                "#B0BEC5",
                "#B0BEC5",
                "#B0BEC5",
                "#B0BEC5",
                "#B0BEC5",
                "#B0BEC5"
               ]
              ]
             }
            ],
            "label": "Topic 8",
            "method": "update"
           },
           {
            "args": [
             {
              "marker.color": [
               [
                "#B0BEC5",
                "#B0BEC5",
                "#B0BEC5",
                "#B0BEC5",
                "#B0BEC5",
                "#B0BEC5",
                "#B0BEC5",
                "#B0BEC5",
                "#B0BEC5",
                "red",
                "#B0BEC5",
                "#B0BEC5",
                "#B0BEC5",
                "#B0BEC5",
                "#B0BEC5",
                "#B0BEC5"
               ]
              ]
             }
            ],
            "label": "Topic 9",
            "method": "update"
           },
           {
            "args": [
             {
              "marker.color": [
               [
                "#B0BEC5",
                "#B0BEC5",
                "#B0BEC5",
                "#B0BEC5",
                "#B0BEC5",
                "#B0BEC5",
                "#B0BEC5",
                "#B0BEC5",
                "#B0BEC5",
                "#B0BEC5",
                "red",
                "#B0BEC5",
                "#B0BEC5",
                "#B0BEC5",
                "#B0BEC5",
                "#B0BEC5"
               ]
              ]
             }
            ],
            "label": "Topic 10",
            "method": "update"
           },
           {
            "args": [
             {
              "marker.color": [
               [
                "#B0BEC5",
                "#B0BEC5",
                "#B0BEC5",
                "#B0BEC5",
                "#B0BEC5",
                "#B0BEC5",
                "#B0BEC5",
                "#B0BEC5",
                "#B0BEC5",
                "#B0BEC5",
                "#B0BEC5",
                "red",
                "#B0BEC5",
                "#B0BEC5",
                "#B0BEC5",
                "#B0BEC5"
               ]
              ]
             }
            ],
            "label": "Topic 11",
            "method": "update"
           },
           {
            "args": [
             {
              "marker.color": [
               [
                "#B0BEC5",
                "#B0BEC5",
                "#B0BEC5",
                "#B0BEC5",
                "#B0BEC5",
                "#B0BEC5",
                "#B0BEC5",
                "#B0BEC5",
                "#B0BEC5",
                "#B0BEC5",
                "#B0BEC5",
                "#B0BEC5",
                "red",
                "#B0BEC5",
                "#B0BEC5",
                "#B0BEC5"
               ]
              ]
             }
            ],
            "label": "Topic 12",
            "method": "update"
           },
           {
            "args": [
             {
              "marker.color": [
               [
                "#B0BEC5",
                "#B0BEC5",
                "#B0BEC5",
                "#B0BEC5",
                "#B0BEC5",
                "#B0BEC5",
                "#B0BEC5",
                "#B0BEC5",
                "#B0BEC5",
                "#B0BEC5",
                "#B0BEC5",
                "#B0BEC5",
                "#B0BEC5",
                "red",
                "#B0BEC5",
                "#B0BEC5"
               ]
              ]
             }
            ],
            "label": "Topic 13",
            "method": "update"
           },
           {
            "args": [
             {
              "marker.color": [
               [
                "#B0BEC5",
                "#B0BEC5",
                "#B0BEC5",
                "#B0BEC5",
                "#B0BEC5",
                "#B0BEC5",
                "#B0BEC5",
                "#B0BEC5",
                "#B0BEC5",
                "#B0BEC5",
                "#B0BEC5",
                "#B0BEC5",
                "#B0BEC5",
                "#B0BEC5",
                "red",
                "#B0BEC5"
               ]
              ]
             }
            ],
            "label": "Topic 14",
            "method": "update"
           },
           {
            "args": [
             {
              "marker.color": [
               [
                "#B0BEC5",
                "#B0BEC5",
                "#B0BEC5",
                "#B0BEC5",
                "#B0BEC5",
                "#B0BEC5",
                "#B0BEC5",
                "#B0BEC5",
                "#B0BEC5",
                "#B0BEC5",
                "#B0BEC5",
                "#B0BEC5",
                "#B0BEC5",
                "#B0BEC5",
                "#B0BEC5",
                "red"
               ]
              ]
             }
            ],
            "label": "Topic 15",
            "method": "update"
           }
          ]
         }
        ],
        "template": {
         "data": {
          "bar": [
           {
            "error_x": {
             "color": "rgb(36,36,36)"
            },
            "error_y": {
             "color": "rgb(36,36,36)"
            },
            "marker": {
             "line": {
              "color": "white",
              "width": 0.5
             },
             "pattern": {
              "fillmode": "overlay",
              "size": 10,
              "solidity": 0.2
             }
            },
            "type": "bar"
           }
          ],
          "barpolar": [
           {
            "marker": {
             "line": {
              "color": "white",
              "width": 0.5
             },
             "pattern": {
              "fillmode": "overlay",
              "size": 10,
              "solidity": 0.2
             }
            },
            "type": "barpolar"
           }
          ],
          "carpet": [
           {
            "aaxis": {
             "endlinecolor": "rgb(36,36,36)",
             "gridcolor": "white",
             "linecolor": "white",
             "minorgridcolor": "white",
             "startlinecolor": "rgb(36,36,36)"
            },
            "baxis": {
             "endlinecolor": "rgb(36,36,36)",
             "gridcolor": "white",
             "linecolor": "white",
             "minorgridcolor": "white",
             "startlinecolor": "rgb(36,36,36)"
            },
            "type": "carpet"
           }
          ],
          "choropleth": [
           {
            "colorbar": {
             "outlinewidth": 1,
             "tickcolor": "rgb(36,36,36)",
             "ticks": "outside"
            },
            "type": "choropleth"
           }
          ],
          "contour": [
           {
            "colorbar": {
             "outlinewidth": 1,
             "tickcolor": "rgb(36,36,36)",
             "ticks": "outside"
            },
            "colorscale": [
             [
              0,
              "#440154"
             ],
             [
              0.1111111111111111,
              "#482878"
             ],
             [
              0.2222222222222222,
              "#3e4989"
             ],
             [
              0.3333333333333333,
              "#31688e"
             ],
             [
              0.4444444444444444,
              "#26828e"
             ],
             [
              0.5555555555555556,
              "#1f9e89"
             ],
             [
              0.6666666666666666,
              "#35b779"
             ],
             [
              0.7777777777777778,
              "#6ece58"
             ],
             [
              0.8888888888888888,
              "#b5de2b"
             ],
             [
              1,
              "#fde725"
             ]
            ],
            "type": "contour"
           }
          ],
          "contourcarpet": [
           {
            "colorbar": {
             "outlinewidth": 1,
             "tickcolor": "rgb(36,36,36)",
             "ticks": "outside"
            },
            "type": "contourcarpet"
           }
          ],
          "heatmap": [
           {
            "colorbar": {
             "outlinewidth": 1,
             "tickcolor": "rgb(36,36,36)",
             "ticks": "outside"
            },
            "colorscale": [
             [
              0,
              "#440154"
             ],
             [
              0.1111111111111111,
              "#482878"
             ],
             [
              0.2222222222222222,
              "#3e4989"
             ],
             [
              0.3333333333333333,
              "#31688e"
             ],
             [
              0.4444444444444444,
              "#26828e"
             ],
             [
              0.5555555555555556,
              "#1f9e89"
             ],
             [
              0.6666666666666666,
              "#35b779"
             ],
             [
              0.7777777777777778,
              "#6ece58"
             ],
             [
              0.8888888888888888,
              "#b5de2b"
             ],
             [
              1,
              "#fde725"
             ]
            ],
            "type": "heatmap"
           }
          ],
          "heatmapgl": [
           {
            "colorbar": {
             "outlinewidth": 1,
             "tickcolor": "rgb(36,36,36)",
             "ticks": "outside"
            },
            "colorscale": [
             [
              0,
              "#440154"
             ],
             [
              0.1111111111111111,
              "#482878"
             ],
             [
              0.2222222222222222,
              "#3e4989"
             ],
             [
              0.3333333333333333,
              "#31688e"
             ],
             [
              0.4444444444444444,
              "#26828e"
             ],
             [
              0.5555555555555556,
              "#1f9e89"
             ],
             [
              0.6666666666666666,
              "#35b779"
             ],
             [
              0.7777777777777778,
              "#6ece58"
             ],
             [
              0.8888888888888888,
              "#b5de2b"
             ],
             [
              1,
              "#fde725"
             ]
            ],
            "type": "heatmapgl"
           }
          ],
          "histogram": [
           {
            "marker": {
             "line": {
              "color": "white",
              "width": 0.6
             }
            },
            "type": "histogram"
           }
          ],
          "histogram2d": [
           {
            "colorbar": {
             "outlinewidth": 1,
             "tickcolor": "rgb(36,36,36)",
             "ticks": "outside"
            },
            "colorscale": [
             [
              0,
              "#440154"
             ],
             [
              0.1111111111111111,
              "#482878"
             ],
             [
              0.2222222222222222,
              "#3e4989"
             ],
             [
              0.3333333333333333,
              "#31688e"
             ],
             [
              0.4444444444444444,
              "#26828e"
             ],
             [
              0.5555555555555556,
              "#1f9e89"
             ],
             [
              0.6666666666666666,
              "#35b779"
             ],
             [
              0.7777777777777778,
              "#6ece58"
             ],
             [
              0.8888888888888888,
              "#b5de2b"
             ],
             [
              1,
              "#fde725"
             ]
            ],
            "type": "histogram2d"
           }
          ],
          "histogram2dcontour": [
           {
            "colorbar": {
             "outlinewidth": 1,
             "tickcolor": "rgb(36,36,36)",
             "ticks": "outside"
            },
            "colorscale": [
             [
              0,
              "#440154"
             ],
             [
              0.1111111111111111,
              "#482878"
             ],
             [
              0.2222222222222222,
              "#3e4989"
             ],
             [
              0.3333333333333333,
              "#31688e"
             ],
             [
              0.4444444444444444,
              "#26828e"
             ],
             [
              0.5555555555555556,
              "#1f9e89"
             ],
             [
              0.6666666666666666,
              "#35b779"
             ],
             [
              0.7777777777777778,
              "#6ece58"
             ],
             [
              0.8888888888888888,
              "#b5de2b"
             ],
             [
              1,
              "#fde725"
             ]
            ],
            "type": "histogram2dcontour"
           }
          ],
          "mesh3d": [
           {
            "colorbar": {
             "outlinewidth": 1,
             "tickcolor": "rgb(36,36,36)",
             "ticks": "outside"
            },
            "type": "mesh3d"
           }
          ],
          "parcoords": [
           {
            "line": {
             "colorbar": {
              "outlinewidth": 1,
              "tickcolor": "rgb(36,36,36)",
              "ticks": "outside"
             }
            },
            "type": "parcoords"
           }
          ],
          "pie": [
           {
            "automargin": true,
            "type": "pie"
           }
          ],
          "scatter": [
           {
            "fillpattern": {
             "fillmode": "overlay",
             "size": 10,
             "solidity": 0.2
            },
            "type": "scatter"
           }
          ],
          "scatter3d": [
           {
            "line": {
             "colorbar": {
              "outlinewidth": 1,
              "tickcolor": "rgb(36,36,36)",
              "ticks": "outside"
             }
            },
            "marker": {
             "colorbar": {
              "outlinewidth": 1,
              "tickcolor": "rgb(36,36,36)",
              "ticks": "outside"
             }
            },
            "type": "scatter3d"
           }
          ],
          "scattercarpet": [
           {
            "marker": {
             "colorbar": {
              "outlinewidth": 1,
              "tickcolor": "rgb(36,36,36)",
              "ticks": "outside"
             }
            },
            "type": "scattercarpet"
           }
          ],
          "scattergeo": [
           {
            "marker": {
             "colorbar": {
              "outlinewidth": 1,
              "tickcolor": "rgb(36,36,36)",
              "ticks": "outside"
             }
            },
            "type": "scattergeo"
           }
          ],
          "scattergl": [
           {
            "marker": {
             "colorbar": {
              "outlinewidth": 1,
              "tickcolor": "rgb(36,36,36)",
              "ticks": "outside"
             }
            },
            "type": "scattergl"
           }
          ],
          "scattermapbox": [
           {
            "marker": {
             "colorbar": {
              "outlinewidth": 1,
              "tickcolor": "rgb(36,36,36)",
              "ticks": "outside"
             }
            },
            "type": "scattermapbox"
           }
          ],
          "scatterpolar": [
           {
            "marker": {
             "colorbar": {
              "outlinewidth": 1,
              "tickcolor": "rgb(36,36,36)",
              "ticks": "outside"
             }
            },
            "type": "scatterpolar"
           }
          ],
          "scatterpolargl": [
           {
            "marker": {
             "colorbar": {
              "outlinewidth": 1,
              "tickcolor": "rgb(36,36,36)",
              "ticks": "outside"
             }
            },
            "type": "scatterpolargl"
           }
          ],
          "scatterternary": [
           {
            "marker": {
             "colorbar": {
              "outlinewidth": 1,
              "tickcolor": "rgb(36,36,36)",
              "ticks": "outside"
             }
            },
            "type": "scatterternary"
           }
          ],
          "surface": [
           {
            "colorbar": {
             "outlinewidth": 1,
             "tickcolor": "rgb(36,36,36)",
             "ticks": "outside"
            },
            "colorscale": [
             [
              0,
              "#440154"
             ],
             [
              0.1111111111111111,
              "#482878"
             ],
             [
              0.2222222222222222,
              "#3e4989"
             ],
             [
              0.3333333333333333,
              "#31688e"
             ],
             [
              0.4444444444444444,
              "#26828e"
             ],
             [
              0.5555555555555556,
              "#1f9e89"
             ],
             [
              0.6666666666666666,
              "#35b779"
             ],
             [
              0.7777777777777778,
              "#6ece58"
             ],
             [
              0.8888888888888888,
              "#b5de2b"
             ],
             [
              1,
              "#fde725"
             ]
            ],
            "type": "surface"
           }
          ],
          "table": [
           {
            "cells": {
             "fill": {
              "color": "rgb(237,237,237)"
             },
             "line": {
              "color": "white"
             }
            },
            "header": {
             "fill": {
              "color": "rgb(217,217,217)"
             },
             "line": {
              "color": "white"
             }
            },
            "type": "table"
           }
          ]
         },
         "layout": {
          "annotationdefaults": {
           "arrowhead": 0,
           "arrowwidth": 1
          },
          "autotypenumbers": "strict",
          "coloraxis": {
           "colorbar": {
            "outlinewidth": 1,
            "tickcolor": "rgb(36,36,36)",
            "ticks": "outside"
           }
          },
          "colorscale": {
           "diverging": [
            [
             0,
             "rgb(103,0,31)"
            ],
            [
             0.1,
             "rgb(178,24,43)"
            ],
            [
             0.2,
             "rgb(214,96,77)"
            ],
            [
             0.3,
             "rgb(244,165,130)"
            ],
            [
             0.4,
             "rgb(253,219,199)"
            ],
            [
             0.5,
             "rgb(247,247,247)"
            ],
            [
             0.6,
             "rgb(209,229,240)"
            ],
            [
             0.7,
             "rgb(146,197,222)"
            ],
            [
             0.8,
             "rgb(67,147,195)"
            ],
            [
             0.9,
             "rgb(33,102,172)"
            ],
            [
             1,
             "rgb(5,48,97)"
            ]
           ],
           "sequential": [
            [
             0,
             "#440154"
            ],
            [
             0.1111111111111111,
             "#482878"
            ],
            [
             0.2222222222222222,
             "#3e4989"
            ],
            [
             0.3333333333333333,
             "#31688e"
            ],
            [
             0.4444444444444444,
             "#26828e"
            ],
            [
             0.5555555555555556,
             "#1f9e89"
            ],
            [
             0.6666666666666666,
             "#35b779"
            ],
            [
             0.7777777777777778,
             "#6ece58"
            ],
            [
             0.8888888888888888,
             "#b5de2b"
            ],
            [
             1,
             "#fde725"
            ]
           ],
           "sequentialminus": [
            [
             0,
             "#440154"
            ],
            [
             0.1111111111111111,
             "#482878"
            ],
            [
             0.2222222222222222,
             "#3e4989"
            ],
            [
             0.3333333333333333,
             "#31688e"
            ],
            [
             0.4444444444444444,
             "#26828e"
            ],
            [
             0.5555555555555556,
             "#1f9e89"
            ],
            [
             0.6666666666666666,
             "#35b779"
            ],
            [
             0.7777777777777778,
             "#6ece58"
            ],
            [
             0.8888888888888888,
             "#b5de2b"
            ],
            [
             1,
             "#fde725"
            ]
           ]
          },
          "colorway": [
           "#1F77B4",
           "#FF7F0E",
           "#2CA02C",
           "#D62728",
           "#9467BD",
           "#8C564B",
           "#E377C2",
           "#7F7F7F",
           "#BCBD22",
           "#17BECF"
          ],
          "font": {
           "color": "rgb(36,36,36)"
          },
          "geo": {
           "bgcolor": "white",
           "lakecolor": "white",
           "landcolor": "white",
           "showlakes": true,
           "showland": true,
           "subunitcolor": "white"
          },
          "hoverlabel": {
           "align": "left"
          },
          "hovermode": "closest",
          "mapbox": {
           "style": "light"
          },
          "paper_bgcolor": "white",
          "plot_bgcolor": "white",
          "polar": {
           "angularaxis": {
            "gridcolor": "rgb(232,232,232)",
            "linecolor": "rgb(36,36,36)",
            "showgrid": false,
            "showline": true,
            "ticks": "outside"
           },
           "bgcolor": "white",
           "radialaxis": {
            "gridcolor": "rgb(232,232,232)",
            "linecolor": "rgb(36,36,36)",
            "showgrid": false,
            "showline": true,
            "ticks": "outside"
           }
          },
          "scene": {
           "xaxis": {
            "backgroundcolor": "white",
            "gridcolor": "rgb(232,232,232)",
            "gridwidth": 2,
            "linecolor": "rgb(36,36,36)",
            "showbackground": true,
            "showgrid": false,
            "showline": true,
            "ticks": "outside",
            "zeroline": false,
            "zerolinecolor": "rgb(36,36,36)"
           },
           "yaxis": {
            "backgroundcolor": "white",
            "gridcolor": "rgb(232,232,232)",
            "gridwidth": 2,
            "linecolor": "rgb(36,36,36)",
            "showbackground": true,
            "showgrid": false,
            "showline": true,
            "ticks": "outside",
            "zeroline": false,
            "zerolinecolor": "rgb(36,36,36)"
           },
           "zaxis": {
            "backgroundcolor": "white",
            "gridcolor": "rgb(232,232,232)",
            "gridwidth": 2,
            "linecolor": "rgb(36,36,36)",
            "showbackground": true,
            "showgrid": false,
            "showline": true,
            "ticks": "outside",
            "zeroline": false,
            "zerolinecolor": "rgb(36,36,36)"
           }
          },
          "shapedefaults": {
           "fillcolor": "black",
           "line": {
            "width": 0
           },
           "opacity": 0.3
          },
          "ternary": {
           "aaxis": {
            "gridcolor": "rgb(232,232,232)",
            "linecolor": "rgb(36,36,36)",
            "showgrid": false,
            "showline": true,
            "ticks": "outside"
           },
           "baxis": {
            "gridcolor": "rgb(232,232,232)",
            "linecolor": "rgb(36,36,36)",
            "showgrid": false,
            "showline": true,
            "ticks": "outside"
           },
           "bgcolor": "white",
           "caxis": {
            "gridcolor": "rgb(232,232,232)",
            "linecolor": "rgb(36,36,36)",
            "showgrid": false,
            "showline": true,
            "ticks": "outside"
           }
          },
          "title": {
           "x": 0.05
          },
          "xaxis": {
           "automargin": true,
           "gridcolor": "rgb(232,232,232)",
           "linecolor": "rgb(36,36,36)",
           "showgrid": false,
           "showline": true,
           "ticks": "outside",
           "title": {
            "standoff": 15
           },
           "zeroline": false,
           "zerolinecolor": "rgb(36,36,36)"
          },
          "yaxis": {
           "automargin": true,
           "gridcolor": "rgb(232,232,232)",
           "linecolor": "rgb(36,36,36)",
           "showgrid": false,
           "showline": true,
           "ticks": "outside",
           "title": {
            "standoff": 15
           },
           "zeroline": false,
           "zerolinecolor": "rgb(36,36,36)"
          }
         }
        },
        "title": {
         "font": {
          "color": "Black",
          "size": 22
         },
         "text": "<b>Intertopic Distance Map</b>",
         "x": 0.5,
         "xanchor": "center",
         "y": 0.95,
         "yanchor": "top"
        },
        "width": 650,
        "xaxis": {
         "anchor": "y",
         "domain": [
          0,
          1
         ],
         "range": [
          -0.5022564962506294,
          14.478646039962769
         ],
         "title": {
          "text": ""
         },
         "visible": false
        },
        "yaxis": {
         "anchor": "x",
         "domain": [
          0,
          1
         ],
         "range": [
          -8.26831033229828,
          12.421613502502442
         ],
         "title": {
          "text": ""
         },
         "visible": false
        }
       }
      }
     },
     "metadata": {},
     "output_type": "display_data"
    }
   ],
   "source": [
    "topic_model.visualize_topics()"
   ]
  },
  {
   "cell_type": "code",
   "execution_count": null,
   "metadata": {},
   "outputs": [],
   "source": []
  }
 ],
 "metadata": {
  "kernelspec": {
   "display_name": ".venv",
   "language": "python",
   "name": "python3"
  },
  "language_info": {
   "codemirror_mode": {
    "name": "ipython",
    "version": 3
   },
   "file_extension": ".py",
   "mimetype": "text/x-python",
   "name": "python",
   "nbconvert_exporter": "python",
   "pygments_lexer": "ipython3",
   "version": "3.10.12"
  }
 },
 "nbformat": 4,
 "nbformat_minor": 2
}
