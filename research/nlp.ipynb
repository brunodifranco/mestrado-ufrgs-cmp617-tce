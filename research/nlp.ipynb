{
 "cells": [
  {
   "cell_type": "code",
   "execution_count": null,
   "metadata": {},
   "outputs": [],
   "source": [
    "import pandas as pd\n",
    "test = pd.read_csv(\"/home/bruno/mestrado-ufrgs/mestrado-ufrgs-cmp617-tce/data/tce_licitations.csv\").sample(100000)"
   ]
  },
  {
   "cell_type": "code",
   "execution_count": null,
   "metadata": {},
   "outputs": [],
   "source": [
    "import numpy as np\n",
    "from sklearn.feature_extraction.text import CountVectorizer\n",
    "from yellowbrick.text import FreqDistVisualizer\n",
    "\n",
    "def frequencia_palavras(lista_texto, top_n=15, orient='v'):\n",
    "    # Substitui np.nan por uma string vazia\n",
    "    lista_texto = np.where(pd.isnull(lista_texto), '', lista_texto)\n",
    "\n",
    "    vectorizer = CountVectorizer()\n",
    "    docs = vectorizer.fit_transform(lista_texto)\n",
    "    features = vectorizer.get_feature_names_out()\n",
    "\n",
    "    visualizer = FreqDistVisualizer(features=features, orient=orient, n=top_n)\n",
    "    visualizer.fit(docs)\n",
    "    visualizer.show()\n",
    "\n",
    "frequencia_palavras(test[\"DS_OBJETO\"].values, 30, 'h')\n"
   ]
  }
 ],
 "metadata": {
  "kernelspec": {
   "display_name": ".venv",
   "language": "python",
   "name": "python3"
  },
  "language_info": {
   "name": "python",
   "version": "3.10.12"
  }
 },
 "nbformat": 4,
 "nbformat_minor": 2
}
