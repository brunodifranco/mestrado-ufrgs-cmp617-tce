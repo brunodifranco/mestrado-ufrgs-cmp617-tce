{
 "cells": [
  {
   "cell_type": "code",
   "execution_count": 1,
   "metadata": {},
   "outputs": [],
   "source": [
    "import os\n",
    "os.chdir(\"..\")\n",
    "os.chdir(\"src\")\n",
    "import polars as pl\n",
    "from config.schemas import raw_schema"
   ]
  },
  {
   "cell_type": "code",
   "execution_count": 2,
   "metadata": {},
   "outputs": [],
   "source": [
    "df = pl.read_csv(\"data/tce_licitations.csv\", schema=raw_schema).lazy()"
   ]
  },
  {
   "cell_type": "code",
   "execution_count": 3,
   "metadata": {},
   "outputs": [
    {
     "data": {
      "text/html": [
       "<div><style>\n",
       ".dataframe > thead > tr,\n",
       ".dataframe > tbody > tr {\n",
       "  text-align: right;\n",
       "  white-space: pre-wrap;\n",
       "}\n",
       "</style>\n",
       "<small>shape: (283_874, 21)</small><table border=\"1\" class=\"dataframe\"><thead><tr><th>CD_ORGAO</th><th>NM_ORGAO</th><th>NR_LICITACAO</th><th>ANO_LICITACAO</th><th>CD_TIPO_MODALIDADE</th><th>NR_COMISSAO</th><th>TP_OBJETO</th><th>CD_TIPO_FASE_ATUAL</th><th>TP_LICITACAO</th><th>TP_NIVEL_JULGAMENTO</th><th>TP_CARACTERISTICA_OBJETO</th><th>TP_NATUREZA</th><th>DS_OBJETO</th><th>VL_LICITACAO</th><th>BL_PERMITE_CONSORCIO</th><th>DT_ABERTURA</th><th>DT_HOMOLOGACAO</th><th>DT_ADJUDICACAO</th><th>BL_LICIT_PROPRIA_ORGAO</th><th>VL_HOMOLOGADO</th><th>DS_OBSERVACAO</th></tr><tr><td>str</td><td>str</td><td>f64</td><td>str</td><td>str</td><td>f64</td><td>str</td><td>str</td><td>str</td><td>str</td><td>str</td><td>str</td><td>str</td><td>f64</td><td>str</td><td>str</td><td>str</td><td>str</td><td>str</td><td>str</td><td>str</td></tr></thead><tbody><tr><td>&quot;47500&quot;</td><td>&quot;PM DE ESTÂNCIA…</td><td>68.0</td><td>&quot;2017&quot;</td><td>&quot;PRP&quot;</td><td>16.0</td><td>&quot;OUS&quot;</td><td>&quot;ADH&quot;</td><td>&quot;MPR&quot;</td><td>&quot;L&quot;</td><td>&quot;LT&quot;</td><td>&quot;N&quot;</td><td>&quot;CONTRATAÇÃO, E…</td><td>72691.16</td><td>&quot;N&quot;</td><td>&quot;2018-01-11&quot;</td><td>&quot;2018-01-17&quot;</td><td>&quot;2018-01-17&quot;</td><td>&quot;S&quot;</td><td>null</td><td>null</td></tr><tr><td>&quot;75300&quot;</td><td>&quot;PM DE DERRUBAD…</td><td>2.0</td><td>&quot;2017&quot;</td><td>&quot;PRP&quot;</td><td>122.0</td><td>&quot;COM&quot;</td><td>&quot;ADH&quot;</td><td>&quot;MPR&quot;</td><td>&quot;I&quot;</td><td>&quot;IT&quot;</td><td>&quot;N&quot;</td><td>&quot;Aquisição de a…</td><td>65808.91</td><td>&quot;N&quot;</td><td>&quot;2017-01-20&quot;</td><td>&quot;2017-01-23&quot;</td><td>&quot;2017-01-20&quot;</td><td>&quot;S&quot;</td><td>null</td><td>null</td></tr><tr><td>&quot;88027&quot;</td><td>&quot;PM DE CAPÃO DO…</td><td>1.0</td><td>&quot;2017&quot;</td><td>&quot;PRP&quot;</td><td>123.0</td><td>&quot;COM&quot;</td><td>&quot;ADH&quot;</td><td>&quot;MPR&quot;</td><td>&quot;I&quot;</td><td>&quot;LU&quot;</td><td>&quot;N&quot;</td><td>&quot;AQUISIÇÃO DE C…</td><td>1.058588e6</td><td>&quot;S&quot;</td><td>&quot;2017-01-26&quot;</td><td>&quot;2017-02-01&quot;</td><td>&quot;2017-02-01&quot;</td><td>&quot;S&quot;</td><td>&quot;1112500.00&quot;</td><td>null</td></tr><tr><td>&quot;88039&quot;</td><td>&quot;PM DE PINHAL D…</td><td>1.0</td><td>&quot;2017&quot;</td><td>&quot;PRP&quot;</td><td>110.0</td><td>&quot;CSE&quot;</td><td>&quot;ADH&quot;</td><td>&quot;MPR&quot;</td><td>&quot;I&quot;</td><td>&quot;IT&quot;</td><td>&quot;R&quot;</td><td>&quot;O objeto da pr…</td><td>1.3611e6</td><td>&quot;N&quot;</td><td>&quot;2017-01-26&quot;</td><td>&quot;2017-01-27&quot;</td><td>&quot;2017-01-30&quot;</td><td>&quot;S&quot;</td><td>null</td><td>null</td></tr><tr><td>&quot;69900&quot;</td><td>&quot;PM DE PINHAL&quot;</td><td>2.0</td><td>&quot;2017&quot;</td><td>&quot;CNV&quot;</td><td>264.0</td><td>&quot;CSE&quot;</td><td>&quot;ADH&quot;</td><td>&quot;MPR&quot;</td><td>&quot;I&quot;</td><td>&quot;IT&quot;</td><td>&quot;N&quot;</td><td>&quot;AQUISIÇÃO DE M…</td><td>28942.06</td><td>&quot;N&quot;</td><td>&quot;2017-01-24&quot;</td><td>&quot;2017-01-25&quot;</td><td>&quot;2017-01-25&quot;</td><td>&quot;S&quot;</td><td>null</td><td>null</td></tr><tr><td>&hellip;</td><td>&hellip;</td><td>&hellip;</td><td>&hellip;</td><td>&hellip;</td><td>&hellip;</td><td>&hellip;</td><td>&hellip;</td><td>&hellip;</td><td>&hellip;</td><td>&hellip;</td><td>&hellip;</td><td>&hellip;</td><td>&hellip;</td><td>&hellip;</td><td>&hellip;</td><td>&hellip;</td><td>&hellip;</td><td>&hellip;</td><td>&hellip;</td><td>&hellip;</td></tr><tr><td>&quot;40600&quot;</td><td>&quot;PM DE ALVORADA…</td><td>95.0</td><td>&quot;2021&quot;</td><td>&quot;PRE&quot;</td><td>2094.0</td><td>&quot;CSE&quot;</td><td>&quot;ADH&quot;</td><td>&quot;MPR&quot;</td><td>&quot;I&quot;</td><td>&quot;IT&quot;</td><td>&quot;R&quot;</td><td>&quot;Registro de pr…</td><td>3.7268e6</td><td>&quot;S&quot;</td><td>&quot;2022-06-24&quot;</td><td>&quot;2022-12-26&quot;</td><td>&quot;2022-12-26&quot;</td><td>&quot;N&quot;</td><td>&quot;2407569.55&quot;</td><td>null</td></tr><tr><td>&quot;50100&quot;</td><td>&quot;PM DE IJUÍ&quot;</td><td>8.0</td><td>&quot;2021&quot;</td><td>&quot;CPC&quot;</td><td>64.0</td><td>&quot;OUS&quot;</td><td>&quot;ADH&quot;</td><td>&quot;NSA&quot;</td><td>&quot;I&quot;</td><td>&quot;IT&quot;</td><td>&quot;O&quot;</td><td>&quot;Credenciamento…</td><td>132015.0</td><td>&quot;N&quot;</td><td>&quot;2021-12-07&quot;</td><td>null</td><td>null</td><td>&quot;S&quot;</td><td>null</td><td>null</td></tr><tr><td>&quot;55600&quot;</td><td>&quot;PM DE RIO GRAN…</td><td>5.0</td><td>&quot;2021&quot;</td><td>&quot;CPC&quot;</td><td>5806.0</td><td>&quot;OUS&quot;</td><td>&quot;ADH&quot;</td><td>&quot;NSA&quot;</td><td>&quot;I&quot;</td><td>&quot;IT&quot;</td><td>&quot;O&quot;</td><td>&quot;Exames e avali…</td><td>249900.0</td><td>&quot;S&quot;</td><td>&quot;2021-10-13&quot;</td><td>null</td><td>null</td><td>&quot;N&quot;</td><td>null</td><td>&quot;Exames e avali…</td></tr><tr><td>&quot;63400&quot;</td><td>&quot;PM DE CAPÃO DA…</td><td>259.0</td><td>&quot;2021&quot;</td><td>&quot;PRE&quot;</td><td>1.8692021e7</td><td>&quot;COM&quot;</td><td>&quot;ADH&quot;</td><td>&quot;MPR&quot;</td><td>&quot;G&quot;</td><td>&quot;IT&quot;</td><td>&quot;R&quot;</td><td>&quot;Registro de Pr…</td><td>1.73665e6</td><td>&quot;N&quot;</td><td>&quot;2021-09-23&quot;</td><td>&quot;2021-09-24&quot;</td><td>&quot;2021-09-24&quot;</td><td>&quot;S&quot;</td><td>&quot;664900.00&quot;</td><td>&quot;Proc. Administ…</td></tr><tr><td>&quot;88201&quot;</td><td>&quot;IPLAN - INST. …</td><td>142.0</td><td>&quot;2021&quot;</td><td>&quot;PRE&quot;</td><td>12.0</td><td>&quot;CSE&quot;</td><td>&quot;ADH&quot;</td><td>&quot;MPR&quot;</td><td>&quot;I&quot;</td><td>&quot;IT&quot;</td><td>&quot;N&quot;</td><td>&quot;Contratação de…</td><td>44411.7</td><td>&quot;N&quot;</td><td>&quot;2022-01-19&quot;</td><td>&quot;2022-01-20&quot;</td><td>&quot;2022-01-20&quot;</td><td>&quot;N&quot;</td><td>&quot;12291.00&quot;</td><td>null</td></tr></tbody></table></div>"
      ],
      "text/plain": [
       "shape: (283_874, 21)\n",
       "┌──────────┬───────────┬───────────┬───────────┬───┬───────────┬───────────┬───────────┬───────────┐\n",
       "│ CD_ORGAO ┆ NM_ORGAO  ┆ NR_LICITA ┆ ANO_LICIT ┆ … ┆ DT_ADJUDI ┆ BL_LICIT_ ┆ VL_HOMOLO ┆ DS_OBSERV │\n",
       "│ ---      ┆ ---       ┆ CAO       ┆ ACAO      ┆   ┆ CACAO     ┆ PROPRIA_O ┆ GADO      ┆ ACAO      │\n",
       "│ str      ┆ str       ┆ ---       ┆ ---       ┆   ┆ ---       ┆ RGAO      ┆ ---       ┆ ---       │\n",
       "│          ┆           ┆ f64       ┆ str       ┆   ┆ str       ┆ ---       ┆ str       ┆ str       │\n",
       "│          ┆           ┆           ┆           ┆   ┆           ┆ str       ┆           ┆           │\n",
       "╞══════════╪═══════════╪═══════════╪═══════════╪═══╪═══════════╪═══════════╪═══════════╪═══════════╡\n",
       "│ 47500    ┆ PM DE     ┆ 68.0      ┆ 2017      ┆ … ┆ 2018-01-1 ┆ S         ┆ null      ┆ null      │\n",
       "│          ┆ ESTÂNCIA  ┆           ┆           ┆   ┆ 7         ┆           ┆           ┆           │\n",
       "│          ┆ VELHA     ┆           ┆           ┆   ┆           ┆           ┆           ┆           │\n",
       "│ 75300    ┆ PM DE DER ┆ 2.0       ┆ 2017      ┆ … ┆ 2017-01-2 ┆ S         ┆ null      ┆ null      │\n",
       "│          ┆ RUBADAS   ┆           ┆           ┆   ┆ 0         ┆           ┆           ┆           │\n",
       "│ 88027    ┆ PM DE     ┆ 1.0       ┆ 2017      ┆ … ┆ 2017-02-0 ┆ S         ┆ 1112500.0 ┆ null      │\n",
       "│          ┆ CAPÃO DO  ┆           ┆           ┆   ┆ 1         ┆           ┆ 0         ┆           │\n",
       "│          ┆ CIPÓ      ┆           ┆           ┆   ┆           ┆           ┆           ┆           │\n",
       "│ 88039    ┆ PM DE     ┆ 1.0       ┆ 2017      ┆ … ┆ 2017-01-3 ┆ S         ┆ null      ┆ null      │\n",
       "│          ┆ PINHAL DA ┆           ┆           ┆   ┆ 0         ┆           ┆           ┆           │\n",
       "│          ┆ SERRA     ┆           ┆           ┆   ┆           ┆           ┆           ┆           │\n",
       "│ 69900    ┆ PM DE     ┆ 2.0       ┆ 2017      ┆ … ┆ 2017-01-2 ┆ S         ┆ null      ┆ null      │\n",
       "│          ┆ PINHAL    ┆           ┆           ┆   ┆ 5         ┆           ┆           ┆           │\n",
       "│ …        ┆ …         ┆ …         ┆ …         ┆ … ┆ …         ┆ …         ┆ …         ┆ …         │\n",
       "│ 40600    ┆ PM DE     ┆ 95.0      ┆ 2021      ┆ … ┆ 2022-12-2 ┆ N         ┆ 2407569.5 ┆ null      │\n",
       "│          ┆ ALVORADA  ┆           ┆           ┆   ┆ 6         ┆           ┆ 5         ┆           │\n",
       "│ 50100    ┆ PM DE     ┆ 8.0       ┆ 2021      ┆ … ┆ null      ┆ S         ┆ null      ┆ null      │\n",
       "│          ┆ IJUÍ      ┆           ┆           ┆   ┆           ┆           ┆           ┆           │\n",
       "│ 55600    ┆ PM DE RIO ┆ 5.0       ┆ 2021      ┆ … ┆ null      ┆ N         ┆ null      ┆ Exames e  │\n",
       "│          ┆ GRANDE    ┆           ┆           ┆   ┆           ┆           ┆           ┆ avaliaçõe │\n",
       "│          ┆           ┆           ┆           ┆   ┆           ┆           ┆           ┆ s de Ecog │\n",
       "│          ┆           ┆           ┆           ┆   ┆           ┆           ┆           ┆ rafia…    │\n",
       "│ 63400    ┆ PM DE     ┆ 259.0     ┆ 2021      ┆ … ┆ 2021-09-2 ┆ S         ┆ 664900.00 ┆ Proc. Adm │\n",
       "│          ┆ CAPÃO DA  ┆           ┆           ┆   ┆ 4         ┆           ┆           ┆ inistrati │\n",
       "│          ┆ CANOA     ┆           ┆           ┆   ┆           ┆           ┆           ┆ vo        │\n",
       "│          ┆           ┆           ┆           ┆   ┆           ┆           ┆           ┆ 355/2021. │\n",
       "│          ┆           ┆           ┆           ┆   ┆           ┆           ┆           ┆ C…        │\n",
       "│ 88201    ┆ IPLAN -   ┆ 142.0     ┆ 2021      ┆ … ┆ 2022-01-2 ┆ N         ┆ 12291.00  ┆ null      │\n",
       "│          ┆ INST. DE  ┆           ┆           ┆   ┆ 0         ┆           ┆           ┆           │\n",
       "│          ┆ PLANEJAME ┆           ┆           ┆   ┆           ┆           ┆           ┆           │\n",
       "│          ┆ NTO DE…   ┆           ┆           ┆   ┆           ┆           ┆           ┆           │\n",
       "└──────────┴───────────┴───────────┴───────────┴───┴───────────┴───────────┴───────────┴───────────┘"
      ]
     },
     "execution_count": 3,
     "metadata": {},
     "output_type": "execute_result"
    }
   ],
   "source": [
    "df.collect()"
   ]
  },
  {
   "cell_type": "markdown",
   "metadata": {},
   "source": [
    "# 2. **Data Cleaning**"
   ]
  },
  {
   "cell_type": "markdown",
   "metadata": {},
   "source": [
    "### 2.3. **Selecting necessary data**"
   ]
  },
  {
   "cell_type": "markdown",
   "metadata": {},
   "source": [
    "First, we already selected only those bids where `CD_TIPO_FASE_ATUAL=ADH`, which are the ones that have been approved, according to the TCE [documentation](https://tcers.tc.br/repo/cex/licitacon/eValidador_LicitaCon_Manual_Leiaute_1.4.pdf) in page 27."
   ]
  },
  {
   "cell_type": "markdown",
   "metadata": {},
   "source": [
    "Let's drop some columns based on the descriptions we have for them in `colums_definitions/licitations.md`. It's worth noting that several columns have already been dropped, as we are extracting the data with the script `get_data_tce.py`"
   ]
  },
  {
   "cell_type": "code",
   "execution_count": 5,
   "metadata": {},
   "outputs": [
    {
     "data": {
      "text/plain": [
       "['CD_ORGAO',\n",
       " 'NM_ORGAO',\n",
       " 'NR_LICITACAO',\n",
       " 'ANO_LICITACAO',\n",
       " 'CD_TIPO_MODALIDADE',\n",
       " 'NR_COMISSAO',\n",
       " 'TP_OBJETO',\n",
       " 'CD_TIPO_FASE_ATUAL',\n",
       " 'TP_LICITACAO',\n",
       " 'TP_NIVEL_JULGAMENTO',\n",
       " 'TP_CARACTERISTICA_OBJETO',\n",
       " 'TP_NATUREZA',\n",
       " 'DS_OBJETO',\n",
       " 'VL_LICITACAO',\n",
       " 'BL_PERMITE_CONSORCIO',\n",
       " 'DT_ABERTURA',\n",
       " 'DT_HOMOLOGACAO',\n",
       " 'DT_ADJUDICACAO',\n",
       " 'BL_LICIT_PROPRIA_ORGAO',\n",
       " 'VL_HOMOLOGADO',\n",
       " 'DS_OBSERVACAO']"
      ]
     },
     "execution_count": 5,
     "metadata": {},
     "output_type": "execute_result"
    }
   ],
   "source": [
    "df.columns"
   ]
  },
  {
   "cell_type": "code",
   "execution_count": 6,
   "metadata": {},
   "outputs": [],
   "source": [
    "cols_to_keep = [\n",
    "    \"CD_ORGAO\",\n",
    "    \"NM_ORGAO\",\n",
    "    \"ANO_LICITACAO\",\n",
    "    \"DS_OBJETO\",\n",
    "    \"VL_LICITACAO\",\n",
    "    \"DT_HOMOLOGACAO\",\n",
    "    \"VL_HOMOLOGADO\",\n",
    "]\n"
   ]
  },
  {
   "cell_type": "code",
   "execution_count": 7,
   "metadata": {},
   "outputs": [],
   "source": [
    "df = df.select(cols_to_keep).unique() # unique is the same as dropduplicates from pandas or pyspark"
   ]
  },
  {
   "cell_type": "markdown",
   "metadata": {},
   "source": [
    "We still have null values, but we'll only remove them latter on, when we're creating the EDA (Exploratory Data Analysis)."
   ]
  },
  {
   "cell_type": "markdown",
   "metadata": {},
   "source": [
    "### 2.2. **Asserting the correct data types**"
   ]
  },
  {
   "cell_type": "code",
   "execution_count": 8,
   "metadata": {},
   "outputs": [
    {
     "data": {
      "text/plain": [
       "OrderedDict([('CD_ORGAO', String),\n",
       "             ('NM_ORGAO', String),\n",
       "             ('ANO_LICITACAO', String),\n",
       "             ('DS_OBJETO', String),\n",
       "             ('VL_LICITACAO', Float64),\n",
       "             ('DT_HOMOLOGACAO', String),\n",
       "             ('VL_HOMOLOGADO', String)])"
      ]
     },
     "execution_count": 8,
     "metadata": {},
     "output_type": "execute_result"
    }
   ],
   "source": [
    "df.schema"
   ]
  },
  {
   "cell_type": "markdown",
   "metadata": {},
   "source": [
    "**CD_ORGAO**"
   ]
  },
  {
   "cell_type": "code",
   "execution_count": 9,
   "metadata": {},
   "outputs": [],
   "source": [
    "df = df.with_columns(\n",
    "    pl.col(\"CD_ORGAO\").cast(pl.Int64)\n",
    ")"
   ]
  },
  {
   "cell_type": "markdown",
   "metadata": {},
   "source": [
    "**ANO_LICITACAO**"
   ]
  },
  {
   "cell_type": "code",
   "execution_count": 10,
   "metadata": {},
   "outputs": [],
   "source": [
    "df = df.filter(~pl.col(\"ANO_LICITACAO\").is_in([\"PRD\", \"PDE\"]))\n",
    "\n",
    "df = df.with_columns(\n",
    "    pl.col(\"ANO_LICITACAO\").replace({\"2023.0\": \"2023\", \"2024.0\": \"2024\"})\n",
    ")"
   ]
  },
  {
   "cell_type": "code",
   "execution_count": 11,
   "metadata": {},
   "outputs": [],
   "source": [
    "df = df.with_columns(\n",
    "    pl.col(\"ANO_LICITACAO\").cast(pl.Int64)\n",
    ")"
   ]
  },
  {
   "cell_type": "markdown",
   "metadata": {},
   "source": [
    "**DT_HOMOLOGACAO**"
   ]
  },
  {
   "cell_type": "code",
   "execution_count": 12,
   "metadata": {},
   "outputs": [],
   "source": [
    "df = (\n",
    "    df\n",
    "    .with_columns(\n",
    "        pl.col('DT_HOMOLOGACAO')\n",
    "        .str.strptime(pl.Date,\n",
    "                      format=\"%Y-%m-%d\",\n",
    "                      strict=False)\n",
    "        .alias('DT_HOMOLOGACAO')\n",
    "    )\n",
    ")"
   ]
  },
  {
   "cell_type": "markdown",
   "metadata": {},
   "source": [
    "**VL_HOMOLOGADO**"
   ]
  },
  {
   "cell_type": "code",
   "execution_count": 13,
   "metadata": {},
   "outputs": [],
   "source": [
    "df = df.filter(pl.col(\"DS_OBJETO\") != 'REGISTRO DE PREÇOS DE INSUMOS ')"
   ]
  },
  {
   "cell_type": "code",
   "execution_count": 14,
   "metadata": {},
   "outputs": [],
   "source": [
    "df = df.with_columns(\n",
    "    pl.col(\"VL_HOMOLOGADO\").cast(pl.Float64)\n",
    ")"
   ]
  },
  {
   "cell_type": "markdown",
   "metadata": {},
   "source": [
    "Checking the new data types:"
   ]
  },
  {
   "cell_type": "code",
   "execution_count": 15,
   "metadata": {},
   "outputs": [
    {
     "data": {
      "text/plain": [
       "OrderedDict([('CD_ORGAO', Int64),\n",
       "             ('NM_ORGAO', String),\n",
       "             ('ANO_LICITACAO', Int64),\n",
       "             ('DS_OBJETO', String),\n",
       "             ('VL_LICITACAO', Float64),\n",
       "             ('DT_HOMOLOGACAO', Date),\n",
       "             ('VL_HOMOLOGADO', Float64)])"
      ]
     },
     "execution_count": 15,
     "metadata": {},
     "output_type": "execute_result"
    }
   ],
   "source": [
    "df.schema"
   ]
  },
  {
   "cell_type": "markdown",
   "metadata": {},
   "source": [
    "### 2.3. **Dealing with null values**"
   ]
  },
  {
   "cell_type": "code",
   "execution_count": 16,
   "metadata": {},
   "outputs": [
    {
     "data": {
      "text/plain": [
       "{'CD_ORGAO': 0,\n",
       " 'NM_ORGAO': 0,\n",
       " 'ANO_LICITACAO': 0,\n",
       " 'DS_OBJETO': 0,\n",
       " 'VL_LICITACAO': 13373,\n",
       " 'DT_HOMOLOGACAO': 5928,\n",
       " 'VL_HOMOLOGADO': 138396}"
      ]
     },
     "execution_count": 16,
     "metadata": {},
     "output_type": "execute_result"
    }
   ],
   "source": [
    "# null values in df\n",
    "df.select(pl.all().is_null().sum()).collect().to_dicts()[0]"
   ]
  },
  {
   "cell_type": "markdown",
   "metadata": {},
   "source": [
    "For the `VL_HOMOLOGADO` the best approximation is the `VL_LICITACAO`, hence I'll replace those values:"
   ]
  },
  {
   "cell_type": "code",
   "execution_count": 17,
   "metadata": {},
   "outputs": [],
   "source": [
    "df = df.with_columns(\n",
    "    pl.col(\"VL_HOMOLOGADO\").fill_null(pl.col(\"VL_LICITACAO\"))\n",
    ")"
   ]
  },
  {
   "cell_type": "code",
   "execution_count": 18,
   "metadata": {},
   "outputs": [
    {
     "data": {
      "text/plain": [
       "{'CD_ORGAO': 0,\n",
       " 'NM_ORGAO': 0,\n",
       " 'ANO_LICITACAO': 0,\n",
       " 'DS_OBJETO': 0,\n",
       " 'VL_LICITACAO': 13373,\n",
       " 'DT_HOMOLOGACAO': 5928,\n",
       " 'VL_HOMOLOGADO': 8793}"
      ]
     },
     "execution_count": 18,
     "metadata": {},
     "output_type": "execute_result"
    }
   ],
   "source": [
    "# null values in df\n",
    "df.select(pl.all().is_null().sum()).collect().to_dicts()[0]"
   ]
  }
 ],
 "metadata": {
  "kernelspec": {
   "display_name": ".venv",
   "language": "python",
   "name": "python3"
  },
  "language_info": {
   "codemirror_mode": {
    "name": "ipython",
    "version": 3
   },
   "file_extension": ".py",
   "mimetype": "text/x-python",
   "name": "python",
   "nbconvert_exporter": "python",
   "pygments_lexer": "ipython3",
   "version": "3.10.12"
  }
 },
 "nbformat": 4,
 "nbformat_minor": 2
}
